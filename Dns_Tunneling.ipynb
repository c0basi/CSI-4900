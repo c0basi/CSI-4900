{
  "nbformat": 4,
  "nbformat_minor": 0,
  "metadata": {
    "colab": {
      "name": "Dns Tunneling",
      "provenance": []
    },
    "kernelspec": {
      "name": "python3",
      "display_name": "Python 3"
    },
    "language_info": {
      "name": "python"
    }
  },
  "cells": [
    {
      "cell_type": "code",
      "metadata": {
        "colab": {
          "base_uri": "https://localhost:8080/"
        },
        "id": "QNvSxzKHActx",
        "outputId": "4144724f-a09d-481d-c7f0-3ff55962358c"
      },
      "source": [
        "from google.colab import drive\n",
        "drive.mount('/content/drive')"
      ],
      "execution_count": 1,
      "outputs": [
        {
          "output_type": "stream",
          "name": "stdout",
          "text": [
            "Mounted at /content/drive\n"
          ]
        }
      ]
    },
    {
      "cell_type": "code",
      "metadata": {
        "id": "oVuyFdBQAm3b"
      },
      "source": [
        "import pandas as pd\n",
        "import numpy as np \n"
      ],
      "execution_count": 2,
      "outputs": []
    },
    {
      "cell_type": "code",
      "metadata": {
        "colab": {
          "base_uri": "https://localhost:8080/"
        },
        "id": "AAttW9R0ApI5",
        "outputId": "3b520d0c-ab7d-4ab1-c4b4-90928a60b743"
      },
      "source": [
        "path = '/content/drive/MyDrive/IodineExfiltrationAttackFQDNs.csv'\n",
        "df = pd.read_csv(path, header=None, names=['Encoded data'])\n",
        "df.describe"
      ],
      "execution_count": null,
      "outputs": [
        {
          "output_type": "execute_result",
          "data": {
            "text/plain": [
              "<bound method NDFrame.describe of                                               Encoded data\n",
              "0        b'0zaat\\xde\\xd0w4\\xe4j\\xef\\xd6\\xdfA\\xfc\\xcfY\\x...\n",
              "1        b'0zaabV2k5jsl\\xbf\\xecg\\xc9\\xddY\\xe6e\\xfcd\\xdb...\n",
              "2        b'0izacY\\xd3\\xd3\\xd4\\xfabbw07hU\\xc6u9\\xdd\\xfb\\...\n",
              "3        b'0yhbp82\\xbey\\xeeb\\xe1\\xfdaabacuaa\\xc31s\\xd2a...\n",
              "4        b'0qja7\\xe2\\xc3tpbae\\xedQW\\xf9pfZ\\xc36\\xc1j3\\x...\n",
              "...                                                    ...\n",
              "2284059  b'0q0a7\\xc5\\xd8\\xc6\\xcb\\xebUp\\xdd\\xe2\\xc8h\\xf6...\n",
              "2284060  b'0i2aw\\xdc\\xeb\\xd9T\\xf2\\xd0\\xc7h\\xbdEt\\xdar8t...\n",
              "2284061  b'0qgat82\\xbew\\xeesJ\\xf9aabacuqe1FPuabag\\xc6\\x...\n",
              "2284062  b'0veacfOz\\xcf\\xe9\\xc3\\xc6LqSJ\\xe3V\\xf2\\xd0N\\x...\n",
              "2284063  b'0ega582\\xbew\\xeesJ\\xf9aabacuqe1rv\\xe2abag\\xe...\n",
              "\n",
              "[2284064 rows x 1 columns]>"
            ]
          },
          "metadata": {},
          "execution_count": 3
        }
      ]
    },
    {
      "cell_type": "markdown",
      "metadata": {
        "id": "HFl6naU-A0_-"
      },
      "source": [
        "For our evaluation, let us take a sample size of 200,000"
      ]
    },
    {
      "cell_type": "code",
      "metadata": {
        "colab": {
          "base_uri": "https://localhost:8080/",
          "height": 419
        },
        "id": "x8-z45F6A7jf",
        "outputId": "7099ccfe-9c49-4ab7-de91-7c9cc7c068b8"
      },
      "source": [
        "newDf = df.sample(n=250000, random_state=8)\n",
        "newDf.astype(str)\n",
        "newDf"
      ],
      "execution_count": null,
      "outputs": [
        {
          "output_type": "execute_result",
          "data": {
            "text/html": [
              "<div>\n",
              "<style scoped>\n",
              "    .dataframe tbody tr th:only-of-type {\n",
              "        vertical-align: middle;\n",
              "    }\n",
              "\n",
              "    .dataframe tbody tr th {\n",
              "        vertical-align: top;\n",
              "    }\n",
              "\n",
              "    .dataframe thead th {\n",
              "        text-align: right;\n",
              "    }\n",
              "</style>\n",
              "<table border=\"1\" class=\"dataframe\">\n",
              "  <thead>\n",
              "    <tr style=\"text-align: right;\">\n",
              "      <th></th>\n",
              "      <th>Encoded data</th>\n",
              "    </tr>\n",
              "  </thead>\n",
              "  <tbody>\n",
              "    <tr>\n",
              "      <th>701735</th>\n",
              "      <td>b'0mtal\\xe1NaV\\xfa5\\xc3Q\\xc9\\xfc\\xc6\\xc9Wp\\xfc...</td>\n",
              "    </tr>\n",
              "    <tr>\n",
              "      <th>1701229</th>\n",
              "      <td>b'0bkblO\\xf4\\xefQn\\xd5\\xe5iK5\\xebHa\\xcc\\xed\\xe...</td>\n",
              "    </tr>\n",
              "    <tr>\n",
              "      <th>2185313</th>\n",
              "      <td>b'02vax7\\xc00v\\xcf\\xd4\\xbc1\\xf2dvH\\xcb\\xefcis\\...</td>\n",
              "    </tr>\n",
              "    <tr>\n",
              "      <th>1918725</th>\n",
              "      <td>b'0mvah\\xec\\xc4r\\xbf\\xc8\\xf1epWI0C\\xdb\\xd8X\\xe...</td>\n",
              "    </tr>\n",
              "    <tr>\n",
              "      <th>2051297</th>\n",
              "      <td>b'0alaj\\xe2\\xde\\xd7t\\xf0\\xfc2\\xear\\xf9\\xe8\\xf1...</td>\n",
              "    </tr>\n",
              "    <tr>\n",
              "      <th>...</th>\n",
              "      <td>...</td>\n",
              "    </tr>\n",
              "    <tr>\n",
              "      <th>117122</th>\n",
              "      <td>b'0faa4iC\\xfc\\xe7\\xd4\\xc0f\\xc4\\xe4J\\xbcZ\\xfc\\x...</td>\n",
              "    </tr>\n",
              "    <tr>\n",
              "      <th>1679625</th>\n",
              "      <td>b'03obq\\xceSq\\xd0l\\xd4\\xe3\\xd8\\xc5y\\xfc\\xfb\\xe...</td>\n",
              "    </tr>\n",
              "    <tr>\n",
              "      <th>2134408</th>\n",
              "      <td>b'0adb082\\xca2hb\\xbe\\xee\\xf0\\xd6gjk\\xfd\\xc1\\xb...</td>\n",
              "    </tr>\n",
              "    <tr>\n",
              "      <th>2109579</th>\n",
              "      <td>b'02mad\\xc0Q\\xbf\\xc6D\\xe3\\xd1\\xd4zK\\xfc\\xc6\\xf...</td>\n",
              "    </tr>\n",
              "    <tr>\n",
              "      <th>287925</th>\n",
              "      <td>b'0qva5t\\xd74\\xf5\\xc2G\\xd00\\xfaL\\xeaLlC\\xdda\\x...</td>\n",
              "    </tr>\n",
              "  </tbody>\n",
              "</table>\n",
              "<p>250000 rows × 1 columns</p>\n",
              "</div>"
            ],
            "text/plain": [
              "                                              Encoded data\n",
              "701735   b'0mtal\\xe1NaV\\xfa5\\xc3Q\\xc9\\xfc\\xc6\\xc9Wp\\xfc...\n",
              "1701229  b'0bkblO\\xf4\\xefQn\\xd5\\xe5iK5\\xebHa\\xcc\\xed\\xe...\n",
              "2185313  b'02vax7\\xc00v\\xcf\\xd4\\xbc1\\xf2dvH\\xcb\\xefcis\\...\n",
              "1918725  b'0mvah\\xec\\xc4r\\xbf\\xc8\\xf1epWI0C\\xdb\\xd8X\\xe...\n",
              "2051297  b'0alaj\\xe2\\xde\\xd7t\\xf0\\xfc2\\xear\\xf9\\xe8\\xf1...\n",
              "...                                                    ...\n",
              "117122   b'0faa4iC\\xfc\\xe7\\xd4\\xc0f\\xc4\\xe4J\\xbcZ\\xfc\\x...\n",
              "1679625  b'03obq\\xceSq\\xd0l\\xd4\\xe3\\xd8\\xc5y\\xfc\\xfb\\xe...\n",
              "2134408  b'0adb082\\xca2hb\\xbe\\xee\\xf0\\xd6gjk\\xfd\\xc1\\xb...\n",
              "2109579  b'02mad\\xc0Q\\xbf\\xc6D\\xe3\\xd1\\xd4zK\\xfc\\xc6\\xf...\n",
              "287925   b'0qva5t\\xd74\\xf5\\xc2G\\xd00\\xfaL\\xeaLlC\\xdda\\x...\n",
              "\n",
              "[250000 rows x 1 columns]"
            ]
          },
          "metadata": {},
          "execution_count": 4
        }
      ]
    },
    {
      "cell_type": "code",
      "metadata": {
        "colab": {
          "base_uri": "https://localhost:8080/",
          "height": 419
        },
        "id": "65UBcTkmBHGL",
        "outputId": "fdc7663a-b3cc-4f4c-dfb4-d0547123df7c"
      },
      "source": [
        "newDf = newDf.reset_index(drop=True)\n",
        "newDf"
      ],
      "execution_count": null,
      "outputs": [
        {
          "output_type": "execute_result",
          "data": {
            "text/html": [
              "<div>\n",
              "<style scoped>\n",
              "    .dataframe tbody tr th:only-of-type {\n",
              "        vertical-align: middle;\n",
              "    }\n",
              "\n",
              "    .dataframe tbody tr th {\n",
              "        vertical-align: top;\n",
              "    }\n",
              "\n",
              "    .dataframe thead th {\n",
              "        text-align: right;\n",
              "    }\n",
              "</style>\n",
              "<table border=\"1\" class=\"dataframe\">\n",
              "  <thead>\n",
              "    <tr style=\"text-align: right;\">\n",
              "      <th></th>\n",
              "      <th>Encoded data</th>\n",
              "    </tr>\n",
              "  </thead>\n",
              "  <tbody>\n",
              "    <tr>\n",
              "      <th>0</th>\n",
              "      <td>b'0mtal\\xe1NaV\\xfa5\\xc3Q\\xc9\\xfc\\xc6\\xc9Wp\\xfc...</td>\n",
              "    </tr>\n",
              "    <tr>\n",
              "      <th>1</th>\n",
              "      <td>b'0bkblO\\xf4\\xefQn\\xd5\\xe5iK5\\xebHa\\xcc\\xed\\xe...</td>\n",
              "    </tr>\n",
              "    <tr>\n",
              "      <th>2</th>\n",
              "      <td>b'02vax7\\xc00v\\xcf\\xd4\\xbc1\\xf2dvH\\xcb\\xefcis\\...</td>\n",
              "    </tr>\n",
              "    <tr>\n",
              "      <th>3</th>\n",
              "      <td>b'0mvah\\xec\\xc4r\\xbf\\xc8\\xf1epWI0C\\xdb\\xd8X\\xe...</td>\n",
              "    </tr>\n",
              "    <tr>\n",
              "      <th>4</th>\n",
              "      <td>b'0alaj\\xe2\\xde\\xd7t\\xf0\\xfc2\\xear\\xf9\\xe8\\xf1...</td>\n",
              "    </tr>\n",
              "    <tr>\n",
              "      <th>...</th>\n",
              "      <td>...</td>\n",
              "    </tr>\n",
              "    <tr>\n",
              "      <th>249995</th>\n",
              "      <td>b'0faa4iC\\xfc\\xe7\\xd4\\xc0f\\xc4\\xe4J\\xbcZ\\xfc\\x...</td>\n",
              "    </tr>\n",
              "    <tr>\n",
              "      <th>249996</th>\n",
              "      <td>b'03obq\\xceSq\\xd0l\\xd4\\xe3\\xd8\\xc5y\\xfc\\xfb\\xe...</td>\n",
              "    </tr>\n",
              "    <tr>\n",
              "      <th>249997</th>\n",
              "      <td>b'0adb082\\xca2hb\\xbe\\xee\\xf0\\xd6gjk\\xfd\\xc1\\xb...</td>\n",
              "    </tr>\n",
              "    <tr>\n",
              "      <th>249998</th>\n",
              "      <td>b'02mad\\xc0Q\\xbf\\xc6D\\xe3\\xd1\\xd4zK\\xfc\\xc6\\xf...</td>\n",
              "    </tr>\n",
              "    <tr>\n",
              "      <th>249999</th>\n",
              "      <td>b'0qva5t\\xd74\\xf5\\xc2G\\xd00\\xfaL\\xeaLlC\\xdda\\x...</td>\n",
              "    </tr>\n",
              "  </tbody>\n",
              "</table>\n",
              "<p>250000 rows × 1 columns</p>\n",
              "</div>"
            ],
            "text/plain": [
              "                                             Encoded data\n",
              "0       b'0mtal\\xe1NaV\\xfa5\\xc3Q\\xc9\\xfc\\xc6\\xc9Wp\\xfc...\n",
              "1       b'0bkblO\\xf4\\xefQn\\xd5\\xe5iK5\\xebHa\\xcc\\xed\\xe...\n",
              "2       b'02vax7\\xc00v\\xcf\\xd4\\xbc1\\xf2dvH\\xcb\\xefcis\\...\n",
              "3       b'0mvah\\xec\\xc4r\\xbf\\xc8\\xf1epWI0C\\xdb\\xd8X\\xe...\n",
              "4       b'0alaj\\xe2\\xde\\xd7t\\xf0\\xfc2\\xear\\xf9\\xe8\\xf1...\n",
              "...                                                   ...\n",
              "249995  b'0faa4iC\\xfc\\xe7\\xd4\\xc0f\\xc4\\xe4J\\xbcZ\\xfc\\x...\n",
              "249996  b'03obq\\xceSq\\xd0l\\xd4\\xe3\\xd8\\xc5y\\xfc\\xfb\\xe...\n",
              "249997  b'0adb082\\xca2hb\\xbe\\xee\\xf0\\xd6gjk\\xfd\\xc1\\xb...\n",
              "249998  b'02mad\\xc0Q\\xbf\\xc6D\\xe3\\xd1\\xd4zK\\xfc\\xc6\\xf...\n",
              "249999  b'0qva5t\\xd74\\xf5\\xc2G\\xd00\\xfaL\\xeaLlC\\xdda\\x...\n",
              "\n",
              "[250000 rows x 1 columns]"
            ]
          },
          "metadata": {},
          "execution_count": 5
        }
      ]
    },
    {
      "cell_type": "markdown",
      "metadata": {
        "id": "8noy6wWcBZtE"
      },
      "source": [
        "Let us create features for our dataset"
      ]
    },
    {
      "cell_type": "markdown",
      "metadata": {
        "id": "kNOuaue0BuLs"
      },
      "source": [
        "**Now let us create some helper funtions to obtain our features**"
      ]
    },
    {
      "cell_type": "code",
      "metadata": {
        "id": "i867_cAsBpsH"
      },
      "source": [
        "# function to count the number of digits\n",
        "def numOfDigits(input_string):\n",
        "  d=0\n",
        "  for c in input_string:\n",
        "    if c.isdigit():\n",
        "        d=d+1\n",
        "    else:\n",
        "      pass\n",
        "  return d"
      ],
      "execution_count": null,
      "outputs": []
    },
    {
      "cell_type": "code",
      "metadata": {
        "id": "_V5_LtgVB7r4"
      },
      "source": [
        "import re\n",
        "\n",
        "def countUppercase(input_string):\n",
        "  count = len(re.findall(r'[A-Z]',input_string))\n",
        "  return count\n"
      ],
      "execution_count": null,
      "outputs": []
    },
    {
      "cell_type": "code",
      "metadata": {
        "id": "TsMT6LjFB9s6"
      },
      "source": [
        "# count of labels in DNS query\n",
        "def numOfLables(input_query):\n",
        "    d=0\n",
        "    for c in input_query:\n",
        "        if c == '.':\n",
        "            d+=1\n",
        "    return d"
      ],
      "execution_count": null,
      "outputs": []
    },
    {
      "cell_type": "code",
      "metadata": {
        "id": "Mn2p1okqB_Re"
      },
      "source": [
        "# fucntion to calculate the length of the subdomain\n",
        "def countOfCharsinSubdomain(input_query):\n",
        "  return len(input_query) - 28"
      ],
      "execution_count": null,
      "outputs": []
    },
    {
      "cell_type": "code",
      "metadata": {
        "id": "UE3ozsf6CA0P"
      },
      "source": [
        "# fucntion to calculate the average length of the labels\n",
        "from statistics import mean\n",
        "\n",
        "def AvgLengthOfLabels(input_query):\n",
        "  query_list = input_query.split('.')\n",
        "  return(mean([len(i) for i in query_list]))\n",
        "  "
      ],
      "execution_count": null,
      "outputs": []
    },
    {
      "cell_type": "code",
      "metadata": {
        "id": "qwTGwe90CCLs"
      },
      "source": [
        "# function to calculate shannons entrophy\n",
        "import math\n",
        "def find_entropy(input_query):\n",
        "    if not input_query: \n",
        "        return 0 \n",
        "    entropy = 0\n",
        "    for x in range(256): \n",
        "        p_x = float(input_query.count(chr(x)))/len(input_query) \n",
        "        if p_x > 0: \n",
        "            entropy += - p_x*math.log(p_x, 2) \n",
        "    return entropy"
      ],
      "execution_count": null,
      "outputs": []
    },
    {
      "cell_type": "markdown",
      "metadata": {
        "id": "zw_Efxo2Dp7A"
      },
      "source": [
        "Now, let us split the data into train and test"
      ]
    },
    {
      "cell_type": "code",
      "metadata": {
        "colab": {
          "base_uri": "https://localhost:8080/"
        },
        "id": "pN1DVrVGEhqJ",
        "outputId": "d156e2eb-7b03-4f55-88a4-6932ff648b9b"
      },
      "source": [
        "# split the large dataset into train and test\n",
        "from sklearn.model_selection import train_test_split\n",
        "X_train, X_test = train_test_split(newDf, test_size = 0.3, random_state=55)\n",
        "# Look at the shape of the outputs\n",
        "print(X_train.shape)\n",
        "print(X_test.shape)"
      ],
      "execution_count": null,
      "outputs": [
        {
          "output_type": "stream",
          "name": "stdout",
          "text": [
            "(175000, 1)\n",
            "(75000, 1)\n"
          ]
        }
      ]
    },
    {
      "cell_type": "code",
      "metadata": {
        "colab": {
          "base_uri": "https://localhost:8080/"
        },
        "id": "wiZjJKKYyu1o",
        "outputId": "023cc257-32b3-4667-b62b-585f52d6db08"
      },
      "source": [
        "X_test.isna().any().any()"
      ],
      "execution_count": null,
      "outputs": [
        {
          "output_type": "execute_result",
          "data": {
            "text/plain": [
              "False"
            ]
          },
          "metadata": {},
          "execution_count": 30
        }
      ]
    },
    {
      "cell_type": "markdown",
      "metadata": {
        "id": "CIwOHWnxH3xj"
      },
      "source": [
        "**Preprocessing the training data**"
      ]
    },
    {
      "cell_type": "code",
      "metadata": {
        "colab": {
          "base_uri": "https://localhost:8080/",
          "height": 49
        },
        "id": "Q8zsH_NtE20g",
        "outputId": "7267e9fc-0a45-4ab4-b944-547d26e2baa6"
      },
      "source": [
        "# temp table\n",
        "columns = ['Encoded_data', 'Length_of_Subdomain', 'Number_of_Labels', 'Average_length_of_Labels', 'Count_of_Numbers', 'Count_of_UpperCase', 'Entrophy' ]\n",
        "tempFeatures = pd.DataFrame(columns=columns)\n",
        "tempFeatures"
      ],
      "execution_count": null,
      "outputs": [
        {
          "output_type": "execute_result",
          "data": {
            "text/html": [
              "<div>\n",
              "<style scoped>\n",
              "    .dataframe tbody tr th:only-of-type {\n",
              "        vertical-align: middle;\n",
              "    }\n",
              "\n",
              "    .dataframe tbody tr th {\n",
              "        vertical-align: top;\n",
              "    }\n",
              "\n",
              "    .dataframe thead th {\n",
              "        text-align: right;\n",
              "    }\n",
              "</style>\n",
              "<table border=\"1\" class=\"dataframe\">\n",
              "  <thead>\n",
              "    <tr style=\"text-align: right;\">\n",
              "      <th></th>\n",
              "      <th>Encoded_data</th>\n",
              "      <th>Length_of_Subdomain</th>\n",
              "      <th>Number_of_Labels</th>\n",
              "      <th>Average_length_of_Labels</th>\n",
              "      <th>Count_of_Numbers</th>\n",
              "      <th>Count_of_UpperCase</th>\n",
              "      <th>Entrophy</th>\n",
              "    </tr>\n",
              "  </thead>\n",
              "  <tbody>\n",
              "  </tbody>\n",
              "</table>\n",
              "</div>"
            ],
            "text/plain": [
              "Empty DataFrame\n",
              "Columns: [Encoded_data, Length_of_Subdomain, Number_of_Labels, Average_length_of_Labels, Count_of_Numbers, Count_of_UpperCase, Entrophy]\n",
              "Index: []"
            ]
          },
          "metadata": {},
          "execution_count": 15
        }
      ]
    },
    {
      "cell_type": "code",
      "metadata": {
        "id": "u5x_rtUZFBVQ"
      },
      "source": [
        "for index, row in X_train.iterrows():\n",
        "  tempFeatures = tempFeatures.append({\"Encoded_data\": row[0],\n",
        "                                      \"Length_of_Subdomain\": countOfCharsinSubdomain(row[0]),\n",
        "                                      \"Number_of_Labels\": numOfLables(row[0]), \n",
        "                                      \"Average_length_of_Labels\": AvgLengthOfLabels(row[0]), \n",
        "                                      \"Count_of_Numbers\": numOfDigits(row[0]) ,\n",
        "                                      \"Count_of_UpperCase\": countUppercase(row[0]),\n",
        "                                      \"Entrophy\": find_entropy(row[0])}, ignore_index=True)"
      ],
      "execution_count": null,
      "outputs": []
    },
    {
      "cell_type": "code",
      "metadata": {
        "id": "shNEycm4v9oJ"
      },
      "source": [
        "X_train = tempFeatures.copy()\n"
      ],
      "execution_count": null,
      "outputs": []
    },
    {
      "cell_type": "code",
      "metadata": {
        "colab": {
          "base_uri": "https://localhost:8080/",
          "height": 419
        },
        "id": "qe1sT2t9O35u",
        "outputId": "d322cf9e-2a6b-493c-f7f7-497b4ebf6f35"
      },
      "source": [
        "X_train"
      ],
      "execution_count": null,
      "outputs": [
        {
          "output_type": "execute_result",
          "data": {
            "text/html": [
              "<div>\n",
              "<style scoped>\n",
              "    .dataframe tbody tr th:only-of-type {\n",
              "        vertical-align: middle;\n",
              "    }\n",
              "\n",
              "    .dataframe tbody tr th {\n",
              "        vertical-align: top;\n",
              "    }\n",
              "\n",
              "    .dataframe thead th {\n",
              "        text-align: right;\n",
              "    }\n",
              "</style>\n",
              "<table border=\"1\" class=\"dataframe\">\n",
              "  <thead>\n",
              "    <tr style=\"text-align: right;\">\n",
              "      <th></th>\n",
              "      <th>Encoded_data</th>\n",
              "      <th>Length_of_Subdomain</th>\n",
              "      <th>Number_of_Labels</th>\n",
              "      <th>Average_length_of_Labels</th>\n",
              "      <th>Count_of_Numbers</th>\n",
              "      <th>Count_of_UpperCase</th>\n",
              "      <th>Entrophy</th>\n",
              "    </tr>\n",
              "  </thead>\n",
              "  <tbody>\n",
              "    <tr>\n",
              "      <th>0</th>\n",
              "      <td>b'03aaq\\xf2\\xbeG\\xc7\\xe0\\xc9\\xcc\\xca9N\\xe1D\\xe...</td>\n",
              "      <td>583</td>\n",
              "      <td>7</td>\n",
              "      <td>75.500</td>\n",
              "      <td>78</td>\n",
              "      <td>54</td>\n",
              "      <td>4.389699</td>\n",
              "    </tr>\n",
              "    <tr>\n",
              "      <th>1</th>\n",
              "      <td>b'0ihav82\\xbew\\xeesJ\\xf9aabacuqe1nZ\\xd2abag\\xe...</td>\n",
              "      <td>511</td>\n",
              "      <td>7</td>\n",
              "      <td>66.500</td>\n",
              "      <td>72</td>\n",
              "      <td>40</td>\n",
              "      <td>4.530118</td>\n",
              "    </tr>\n",
              "    <tr>\n",
              "      <th>2</th>\n",
              "      <td>b'0fkb4Q\\xecDFN\\xe8H\\xc4OmZ\\xd3D1\\xc1\\xbd\\xd9\\...</td>\n",
              "      <td>470</td>\n",
              "      <td>7</td>\n",
              "      <td>61.375</td>\n",
              "      <td>82</td>\n",
              "      <td>38</td>\n",
              "      <td>4.469136</td>\n",
              "    </tr>\n",
              "    <tr>\n",
              "      <th>3</th>\n",
              "      <td>b'0qua4U\\xbf\\xddOgB\\xce\\xfdf\\xe1\\xd6M\\xf9\\xf9G...</td>\n",
              "      <td>562</td>\n",
              "      <td>7</td>\n",
              "      <td>72.875</td>\n",
              "      <td>75</td>\n",
              "      <td>49</td>\n",
              "      <td>4.481219</td>\n",
              "    </tr>\n",
              "    <tr>\n",
              "      <th>4</th>\n",
              "      <td>b'0ema3EX\\xca3\\xf1QK\\xd8\\xd62\\xd6Se\\xef\\xe3En\\...</td>\n",
              "      <td>598</td>\n",
              "      <td>7</td>\n",
              "      <td>77.375</td>\n",
              "      <td>96</td>\n",
              "      <td>41</td>\n",
              "      <td>4.311626</td>\n",
              "    </tr>\n",
              "    <tr>\n",
              "      <th>...</th>\n",
              "      <td>...</td>\n",
              "      <td>...</td>\n",
              "      <td>...</td>\n",
              "      <td>...</td>\n",
              "      <td>...</td>\n",
              "      <td>...</td>\n",
              "      <td>...</td>\n",
              "    </tr>\n",
              "    <tr>\n",
              "      <th>174995</th>\n",
              "      <td>b'0q0ah\\xebb6\\xe5\\xd3\\xc1m\\xcb\\xcf\\xd6\\xe90\\xf...</td>\n",
              "      <td>577</td>\n",
              "      <td>7</td>\n",
              "      <td>74.750</td>\n",
              "      <td>89</td>\n",
              "      <td>49</td>\n",
              "      <td>4.426524</td>\n",
              "    </tr>\n",
              "    <tr>\n",
              "      <th>174996</th>\n",
              "      <td>b'0vkbry\\xf4Pij\\xd5\\xfb\\xf1\\xe9\\xd7\\xf0\\xc2AFc...</td>\n",
              "      <td>476</td>\n",
              "      <td>7</td>\n",
              "      <td>62.125</td>\n",
              "      <td>74</td>\n",
              "      <td>38</td>\n",
              "      <td>4.493035</td>\n",
              "    </tr>\n",
              "    <tr>\n",
              "      <th>174997</th>\n",
              "      <td>b'02va4H\\xda\\xc6Ewn\\xe7\\xf6\\xe8y\\xf3\\xca\\xca2\\...</td>\n",
              "      <td>601</td>\n",
              "      <td>7</td>\n",
              "      <td>77.750</td>\n",
              "      <td>105</td>\n",
              "      <td>41</td>\n",
              "      <td>4.335566</td>\n",
              "    </tr>\n",
              "    <tr>\n",
              "      <th>174998</th>\n",
              "      <td>b'0bkb5\\xca\\xdftO\\xdd\\xebo\\xc4iVj\\xfdn\\xf94Y\\x...</td>\n",
              "      <td>518</td>\n",
              "      <td>7</td>\n",
              "      <td>67.375</td>\n",
              "      <td>69</td>\n",
              "      <td>36</td>\n",
              "      <td>4.230303</td>\n",
              "    </tr>\n",
              "    <tr>\n",
              "      <th>174999</th>\n",
              "      <td>b'0mvat\\xc4\\xe1\\xd2z\\xd4\\xc4\\xd6D\\xdf\\xe4zMKqW...</td>\n",
              "      <td>631</td>\n",
              "      <td>7</td>\n",
              "      <td>81.500</td>\n",
              "      <td>91</td>\n",
              "      <td>42</td>\n",
              "      <td>4.219021</td>\n",
              "    </tr>\n",
              "  </tbody>\n",
              "</table>\n",
              "<p>175000 rows × 7 columns</p>\n",
              "</div>"
            ],
            "text/plain": [
              "                                             Encoded_data  ...  Entrophy\n",
              "0       b'03aaq\\xf2\\xbeG\\xc7\\xe0\\xc9\\xcc\\xca9N\\xe1D\\xe...  ...  4.389699\n",
              "1       b'0ihav82\\xbew\\xeesJ\\xf9aabacuqe1nZ\\xd2abag\\xe...  ...  4.530118\n",
              "2       b'0fkb4Q\\xecDFN\\xe8H\\xc4OmZ\\xd3D1\\xc1\\xbd\\xd9\\...  ...  4.469136\n",
              "3       b'0qua4U\\xbf\\xddOgB\\xce\\xfdf\\xe1\\xd6M\\xf9\\xf9G...  ...  4.481219\n",
              "4       b'0ema3EX\\xca3\\xf1QK\\xd8\\xd62\\xd6Se\\xef\\xe3En\\...  ...  4.311626\n",
              "...                                                   ...  ...       ...\n",
              "174995  b'0q0ah\\xebb6\\xe5\\xd3\\xc1m\\xcb\\xcf\\xd6\\xe90\\xf...  ...  4.426524\n",
              "174996  b'0vkbry\\xf4Pij\\xd5\\xfb\\xf1\\xe9\\xd7\\xf0\\xc2AFc...  ...  4.493035\n",
              "174997  b'02va4H\\xda\\xc6Ewn\\xe7\\xf6\\xe8y\\xf3\\xca\\xca2\\...  ...  4.335566\n",
              "174998  b'0bkb5\\xca\\xdftO\\xdd\\xebo\\xc4iVj\\xfdn\\xf94Y\\x...  ...  4.230303\n",
              "174999  b'0mvat\\xc4\\xe1\\xd2z\\xd4\\xc4\\xd6D\\xdf\\xe4zMKqW...  ...  4.219021\n",
              "\n",
              "[175000 rows x 7 columns]"
            ]
          },
          "metadata": {},
          "execution_count": 53
        }
      ]
    },
    {
      "cell_type": "code",
      "metadata": {
        "id": "y4mPaLdyMNWP"
      },
      "source": [
        "X_train.to_csv(\"/content/drive/MyDrive/Train_Data.csv\", index=False)"
      ],
      "execution_count": null,
      "outputs": []
    },
    {
      "cell_type": "code",
      "metadata": {
        "id": "vnP9YPRG7UyO"
      },
      "source": [
        "X_train = pd.read_csv(\"/content/drive/MyDrive/Train_Data.csv\")"
      ],
      "execution_count": 4,
      "outputs": []
    },
    {
      "cell_type": "markdown",
      "metadata": {
        "id": "HlHObxgzFzVc"
      },
      "source": [
        "Let us explore our features"
      ]
    },
    {
      "cell_type": "code",
      "metadata": {
        "colab": {
          "base_uri": "https://localhost:8080/"
        },
        "id": "LHG5HPSCGJkw",
        "outputId": "f3571085-ca8a-4aab-ac78-23380d5b87e1"
      },
      "source": [
        "X_train['Number_of_Labels'].nunique()"
      ],
      "execution_count": 6,
      "outputs": [
        {
          "output_type": "execute_result",
          "data": {
            "text/plain": [
              "4"
            ]
          },
          "metadata": {},
          "execution_count": 6
        }
      ]
    },
    {
      "cell_type": "code",
      "metadata": {
        "colab": {
          "base_uri": "https://localhost:8080/",
          "height": 363
        },
        "id": "lcrj5mCLF2JH",
        "outputId": "c81a78eb-d652-4f05-a182-086e67dcceed"
      },
      "source": [
        "import matplotlib.pyplot as plt\n",
        "counts = X_train['Number_of_Labels'].value_counts()\n",
        "print(counts)\n",
        "counts.plot(kind = 'bar',color = [\"green\",\"red\", \"purple\", \"yellow\"])\n",
        "plt.title('Label Plot')\n",
        "plt.show()\n"
      ],
      "execution_count": null,
      "outputs": [
        {
          "output_type": "stream",
          "name": "stdout",
          "text": [
            "7    166767\n",
            "6      4246\n",
            "5      3560\n",
            "4       427\n",
            "Name: Number_of_Labels, dtype: int64\n"
          ]
        },
        {
          "output_type": "display_data",
          "data": {
            "image/png": "[encoded data removed]",
            "text/plain": [
              "<Figure size 432x288 with 1 Axes>"
            ]
          },
          "metadata": {
            "needs_background": "light"
          }
        }
      ]
    },
    {
      "cell_type": "markdown",
      "metadata": {
        "id": "sJ7i56aYwUMK"
      },
      "source": [
        "This is understandable because most DNS attacks are encrypted, and longer DNS queries are indicative of data being exfiltrated"
      ]
    },
    {
      "cell_type": "code",
      "metadata": {
        "colab": {
          "base_uri": "https://localhost:8080/"
        },
        "id": "WykjZgWE0ne9",
        "outputId": "d5e1c200-febb-407a-c0fa-4641617d9405"
      },
      "source": [
        "X_train['Count_of_UpperCase'].nunique()"
      ],
      "execution_count": null,
      "outputs": [
        {
          "output_type": "execute_result",
          "data": {
            "text/plain": [
              "73"
            ]
          },
          "metadata": {},
          "execution_count": 57
        }
      ]
    },
    {
      "cell_type": "code",
      "metadata": {
        "colab": {
          "base_uri": "https://localhost:8080/"
        },
        "id": "o27Fk2_JFzAG",
        "outputId": "6dbb3f69-f4e0-447b-c653-2c48bd31a0fc"
      },
      "source": [
        "X_train['Average_length_of_Labels'].describe()"
      ],
      "execution_count": null,
      "outputs": [
        {
          "output_type": "execute_result",
          "data": {
            "text/plain": [
              "count    175000.000000\n",
              "mean         70.601474\n",
              "std           8.795603\n",
              "min           8.600000\n",
              "25%          67.000000\n",
              "50%          72.875000\n",
              "75%          75.875000\n",
              "max          87.875000\n",
              "Name: Average_length_of_Labels, dtype: float64"
            ]
          },
          "metadata": {},
          "execution_count": 58
        }
      ]
    },
    {
      "cell_type": "markdown",
      "metadata": {
        "id": "GAfEJbpsGfJR"
      },
      "source": [
        "From this, we can see that the dns queries have similar label length"
      ]
    },
    {
      "cell_type": "code",
      "metadata": {
        "id": "zyjRSSS3zumK"
      },
      "source": [
        "null_data = X_train[X_train.isnull().any(axis=1)]"
      ],
      "execution_count": null,
      "outputs": []
    },
    {
      "cell_type": "code",
      "metadata": {
        "colab": {
          "base_uri": "https://localhost:8080/",
          "height": 49
        },
        "id": "qaigOOjszygu",
        "outputId": "c7ff6b5c-5eff-43a1-a7e5-68c5409befe5"
      },
      "source": [
        "null_data"
      ],
      "execution_count": null,
      "outputs": [
        {
          "output_type": "execute_result",
          "data": {
            "text/html": [
              "<div>\n",
              "<style scoped>\n",
              "    .dataframe tbody tr th:only-of-type {\n",
              "        vertical-align: middle;\n",
              "    }\n",
              "\n",
              "    .dataframe tbody tr th {\n",
              "        vertical-align: top;\n",
              "    }\n",
              "\n",
              "    .dataframe thead th {\n",
              "        text-align: right;\n",
              "    }\n",
              "</style>\n",
              "<table border=\"1\" class=\"dataframe\">\n",
              "  <thead>\n",
              "    <tr style=\"text-align: right;\">\n",
              "      <th></th>\n",
              "      <th>Encoded_data</th>\n",
              "      <th>Length_of_Subdomain</th>\n",
              "      <th>Number_of_Labels</th>\n",
              "      <th>Average_length_of_Labels</th>\n",
              "      <th>Count_of_Numbers</th>\n",
              "      <th>Count_of_UpperCase</th>\n",
              "      <th>Entrophy</th>\n",
              "    </tr>\n",
              "  </thead>\n",
              "  <tbody>\n",
              "  </tbody>\n",
              "</table>\n",
              "</div>"
            ],
            "text/plain": [
              "Empty DataFrame\n",
              "Columns: [Encoded_data, Length_of_Subdomain, Number_of_Labels, Average_length_of_Labels, Count_of_Numbers, Count_of_UpperCase, Entrophy]\n",
              "Index: []"
            ]
          },
          "metadata": {},
          "execution_count": 60
        }
      ]
    },
    {
      "cell_type": "code",
      "metadata": {
        "colab": {
          "base_uri": "https://localhost:8080/"
        },
        "id": "sFmWEHFz2rp4",
        "outputId": "8d3d0aa7-2ea6-41ce-b3d3-4b63b05b7f30"
      },
      "source": [
        "X_train.isnull().sum().sum()"
      ],
      "execution_count": 7,
      "outputs": [
        {
          "output_type": "execute_result",
          "data": {
            "text/plain": [
              "0"
            ]
          },
          "metadata": {},
          "execution_count": 7
        }
      ]
    },
    {
      "cell_type": "markdown",
      "metadata": {
        "id": "4zK5UugsHQ0s"
      },
      "source": [
        "**Feature Enginieering done**"
      ]
    },
    {
      "cell_type": "markdown",
      "metadata": {
        "id": "dB39n3i0HhJr"
      },
      "source": [
        "Let us obtain oly the features of our dataset to buil a ML model"
      ]
    },
    {
      "cell_type": "code",
      "metadata": {
        "colab": {
          "base_uri": "https://localhost:8080/",
          "height": 417
        },
        "id": "xv7qfZqwHEo7",
        "outputId": "bb377a32-e7e5-401c-bfa8-b372e155dc7a"
      },
      "source": [
        "train_data = X_train[['Length_of_Subdomain', 'Number_of_Labels',\n",
        "       'Average_length_of_Labels', 'Count_of_Numbers', 'Count_of_UpperCase',\n",
        "       'Entrophy']]\n",
        "train_data"
      ],
      "execution_count": 8,
      "outputs": [
        {
          "output_type": "execute_result",
          "data": {
            "text/html": [
              "<div>\n",
              "<style scoped>\n",
              "    .dataframe tbody tr th:only-of-type {\n",
              "        vertical-align: middle;\n",
              "    }\n",
              "\n",
              "    .dataframe tbody tr th {\n",
              "        vertical-align: top;\n",
              "    }\n",
              "\n",
              "    .dataframe thead th {\n",
              "        text-align: right;\n",
              "    }\n",
              "</style>\n",
              "<table border=\"1\" class=\"dataframe\">\n",
              "  <thead>\n",
              "    <tr style=\"text-align: right;\">\n",
              "      <th></th>\n",
              "      <th>Length_of_Subdomain</th>\n",
              "      <th>Number_of_Labels</th>\n",
              "      <th>Average_length_of_Labels</th>\n",
              "      <th>Count_of_Numbers</th>\n",
              "      <th>Count_of_UpperCase</th>\n",
              "      <th>Entrophy</th>\n",
              "    </tr>\n",
              "  </thead>\n",
              "  <tbody>\n",
              "    <tr>\n",
              "      <th>0</th>\n",
              "      <td>583</td>\n",
              "      <td>7</td>\n",
              "      <td>75.500</td>\n",
              "      <td>78</td>\n",
              "      <td>54</td>\n",
              "      <td>4.389699</td>\n",
              "    </tr>\n",
              "    <tr>\n",
              "      <th>1</th>\n",
              "      <td>511</td>\n",
              "      <td>7</td>\n",
              "      <td>66.500</td>\n",
              "      <td>72</td>\n",
              "      <td>40</td>\n",
              "      <td>4.530118</td>\n",
              "    </tr>\n",
              "    <tr>\n",
              "      <th>2</th>\n",
              "      <td>470</td>\n",
              "      <td>7</td>\n",
              "      <td>61.375</td>\n",
              "      <td>82</td>\n",
              "      <td>38</td>\n",
              "      <td>4.469136</td>\n",
              "    </tr>\n",
              "    <tr>\n",
              "      <th>3</th>\n",
              "      <td>562</td>\n",
              "      <td>7</td>\n",
              "      <td>72.875</td>\n",
              "      <td>75</td>\n",
              "      <td>49</td>\n",
              "      <td>4.481219</td>\n",
              "    </tr>\n",
              "    <tr>\n",
              "      <th>4</th>\n",
              "      <td>598</td>\n",
              "      <td>7</td>\n",
              "      <td>77.375</td>\n",
              "      <td>96</td>\n",
              "      <td>41</td>\n",
              "      <td>4.311626</td>\n",
              "    </tr>\n",
              "    <tr>\n",
              "      <th>...</th>\n",
              "      <td>...</td>\n",
              "      <td>...</td>\n",
              "      <td>...</td>\n",
              "      <td>...</td>\n",
              "      <td>...</td>\n",
              "      <td>...</td>\n",
              "    </tr>\n",
              "    <tr>\n",
              "      <th>174995</th>\n",
              "      <td>577</td>\n",
              "      <td>7</td>\n",
              "      <td>74.750</td>\n",
              "      <td>89</td>\n",
              "      <td>49</td>\n",
              "      <td>4.426524</td>\n",
              "    </tr>\n",
              "    <tr>\n",
              "      <th>174996</th>\n",
              "      <td>476</td>\n",
              "      <td>7</td>\n",
              "      <td>62.125</td>\n",
              "      <td>74</td>\n",
              "      <td>38</td>\n",
              "      <td>4.493035</td>\n",
              "    </tr>\n",
              "    <tr>\n",
              "      <th>174997</th>\n",
              "      <td>601</td>\n",
              "      <td>7</td>\n",
              "      <td>77.750</td>\n",
              "      <td>105</td>\n",
              "      <td>41</td>\n",
              "      <td>4.335566</td>\n",
              "    </tr>\n",
              "    <tr>\n",
              "      <th>174998</th>\n",
              "      <td>518</td>\n",
              "      <td>7</td>\n",
              "      <td>67.375</td>\n",
              "      <td>69</td>\n",
              "      <td>36</td>\n",
              "      <td>4.230303</td>\n",
              "    </tr>\n",
              "    <tr>\n",
              "      <th>174999</th>\n",
              "      <td>631</td>\n",
              "      <td>7</td>\n",
              "      <td>81.500</td>\n",
              "      <td>91</td>\n",
              "      <td>42</td>\n",
              "      <td>4.219021</td>\n",
              "    </tr>\n",
              "  </tbody>\n",
              "</table>\n",
              "<p>175000 rows × 6 columns</p>\n",
              "</div>"
            ],
            "text/plain": [
              "        Length_of_Subdomain  Number_of_Labels  ...  Count_of_UpperCase  Entrophy\n",
              "0                       583                 7  ...                  54  4.389699\n",
              "1                       511                 7  ...                  40  4.530118\n",
              "2                       470                 7  ...                  38  4.469136\n",
              "3                       562                 7  ...                  49  4.481219\n",
              "4                       598                 7  ...                  41  4.311626\n",
              "...                     ...               ...  ...                 ...       ...\n",
              "174995                  577                 7  ...                  49  4.426524\n",
              "174996                  476                 7  ...                  38  4.493035\n",
              "174997                  601                 7  ...                  41  4.335566\n",
              "174998                  518                 7  ...                  36  4.230303\n",
              "174999                  631                 7  ...                  42  4.219021\n",
              "\n",
              "[175000 rows x 6 columns]"
            ]
          },
          "metadata": {},
          "execution_count": 8
        }
      ]
    },
    {
      "cell_type": "markdown",
      "metadata": {
        "id": "f9e8InErH-4k"
      },
      "source": [
        "**Preprocessing the test data**"
      ]
    },
    {
      "cell_type": "code",
      "metadata": {
        "colab": {
          "base_uri": "https://localhost:8080/",
          "height": 49
        },
        "id": "LgqAnzrmIK2A",
        "outputId": "9614c14d-c9d6-4bbd-ff0f-ffe7af9084f6"
      },
      "source": [
        "# temp table\n",
        "columns = ['Encoded_data', 'Length_of_Subdomain', 'Number_of_Labels', 'Average_length_of_Labels', 'Count_of_Numbers', 'Count_of_UpperCase', 'Entrophy' ]\n",
        "tempFeatures2 = pd.DataFrame(columns=columns)\n",
        "tempFeatures2"
      ],
      "execution_count": null,
      "outputs": [
        {
          "output_type": "execute_result",
          "data": {
            "text/html": [
              "<div>\n",
              "<style scoped>\n",
              "    .dataframe tbody tr th:only-of-type {\n",
              "        vertical-align: middle;\n",
              "    }\n",
              "\n",
              "    .dataframe tbody tr th {\n",
              "        vertical-align: top;\n",
              "    }\n",
              "\n",
              "    .dataframe thead th {\n",
              "        text-align: right;\n",
              "    }\n",
              "</style>\n",
              "<table border=\"1\" class=\"dataframe\">\n",
              "  <thead>\n",
              "    <tr style=\"text-align: right;\">\n",
              "      <th></th>\n",
              "      <th>Encoded_data</th>\n",
              "      <th>Length_of_Subdomain</th>\n",
              "      <th>Number_of_Labels</th>\n",
              "      <th>Average_length_of_Labels</th>\n",
              "      <th>Count_of_Numbers</th>\n",
              "      <th>Count_of_UpperCase</th>\n",
              "      <th>Entrophy</th>\n",
              "    </tr>\n",
              "  </thead>\n",
              "  <tbody>\n",
              "  </tbody>\n",
              "</table>\n",
              "</div>"
            ],
            "text/plain": [
              "Empty DataFrame\n",
              "Columns: [Encoded_data, Length_of_Subdomain, Number_of_Labels, Average_length_of_Labels, Count_of_Numbers, Count_of_UpperCase, Entrophy]\n",
              "Index: []"
            ]
          },
          "metadata": {},
          "execution_count": 41
        }
      ]
    },
    {
      "cell_type": "code",
      "metadata": {
        "id": "FXH9cgLkIOQz"
      },
      "source": [
        "for index, row in X_test.iterrows():\n",
        "  tempFeatures2 = tempFeatures2.append({\"Encoded_data\": row[0],\n",
        "                                      \"Length_of_Subdomain\": countOfCharsinSubdomain(row[0]),\n",
        "                                      \"Number_of_Labels\": numOfLables(row[0]), \n",
        "                                      \"Average_length_of_Labels\": AvgLengthOfLabels(row[0]), \n",
        "                                      \"Count_of_Numbers\": numOfDigits(row[0]) ,\n",
        "                                      \"Count_of_UpperCase\": countUppercase(row[0]),\n",
        "                                      \"Entrophy\": find_entropy(row[0])}, ignore_index=True)\n",
        " "
      ],
      "execution_count": null,
      "outputs": []
    },
    {
      "cell_type": "code",
      "metadata": {
        "colab": {
          "base_uri": "https://localhost:8080/",
          "height": 419
        },
        "id": "9E2tr_2gNp42",
        "outputId": "35c0ff63-ddce-41fe-bd04-c67aa35fa007"
      },
      "source": [
        "tempFeatures2"
      ],
      "execution_count": null,
      "outputs": [
        {
          "output_type": "execute_result",
          "data": {
            "text/html": [
              "<div>\n",
              "<style scoped>\n",
              "    .dataframe tbody tr th:only-of-type {\n",
              "        vertical-align: middle;\n",
              "    }\n",
              "\n",
              "    .dataframe tbody tr th {\n",
              "        vertical-align: top;\n",
              "    }\n",
              "\n",
              "    .dataframe thead th {\n",
              "        text-align: right;\n",
              "    }\n",
              "</style>\n",
              "<table border=\"1\" class=\"dataframe\">\n",
              "  <thead>\n",
              "    <tr style=\"text-align: right;\">\n",
              "      <th></th>\n",
              "      <th>Encoded_data</th>\n",
              "      <th>Length_of_Subdomain</th>\n",
              "      <th>Number_of_Labels</th>\n",
              "      <th>Average_length_of_Labels</th>\n",
              "      <th>Count_of_Numbers</th>\n",
              "      <th>Count_of_UpperCase</th>\n",
              "      <th>Entrophy</th>\n",
              "    </tr>\n",
              "  </thead>\n",
              "  <tbody>\n",
              "    <tr>\n",
              "      <th>0</th>\n",
              "      <td>b'0qoacY2\\xeeAH\\xd4m\\xd0\\xd7\\xf6\\xdb\\xf0\\xbd\\x...</td>\n",
              "      <td>592</td>\n",
              "      <td>7</td>\n",
              "      <td>76.625</td>\n",
              "      <td>91</td>\n",
              "      <td>45</td>\n",
              "      <td>4.356736</td>\n",
              "    </tr>\n",
              "    <tr>\n",
              "      <th>1</th>\n",
              "      <td>b'0yqa8\\xcf\\xc9\\xd3JiG\\xbe\\xee\\xf8uV\\xe9\\xc8\\x...</td>\n",
              "      <td>613</td>\n",
              "      <td>7</td>\n",
              "      <td>79.250</td>\n",
              "      <td>95</td>\n",
              "      <td>47</td>\n",
              "      <td>4.268468</td>\n",
              "    </tr>\n",
              "    <tr>\n",
              "      <th>2</th>\n",
              "      <td>b'0vjbdv\\xd2b\\xc738\\xe2L\\xe3B\\xc1\\xebL\\xee\\xbf...</td>\n",
              "      <td>476</td>\n",
              "      <td>7</td>\n",
              "      <td>62.125</td>\n",
              "      <td>78</td>\n",
              "      <td>35</td>\n",
              "      <td>4.393889</td>\n",
              "    </tr>\n",
              "    <tr>\n",
              "      <th>3</th>\n",
              "      <td>b'0ucat82\\xbew\\xeesJ\\xf9aabacuqe1DxKabag\\xca\\x...</td>\n",
              "      <td>499</td>\n",
              "      <td>7</td>\n",
              "      <td>65.000</td>\n",
              "      <td>59</td>\n",
              "      <td>55</td>\n",
              "      <td>4.627084</td>\n",
              "    </tr>\n",
              "    <tr>\n",
              "      <th>4</th>\n",
              "      <td>b'0ula5Zo\\xd8\\xfdfg\\xf5\\xf8\\xea\\xe4W\\xcci\\xd0\\...</td>\n",
              "      <td>538</td>\n",
              "      <td>7</td>\n",
              "      <td>69.875</td>\n",
              "      <td>73</td>\n",
              "      <td>53</td>\n",
              "      <td>4.527153</td>\n",
              "    </tr>\n",
              "    <tr>\n",
              "      <th>...</th>\n",
              "      <td>...</td>\n",
              "      <td>...</td>\n",
              "      <td>...</td>\n",
              "      <td>...</td>\n",
              "      <td>...</td>\n",
              "      <td>...</td>\n",
              "      <td>...</td>\n",
              "    </tr>\n",
              "    <tr>\n",
              "      <th>74995</th>\n",
              "      <td>b'0bjbst\\xe048\\xd9\\xc6\\xd8K\\xf8\\xd3\\xd2I\\xc8YJ...</td>\n",
              "      <td>461</td>\n",
              "      <td>7</td>\n",
              "      <td>60.250</td>\n",
              "      <td>83</td>\n",
              "      <td>42</td>\n",
              "      <td>4.533155</td>\n",
              "    </tr>\n",
              "    <tr>\n",
              "      <th>74996</th>\n",
              "      <td>b'0eeah82\\xbew\\xeesJ\\xf9aabacuqe1m\\xc1Kabag\\xe...</td>\n",
              "      <td>499</td>\n",
              "      <td>7</td>\n",
              "      <td>65.000</td>\n",
              "      <td>85</td>\n",
              "      <td>48</td>\n",
              "      <td>4.656191</td>\n",
              "    </tr>\n",
              "    <tr>\n",
              "      <th>74997</th>\n",
              "      <td>b'0bcal\\xed5k\\xcd0M\\xdb\\xf6X\\xde\\xc1U\\xe1ZG\\xe...</td>\n",
              "      <td>583</td>\n",
              "      <td>7</td>\n",
              "      <td>75.500</td>\n",
              "      <td>100</td>\n",
              "      <td>49</td>\n",
              "      <td>4.393216</td>\n",
              "    </tr>\n",
              "    <tr>\n",
              "      <th>74998</th>\n",
              "      <td>b'0i2a7d\\xe8r\\xd6\\xe4\\xc4\\xbc4S\\xe9\\xe6\\xdf\\xc...</td>\n",
              "      <td>598</td>\n",
              "      <td>7</td>\n",
              "      <td>77.375</td>\n",
              "      <td>96</td>\n",
              "      <td>35</td>\n",
              "      <td>4.299324</td>\n",
              "    </tr>\n",
              "    <tr>\n",
              "      <th>74999</th>\n",
              "      <td>b'024a2\\xf0\\xea\\xfcIW\\xfdg1\\xcfu\\xf2\\xd9oW\\xd8...</td>\n",
              "      <td>595</td>\n",
              "      <td>7</td>\n",
              "      <td>77.000</td>\n",
              "      <td>103</td>\n",
              "      <td>41</td>\n",
              "      <td>4.310540</td>\n",
              "    </tr>\n",
              "  </tbody>\n",
              "</table>\n",
              "<p>75000 rows × 7 columns</p>\n",
              "</div>"
            ],
            "text/plain": [
              "                                            Encoded_data  ...  Entrophy\n",
              "0      b'0qoacY2\\xeeAH\\xd4m\\xd0\\xd7\\xf6\\xdb\\xf0\\xbd\\x...  ...  4.356736\n",
              "1      b'0yqa8\\xcf\\xc9\\xd3JiG\\xbe\\xee\\xf8uV\\xe9\\xc8\\x...  ...  4.268468\n",
              "2      b'0vjbdv\\xd2b\\xc738\\xe2L\\xe3B\\xc1\\xebL\\xee\\xbf...  ...  4.393889\n",
              "3      b'0ucat82\\xbew\\xeesJ\\xf9aabacuqe1DxKabag\\xca\\x...  ...  4.627084\n",
              "4      b'0ula5Zo\\xd8\\xfdfg\\xf5\\xf8\\xea\\xe4W\\xcci\\xd0\\...  ...  4.527153\n",
              "...                                                  ...  ...       ...\n",
              "74995  b'0bjbst\\xe048\\xd9\\xc6\\xd8K\\xf8\\xd3\\xd2I\\xc8YJ...  ...  4.533155\n",
              "74996  b'0eeah82\\xbew\\xeesJ\\xf9aabacuqe1m\\xc1Kabag\\xe...  ...  4.656191\n",
              "74997  b'0bcal\\xed5k\\xcd0M\\xdb\\xf6X\\xde\\xc1U\\xe1ZG\\xe...  ...  4.393216\n",
              "74998  b'0i2a7d\\xe8r\\xd6\\xe4\\xc4\\xbc4S\\xe9\\xe6\\xdf\\xc...  ...  4.299324\n",
              "74999  b'024a2\\xf0\\xea\\xfcIW\\xfdg1\\xcfu\\xf2\\xd9oW\\xd8...  ...  4.310540\n",
              "\n",
              "[75000 rows x 7 columns]"
            ]
          },
          "metadata": {},
          "execution_count": 49
        }
      ]
    },
    {
      "cell_type": "code",
      "metadata": {
        "id": "FSgosE5APq8s"
      },
      "source": [
        "X_test =  tempFeatures2.copy()"
      ],
      "execution_count": null,
      "outputs": []
    },
    {
      "cell_type": "code",
      "metadata": {
        "colab": {
          "base_uri": "https://localhost:8080/",
          "height": 419
        },
        "id": "qHshVe5iNLxV",
        "outputId": "c5cb7a37-912b-4f14-9035-6b07cd0edd17"
      },
      "source": [
        "X_test"
      ],
      "execution_count": null,
      "outputs": [
        {
          "output_type": "execute_result",
          "data": {
            "text/html": [
              "<div>\n",
              "<style scoped>\n",
              "    .dataframe tbody tr th:only-of-type {\n",
              "        vertical-align: middle;\n",
              "    }\n",
              "\n",
              "    .dataframe tbody tr th {\n",
              "        vertical-align: top;\n",
              "    }\n",
              "\n",
              "    .dataframe thead th {\n",
              "        text-align: right;\n",
              "    }\n",
              "</style>\n",
              "<table border=\"1\" class=\"dataframe\">\n",
              "  <thead>\n",
              "    <tr style=\"text-align: right;\">\n",
              "      <th></th>\n",
              "      <th>Encoded_data</th>\n",
              "      <th>Length_of_Subdomain</th>\n",
              "      <th>Number_of_Labels</th>\n",
              "      <th>Average_length_of_Labels</th>\n",
              "      <th>Count_of_Numbers</th>\n",
              "      <th>Count_of_UpperCase</th>\n",
              "      <th>Entrophy</th>\n",
              "    </tr>\n",
              "  </thead>\n",
              "  <tbody>\n",
              "    <tr>\n",
              "      <th>0</th>\n",
              "      <td>b'0qoacY2\\xeeAH\\xd4m\\xd0\\xd7\\xf6\\xdb\\xf0\\xbd\\x...</td>\n",
              "      <td>592</td>\n",
              "      <td>7</td>\n",
              "      <td>76.625</td>\n",
              "      <td>91</td>\n",
              "      <td>45</td>\n",
              "      <td>4.356736</td>\n",
              "    </tr>\n",
              "    <tr>\n",
              "      <th>1</th>\n",
              "      <td>b'0yqa8\\xcf\\xc9\\xd3JiG\\xbe\\xee\\xf8uV\\xe9\\xc8\\x...</td>\n",
              "      <td>613</td>\n",
              "      <td>7</td>\n",
              "      <td>79.250</td>\n",
              "      <td>95</td>\n",
              "      <td>47</td>\n",
              "      <td>4.268468</td>\n",
              "    </tr>\n",
              "    <tr>\n",
              "      <th>2</th>\n",
              "      <td>b'0vjbdv\\xd2b\\xc738\\xe2L\\xe3B\\xc1\\xebL\\xee\\xbf...</td>\n",
              "      <td>476</td>\n",
              "      <td>7</td>\n",
              "      <td>62.125</td>\n",
              "      <td>78</td>\n",
              "      <td>35</td>\n",
              "      <td>4.393889</td>\n",
              "    </tr>\n",
              "    <tr>\n",
              "      <th>3</th>\n",
              "      <td>b'0ucat82\\xbew\\xeesJ\\xf9aabacuqe1DxKabag\\xca\\x...</td>\n",
              "      <td>499</td>\n",
              "      <td>7</td>\n",
              "      <td>65.000</td>\n",
              "      <td>59</td>\n",
              "      <td>55</td>\n",
              "      <td>4.627084</td>\n",
              "    </tr>\n",
              "    <tr>\n",
              "      <th>4</th>\n",
              "      <td>b'0ula5Zo\\xd8\\xfdfg\\xf5\\xf8\\xea\\xe4W\\xcci\\xd0\\...</td>\n",
              "      <td>538</td>\n",
              "      <td>7</td>\n",
              "      <td>69.875</td>\n",
              "      <td>73</td>\n",
              "      <td>53</td>\n",
              "      <td>4.527153</td>\n",
              "    </tr>\n",
              "    <tr>\n",
              "      <th>...</th>\n",
              "      <td>...</td>\n",
              "      <td>...</td>\n",
              "      <td>...</td>\n",
              "      <td>...</td>\n",
              "      <td>...</td>\n",
              "      <td>...</td>\n",
              "      <td>...</td>\n",
              "    </tr>\n",
              "    <tr>\n",
              "      <th>74995</th>\n",
              "      <td>b'0bjbst\\xe048\\xd9\\xc6\\xd8K\\xf8\\xd3\\xd2I\\xc8YJ...</td>\n",
              "      <td>461</td>\n",
              "      <td>7</td>\n",
              "      <td>60.250</td>\n",
              "      <td>83</td>\n",
              "      <td>42</td>\n",
              "      <td>4.533155</td>\n",
              "    </tr>\n",
              "    <tr>\n",
              "      <th>74996</th>\n",
              "      <td>b'0eeah82\\xbew\\xeesJ\\xf9aabacuqe1m\\xc1Kabag\\xe...</td>\n",
              "      <td>499</td>\n",
              "      <td>7</td>\n",
              "      <td>65.000</td>\n",
              "      <td>85</td>\n",
              "      <td>48</td>\n",
              "      <td>4.656191</td>\n",
              "    </tr>\n",
              "    <tr>\n",
              "      <th>74997</th>\n",
              "      <td>b'0bcal\\xed5k\\xcd0M\\xdb\\xf6X\\xde\\xc1U\\xe1ZG\\xe...</td>\n",
              "      <td>583</td>\n",
              "      <td>7</td>\n",
              "      <td>75.500</td>\n",
              "      <td>100</td>\n",
              "      <td>49</td>\n",
              "      <td>4.393216</td>\n",
              "    </tr>\n",
              "    <tr>\n",
              "      <th>74998</th>\n",
              "      <td>b'0i2a7d\\xe8r\\xd6\\xe4\\xc4\\xbc4S\\xe9\\xe6\\xdf\\xc...</td>\n",
              "      <td>598</td>\n",
              "      <td>7</td>\n",
              "      <td>77.375</td>\n",
              "      <td>96</td>\n",
              "      <td>35</td>\n",
              "      <td>4.299324</td>\n",
              "    </tr>\n",
              "    <tr>\n",
              "      <th>74999</th>\n",
              "      <td>b'024a2\\xf0\\xea\\xfcIW\\xfdg1\\xcfu\\xf2\\xd9oW\\xd8...</td>\n",
              "      <td>595</td>\n",
              "      <td>7</td>\n",
              "      <td>77.000</td>\n",
              "      <td>103</td>\n",
              "      <td>41</td>\n",
              "      <td>4.310540</td>\n",
              "    </tr>\n",
              "  </tbody>\n",
              "</table>\n",
              "<p>75000 rows × 7 columns</p>\n",
              "</div>"
            ],
            "text/plain": [
              "                                            Encoded_data  ...  Entrophy\n",
              "0      b'0qoacY2\\xeeAH\\xd4m\\xd0\\xd7\\xf6\\xdb\\xf0\\xbd\\x...  ...  4.356736\n",
              "1      b'0yqa8\\xcf\\xc9\\xd3JiG\\xbe\\xee\\xf8uV\\xe9\\xc8\\x...  ...  4.268468\n",
              "2      b'0vjbdv\\xd2b\\xc738\\xe2L\\xe3B\\xc1\\xebL\\xee\\xbf...  ...  4.393889\n",
              "3      b'0ucat82\\xbew\\xeesJ\\xf9aabacuqe1DxKabag\\xca\\x...  ...  4.627084\n",
              "4      b'0ula5Zo\\xd8\\xfdfg\\xf5\\xf8\\xea\\xe4W\\xcci\\xd0\\...  ...  4.527153\n",
              "...                                                  ...  ...       ...\n",
              "74995  b'0bjbst\\xe048\\xd9\\xc6\\xd8K\\xf8\\xd3\\xd2I\\xc8YJ...  ...  4.533155\n",
              "74996  b'0eeah82\\xbew\\xeesJ\\xf9aabacuqe1m\\xc1Kabag\\xe...  ...  4.656191\n",
              "74997  b'0bcal\\xed5k\\xcd0M\\xdb\\xf6X\\xde\\xc1U\\xe1ZG\\xe...  ...  4.393216\n",
              "74998  b'0i2a7d\\xe8r\\xd6\\xe4\\xc4\\xbc4S\\xe9\\xe6\\xdf\\xc...  ...  4.299324\n",
              "74999  b'024a2\\xf0\\xea\\xfcIW\\xfdg1\\xcfu\\xf2\\xd9oW\\xd8...  ...  4.310540\n",
              "\n",
              "[75000 rows x 7 columns]"
            ]
          },
          "metadata": {},
          "execution_count": 69
        }
      ]
    },
    {
      "cell_type": "code",
      "metadata": {
        "id": "uCmAFa-nQ4q4"
      },
      "source": [
        "X_test.to_csv(\"/content/drive/MyDrive/Test_Data.csv\", index=False)"
      ],
      "execution_count": null,
      "outputs": []
    },
    {
      "cell_type": "code",
      "metadata": {
        "id": "4FX5u9OulhaD"
      },
      "source": [
        "X_test = pd.read_csv(\"/content/drive/MyDrive/Test_Data.csv\")# tag it "
      ],
      "execution_count": null,
      "outputs": []
    },
    {
      "cell_type": "code",
      "metadata": {
        "colab": {
          "base_uri": "https://localhost:8080/"
        },
        "id": "UmwBNBOuPzXL",
        "outputId": "c7885dfb-6ef0-4d2d-a3ff-c2fc8da33f4f"
      },
      "source": [
        "X_test.isnull().sum().sum()"
      ],
      "execution_count": null,
      "outputs": [
        {
          "output_type": "execute_result",
          "data": {
            "text/plain": [
              "0"
            ]
          },
          "metadata": {},
          "execution_count": 70
        }
      ]
    },
    {
      "cell_type": "code",
      "metadata": {
        "colab": {
          "base_uri": "https://localhost:8080/",
          "height": 417
        },
        "id": "s1OVcKRYIW-A",
        "outputId": "60568540-cd01-491e-9755-e43be07986e3"
      },
      "source": [
        "test_data = X_test[['Length_of_Subdomain', 'Number_of_Labels',\n",
        "       'Average_length_of_Labels', 'Count_of_Numbers', 'Count_of_UpperCase',\n",
        "       'Entrophy']]\n",
        "test_data"
      ],
      "execution_count": 11,
      "outputs": [
        {
          "output_type": "execute_result",
          "data": {
            "text/html": [
              "<div>\n",
              "<style scoped>\n",
              "    .dataframe tbody tr th:only-of-type {\n",
              "        vertical-align: middle;\n",
              "    }\n",
              "\n",
              "    .dataframe tbody tr th {\n",
              "        vertical-align: top;\n",
              "    }\n",
              "\n",
              "    .dataframe thead th {\n",
              "        text-align: right;\n",
              "    }\n",
              "</style>\n",
              "<table border=\"1\" class=\"dataframe\">\n",
              "  <thead>\n",
              "    <tr style=\"text-align: right;\">\n",
              "      <th></th>\n",
              "      <th>Length_of_Subdomain</th>\n",
              "      <th>Number_of_Labels</th>\n",
              "      <th>Average_length_of_Labels</th>\n",
              "      <th>Count_of_Numbers</th>\n",
              "      <th>Count_of_UpperCase</th>\n",
              "      <th>Entrophy</th>\n",
              "    </tr>\n",
              "  </thead>\n",
              "  <tbody>\n",
              "    <tr>\n",
              "      <th>0</th>\n",
              "      <td>592</td>\n",
              "      <td>7</td>\n",
              "      <td>76.625</td>\n",
              "      <td>91</td>\n",
              "      <td>45</td>\n",
              "      <td>4.356736</td>\n",
              "    </tr>\n",
              "    <tr>\n",
              "      <th>1</th>\n",
              "      <td>613</td>\n",
              "      <td>7</td>\n",
              "      <td>79.250</td>\n",
              "      <td>95</td>\n",
              "      <td>47</td>\n",
              "      <td>4.268468</td>\n",
              "    </tr>\n",
              "    <tr>\n",
              "      <th>2</th>\n",
              "      <td>476</td>\n",
              "      <td>7</td>\n",
              "      <td>62.125</td>\n",
              "      <td>78</td>\n",
              "      <td>35</td>\n",
              "      <td>4.393889</td>\n",
              "    </tr>\n",
              "    <tr>\n",
              "      <th>3</th>\n",
              "      <td>499</td>\n",
              "      <td>7</td>\n",
              "      <td>65.000</td>\n",
              "      <td>59</td>\n",
              "      <td>55</td>\n",
              "      <td>4.627084</td>\n",
              "    </tr>\n",
              "    <tr>\n",
              "      <th>4</th>\n",
              "      <td>538</td>\n",
              "      <td>7</td>\n",
              "      <td>69.875</td>\n",
              "      <td>73</td>\n",
              "      <td>53</td>\n",
              "      <td>4.527153</td>\n",
              "    </tr>\n",
              "    <tr>\n",
              "      <th>...</th>\n",
              "      <td>...</td>\n",
              "      <td>...</td>\n",
              "      <td>...</td>\n",
              "      <td>...</td>\n",
              "      <td>...</td>\n",
              "      <td>...</td>\n",
              "    </tr>\n",
              "    <tr>\n",
              "      <th>74995</th>\n",
              "      <td>461</td>\n",
              "      <td>7</td>\n",
              "      <td>60.250</td>\n",
              "      <td>83</td>\n",
              "      <td>42</td>\n",
              "      <td>4.533155</td>\n",
              "    </tr>\n",
              "    <tr>\n",
              "      <th>74996</th>\n",
              "      <td>499</td>\n",
              "      <td>7</td>\n",
              "      <td>65.000</td>\n",
              "      <td>85</td>\n",
              "      <td>48</td>\n",
              "      <td>4.656191</td>\n",
              "    </tr>\n",
              "    <tr>\n",
              "      <th>74997</th>\n",
              "      <td>583</td>\n",
              "      <td>7</td>\n",
              "      <td>75.500</td>\n",
              "      <td>100</td>\n",
              "      <td>49</td>\n",
              "      <td>4.393216</td>\n",
              "    </tr>\n",
              "    <tr>\n",
              "      <th>74998</th>\n",
              "      <td>598</td>\n",
              "      <td>7</td>\n",
              "      <td>77.375</td>\n",
              "      <td>96</td>\n",
              "      <td>35</td>\n",
              "      <td>4.299324</td>\n",
              "    </tr>\n",
              "    <tr>\n",
              "      <th>74999</th>\n",
              "      <td>595</td>\n",
              "      <td>7</td>\n",
              "      <td>77.000</td>\n",
              "      <td>103</td>\n",
              "      <td>41</td>\n",
              "      <td>4.310540</td>\n",
              "    </tr>\n",
              "  </tbody>\n",
              "</table>\n",
              "<p>75000 rows × 6 columns</p>\n",
              "</div>"
            ],
            "text/plain": [
              "       Length_of_Subdomain  Number_of_Labels  ...  Count_of_UpperCase  Entrophy\n",
              "0                      592                 7  ...                  45  4.356736\n",
              "1                      613                 7  ...                  47  4.268468\n",
              "2                      476                 7  ...                  35  4.393889\n",
              "3                      499                 7  ...                  55  4.627084\n",
              "4                      538                 7  ...                  53  4.527153\n",
              "...                    ...               ...  ...                 ...       ...\n",
              "74995                  461                 7  ...                  42  4.533155\n",
              "74996                  499                 7  ...                  48  4.656191\n",
              "74997                  583                 7  ...                  49  4.393216\n",
              "74998                  598                 7  ...                  35  4.299324\n",
              "74999                  595                 7  ...                  41  4.310540\n",
              "\n",
              "[75000 rows x 6 columns]"
            ]
          },
          "metadata": {},
          "execution_count": 11
        }
      ]
    },
    {
      "cell_type": "markdown",
      "metadata": {
        "id": "QMctx_maDc6A"
      },
      "source": [
        "**Since our dataset contains data for only one class. We shall use the one-class SVM**"
      ]
    },
    {
      "cell_type": "code",
      "metadata": {
        "id": "ssIgsnECDkw3"
      },
      "source": [
        "from sklearn.svm import OneClassSVM"
      ],
      "execution_count": 12,
      "outputs": []
    },
    {
      "cell_type": "code",
      "metadata": {
        "id": "xIOF4zUEYYIH"
      },
      "source": [
        "x = train_data.values"
      ],
      "execution_count": 13,
      "outputs": []
    },
    {
      "cell_type": "code",
      "metadata": {
        "colab": {
          "base_uri": "https://localhost:8080/"
        },
        "id": "8dRXQK56K78W",
        "outputId": "04577390-dd29-4542-d7cd-994a6371c493"
      },
      "source": [
        "len(x)"
      ],
      "execution_count": 18,
      "outputs": [
        {
          "output_type": "execute_result",
          "data": {
            "text/plain": [
              "175000"
            ]
          },
          "metadata": {},
          "execution_count": 18
        }
      ]
    },
    {
      "cell_type": "code",
      "metadata": {
        "id": "YaRT2W0wOM-M"
      },
      "source": [
        "clf = OneClassSVM(nu=0.1, kernel=\"rbf\", gamma=0.1)\n",
        "#clf = OneClassSVM(nu=0.1, kernel=\"rbf\", gamma=0.003)"
      ],
      "execution_count": 14,
      "outputs": []
    },
    {
      "cell_type": "code",
      "metadata": {
        "id": "YJJet5OLURii"
      },
      "source": [
        "from sklearn.metrics import recall_score\n",
        "# since it is a one class svm, we will use recall as our evaluation measure\n",
        "clf.fit(train_data)\n",
        "pred = clf.predict(train_data)"
      ],
      "execution_count": 15,
      "outputs": []
    },
    {
      "cell_type": "code",
      "metadata": {
        "id": "4KVWRQFpVeSh"
      },
      "source": [
        "# extract the negative outputs as the outliers\n",
        "from numpy import  where\n",
        "outlier_index = where(pred==-1)\n",
        "outliers = x[outlier_index]"
      ],
      "execution_count": 17,
      "outputs": []
    },
    {
      "cell_type": "code",
      "metadata": {
        "colab": {
          "base_uri": "https://localhost:8080/"
        },
        "id": "fmlbFfhFLWXw",
        "outputId": "47a4ef85-e42d-4a7e-a83a-083e957cb3eb"
      },
      "source": [
        "len(outliers)"
      ],
      "execution_count": 19,
      "outputs": [
        {
          "output_type": "execute_result",
          "data": {
            "text/plain": [
              "19142"
            ]
          },
          "metadata": {},
          "execution_count": 19
        }
      ]
    },
    {
      "cell_type": "markdown",
      "metadata": {
        "id": "p0qQyEFRLcxr"
      },
      "source": [
        "There were 19,142 misclassifed records"
      ]
    },
    {
      "cell_type": "markdown",
      "metadata": {
        "id": "T_-u3KXmMBhF"
      },
      "source": [
        "We will only be able to find the recall (TP/(TP+FN)), since we only have positive documents that can be classified as true positives (TP, i.e., OCSVM got it right) or false negatives (FN, i.ie, the OCSVM was wrong)."
      ]
    },
    {
      "cell_type": "code",
      "metadata": {
        "colab": {
          "base_uri": "https://localhost:8080/"
        },
        "id": "A7Cv-RvCYLje",
        "outputId": "1cd9cf74-d2bb-45fa-d085-ad1c5203fe9d"
      },
      "source": [
        "\n",
        "print(\"Recall for the training data is: \" +  str((len(x) -len(outliers))/len(x)))"
      ],
      "execution_count": 23,
      "outputs": [
        {
          "output_type": "stream",
          "name": "stdout",
          "text": [
            "Recall for the training data is: 0.8906171428571429\n"
          ]
        }
      ]
    },
    {
      "cell_type": "code",
      "metadata": {
        "id": "YoNuxSBeNpbC"
      },
      "source": [
        "y =test_data.values"
      ],
      "execution_count": 29,
      "outputs": []
    },
    {
      "cell_type": "code",
      "metadata": {
        "id": "qayIBAPGYyl8"
      },
      "source": [
        "test_pred = clf.predict(test_data)"
      ],
      "execution_count": 24,
      "outputs": []
    },
    {
      "cell_type": "code",
      "metadata": {
        "id": "ZCuKiMDmYyad"
      },
      "source": [
        "outlier_index = where(test_pred==-1)\n",
        "outliers = y[outlier_index]"
      ],
      "execution_count": 30,
      "outputs": []
    },
    {
      "cell_type": "code",
      "metadata": {
        "colab": {
          "base_uri": "https://localhost:8080/"
        },
        "id": "6QCrnsWVYyQ2",
        "outputId": "4e512e86-1e8b-4091-e10e-1fbed8f96dcc"
      },
      "source": [
        "len(outliers)"
      ],
      "execution_count": 31,
      "outputs": [
        {
          "output_type": "execute_result",
          "data": {
            "text/plain": [
              "10396"
            ]
          },
          "metadata": {},
          "execution_count": 31
        }
      ]
    },
    {
      "cell_type": "code",
      "metadata": {
        "colab": {
          "base_uri": "https://localhost:8080/"
        },
        "id": "DNcOnxWZNY9T",
        "outputId": "11c6cdcd-6214-4c89-faf4-45876b536f24"
      },
      "source": [
        "print(\"Recall for the test data is: \" +  str((len(y) -len(outliers))/len(y)))"
      ],
      "execution_count": 33,
      "outputs": [
        {
          "output_type": "stream",
          "name": "stdout",
          "text": [
            "Recall for the test data is: 0.8613866666666666\n"
          ]
        }
      ]
    },
    {
      "cell_type": "markdown",
      "metadata": {
        "id": "4W5xIPO_QdUX"
      },
      "source": [
        "**Due to some features being significantly larger than others, let us try normalizing the features**"
      ]
    },
    {
      "cell_type": "code",
      "metadata": {
        "id": "P8z-KQpJQox5"
      },
      "source": [
        "# data normalization with sklearn\n",
        "from sklearn.preprocessing import MinMaxScaler\n",
        "# fit scaler on training data\n",
        "norm = MinMaxScaler().fit(train_data)\n",
        "# transform training data\n",
        "X_train_norm = norm.transform(train_data)"
      ],
      "execution_count": 34,
      "outputs": []
    },
    {
      "cell_type": "code",
      "metadata": {
        "colab": {
          "base_uri": "https://localhost:8080/"
        },
        "id": "sP1D2o1hSl7b",
        "outputId": "09c79367-f71a-4044-b0b9-fed322f8f3f7"
      },
      "source": [
        "X_train_norm"
      ],
      "execution_count": 44,
      "outputs": [
        {
          "output_type": "execute_result",
          "data": {
            "text/plain": [
              "array([[0.85067873, 1.        , 0.84389782, 0.64705882, 0.73611111,\n",
              "        0.42834596],\n",
              "       [0.74208145, 1.        , 0.73036897, 0.59663866, 0.54166667,\n",
              "        0.57258565],\n",
              "       [0.68024133, 1.        , 0.66572059, 0.68067227, 0.51388889,\n",
              "        0.50994446],\n",
              "       ...,\n",
              "       [0.87782805, 1.        , 0.87228004, 0.87394958, 0.55555556,\n",
              "        0.37274   ],\n",
              "       [0.75263952, 1.        , 0.7414065 , 0.57142857, 0.48611111,\n",
              "        0.26461273],\n",
              "       [0.92307692, 1.        , 0.91958373, 0.75630252, 0.56944444,\n",
              "        0.25302407]])"
            ]
          },
          "metadata": {},
          "execution_count": 44
        }
      ]
    },
    {
      "cell_type": "code",
      "metadata": {
        "id": "CjoJYWEWWn2D"
      },
      "source": [
        "clf = OneClassSVM(nu=0.1, kernel=\"rbf\", gamma=0.1)"
      ],
      "execution_count": 35,
      "outputs": []
    },
    {
      "cell_type": "code",
      "metadata": {
        "id": "TDVCsCkoWvhh"
      },
      "source": [
        "clf.fit(X_train_norm)\n",
        "pred = clf.predict(X_train_norm)"
      ],
      "execution_count": 38,
      "outputs": []
    },
    {
      "cell_type": "code",
      "metadata": {
        "id": "j3vyw4O8W3_Y"
      },
      "source": [
        "# extract the negative outputs as the outliers\n",
        "from numpy import  where\n",
        "outlier_index = where(pred==-1)\n",
        "outliers = X_train_norm[outlier_index]"
      ],
      "execution_count": 41,
      "outputs": []
    },
    {
      "cell_type": "code",
      "metadata": {
        "colab": {
          "base_uri": "https://localhost:8080/"
        },
        "id": "l7gS_lN8SOEQ",
        "outputId": "462bf0f9-d903-495b-9a58-30e7a7136ef8"
      },
      "source": [
        "len(outliers)"
      ],
      "execution_count": 42,
      "outputs": [
        {
          "output_type": "execute_result",
          "data": {
            "text/plain": [
              "17500"
            ]
          },
          "metadata": {},
          "execution_count": 42
        }
      ]
    },
    {
      "cell_type": "code",
      "metadata": {
        "colab": {
          "base_uri": "https://localhost:8080/"
        },
        "id": "1_5fehNkSsNw",
        "outputId": "576fc18d-b659-495a-ba23-b59f9aaba0a7"
      },
      "source": [
        "print(\"Recall for the normalized training data is: \" +  str((len(X_train_norm) -len(outliers))/len(X_train_norm)))"
      ],
      "execution_count": 45,
      "outputs": [
        {
          "output_type": "stream",
          "name": "stdout",
          "text": [
            "Recall for the normalized training data is: 0.9\n"
          ]
        }
      ]
    },
    {
      "cell_type": "code",
      "metadata": {
        "id": "f3x4cNSQS0EW"
      },
      "source": [
        "X_test_norm = norm.transform(test_data)"
      ],
      "execution_count": 46,
      "outputs": []
    },
    {
      "cell_type": "code",
      "metadata": {
        "id": "Dk1pcTnOS75O"
      },
      "source": [
        "pred = clf.predict(X_test_norm)"
      ],
      "execution_count": 47,
      "outputs": []
    },
    {
      "cell_type": "code",
      "metadata": {
        "id": "l9RiMd5NS-uU"
      },
      "source": [
        "# extract the negative outputs as the outliers\n",
        "from numpy import  where\n",
        "outlier_index = where(pred==-1)\n",
        "outliers = X_test_norm[outlier_index]"
      ],
      "execution_count": 48,
      "outputs": []
    },
    {
      "cell_type": "code",
      "metadata": {
        "colab": {
          "base_uri": "https://localhost:8080/"
        },
        "id": "lvPHyklTTZp5",
        "outputId": "2bf89cbb-41fc-4fc2-b9a5-e6febb957ee4"
      },
      "source": [
        "len(outliers)"
      ],
      "execution_count": 51,
      "outputs": [
        {
          "output_type": "execute_result",
          "data": {
            "text/plain": [
              "7469"
            ]
          },
          "metadata": {},
          "execution_count": 51
        }
      ]
    },
    {
      "cell_type": "code",
      "metadata": {
        "colab": {
          "base_uri": "https://localhost:8080/"
        },
        "id": "j-oaObw9TIXD",
        "outputId": "4750dcca-fbed-4330-cd55-d1f01be42c5b"
      },
      "source": [
        "print(\"Recall for the normalized test data is: \" +  str((len(X_test_norm) -len(outliers))/len(X_test_norm)))"
      ],
      "execution_count": 49,
      "outputs": [
        {
          "output_type": "stream",
          "name": "stdout",
          "text": [
            "Recall for the normalized test data is: 0.9004133333333333\n"
          ]
        }
      ]
    },
    {
      "cell_type": "markdown",
      "metadata": {
        "id": "6-62Kb3ATf_P"
      },
      "source": [
        "From this we can see that the normalized dataset perfromed slightly better than the unnormalized dataset.\n",
        "We obtain a recall of 0.9 for the one-class SVM."
      ]
    },
    {
      "cell_type": "code",
      "metadata": {
        "id": "uLxG5PySVNhW"
      },
      "source": [
        ""
      ],
      "execution_count": null,
      "outputs": []
    }
  ]
}