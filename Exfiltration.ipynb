{
 "cells": [
  {
   "cell_type": "code",
   "execution_count": 3,
   "metadata": {
    "id": "oVuyFdBQAm3b"
   },
   "outputs": [],
   "source": [
    "import pandas as pd\n",
    "import numpy as np \n"
   ]
  },
  {
   "cell_type": "code",
   "execution_count": 4,
   "metadata": {
    "colab": {
     "base_uri": "https://localhost:8080/"
    },
    "id": "AAttW9R0ApI5",
    "outputId": "fd44c48c-8beb-4aad-fb33-12ad7622af55"
   },
   "outputs": [
    {
     "data": {
      "text/html": [
       "<div>\n",
       "<style scoped>\n",
       "    .dataframe tbody tr th:only-of-type {\n",
       "        vertical-align: middle;\n",
       "    }\n",
       "\n",
       "    .dataframe tbody tr th {\n",
       "        vertical-align: top;\n",
       "    }\n",
       "\n",
       "    .dataframe thead th {\n",
       "        text-align: right;\n",
       "    }\n",
       "</style>\n",
       "<table border=\"1\" class=\"dataframe\">\n",
       "  <thead>\n",
       "    <tr style=\"text-align: right;\">\n",
       "      <th></th>\n",
       "      <th>Encoded data</th>\n",
       "    </tr>\n",
       "  </thead>\n",
       "  <tbody>\n",
       "    <tr>\n",
       "      <th>0</th>\n",
       "      <td>b'0zaat\\xde\\xd0w4\\xe4j\\xef\\xd6\\xdfA\\xfc\\xcfY\\x...</td>\n",
       "    </tr>\n",
       "    <tr>\n",
       "      <th>1</th>\n",
       "      <td>b'0zaabV2k5jsl\\xbf\\xecg\\xc9\\xddY\\xe6e\\xfcd\\xdb...</td>\n",
       "    </tr>\n",
       "    <tr>\n",
       "      <th>2</th>\n",
       "      <td>b'0izacY\\xd3\\xd3\\xd4\\xfabbw07hU\\xc6u9\\xdd\\xfb\\...</td>\n",
       "    </tr>\n",
       "    <tr>\n",
       "      <th>3</th>\n",
       "      <td>b'0yhbp82\\xbey\\xeeb\\xe1\\xfdaabacuaa\\xc31s\\xd2a...</td>\n",
       "    </tr>\n",
       "    <tr>\n",
       "      <th>4</th>\n",
       "      <td>b'0qja7\\xe2\\xc3tpbae\\xedQW\\xf9pfZ\\xc36\\xc1j3\\x...</td>\n",
       "    </tr>\n",
       "  </tbody>\n",
       "</table>\n",
       "</div>"
      ],
      "text/plain": [
       "                                        Encoded data\n",
       "0  b'0zaat\\xde\\xd0w4\\xe4j\\xef\\xd6\\xdfA\\xfc\\xcfY\\x...\n",
       "1  b'0zaabV2k5jsl\\xbf\\xecg\\xc9\\xddY\\xe6e\\xfcd\\xdb...\n",
       "2  b'0izacY\\xd3\\xd3\\xd4\\xfabbw07hU\\xc6u9\\xdd\\xfb\\...\n",
       "3  b'0yhbp82\\xbey\\xeeb\\xe1\\xfdaabacuaa\\xc31s\\xd2a...\n",
       "4  b'0qja7\\xe2\\xc3tpbae\\xedQW\\xf9pfZ\\xc36\\xc1j3\\x..."
      ]
     },
     "execution_count": 4,
     "metadata": {},
     "output_type": "execute_result"
    }
   ],
   "source": [
    "df = pd.read_csv(\"IodineExfiltrationAttackFQDNs.csv\", header=None, names=['Encoded data'])\n",
    "df.head(5)"
   ]
  },
  {
   "cell_type": "markdown",
   "metadata": {
    "id": "HFl6naU-A0_-"
   },
   "source": [
    "For our evaluation, let us take a sample size of 250,000\n",
    "\n",
    "\n"
   ]
  },
  {
   "cell_type": "code",
   "execution_count": 5,
   "metadata": {
    "colab": {
     "base_uri": "https://localhost:8080/",
     "height": 423
    },
    "id": "x8-z45F6A7jf",
    "outputId": "fbfaa501-1cb0-4a82-dcb8-ca59deea4f35"
   },
   "outputs": [
    {
     "data": {
      "text/html": [
       "<div>\n",
       "<style scoped>\n",
       "    .dataframe tbody tr th:only-of-type {\n",
       "        vertical-align: middle;\n",
       "    }\n",
       "\n",
       "    .dataframe tbody tr th {\n",
       "        vertical-align: top;\n",
       "    }\n",
       "\n",
       "    .dataframe thead th {\n",
       "        text-align: right;\n",
       "    }\n",
       "</style>\n",
       "<table border=\"1\" class=\"dataframe\">\n",
       "  <thead>\n",
       "    <tr style=\"text-align: right;\">\n",
       "      <th></th>\n",
       "      <th>Encoded data</th>\n",
       "    </tr>\n",
       "  </thead>\n",
       "  <tbody>\n",
       "    <tr>\n",
       "      <th>701735</th>\n",
       "      <td>b'0mtal\\xe1NaV\\xfa5\\xc3Q\\xc9\\xfc\\xc6\\xc9Wp\\xfc...</td>\n",
       "    </tr>\n",
       "    <tr>\n",
       "      <th>1701229</th>\n",
       "      <td>b'0bkblO\\xf4\\xefQn\\xd5\\xe5iK5\\xebHa\\xcc\\xed\\xe...</td>\n",
       "    </tr>\n",
       "    <tr>\n",
       "      <th>2185313</th>\n",
       "      <td>b'02vax7\\xc00v\\xcf\\xd4\\xbc1\\xf2dvH\\xcb\\xefcis\\...</td>\n",
       "    </tr>\n",
       "    <tr>\n",
       "      <th>1918725</th>\n",
       "      <td>b'0mvah\\xec\\xc4r\\xbf\\xc8\\xf1epWI0C\\xdb\\xd8X\\xe...</td>\n",
       "    </tr>\n",
       "    <tr>\n",
       "      <th>2051297</th>\n",
       "      <td>b'0alaj\\xe2\\xde\\xd7t\\xf0\\xfc2\\xear\\xf9\\xe8\\xf1...</td>\n",
       "    </tr>\n",
       "    <tr>\n",
       "      <th>...</th>\n",
       "      <td>...</td>\n",
       "    </tr>\n",
       "    <tr>\n",
       "      <th>117122</th>\n",
       "      <td>b'0faa4iC\\xfc\\xe7\\xd4\\xc0f\\xc4\\xe4J\\xbcZ\\xfc\\x...</td>\n",
       "    </tr>\n",
       "    <tr>\n",
       "      <th>1679625</th>\n",
       "      <td>b'03obq\\xceSq\\xd0l\\xd4\\xe3\\xd8\\xc5y\\xfc\\xfb\\xe...</td>\n",
       "    </tr>\n",
       "    <tr>\n",
       "      <th>2134408</th>\n",
       "      <td>b'0adb082\\xca2hb\\xbe\\xee\\xf0\\xd6gjk\\xfd\\xc1\\xb...</td>\n",
       "    </tr>\n",
       "    <tr>\n",
       "      <th>2109579</th>\n",
       "      <td>b'02mad\\xc0Q\\xbf\\xc6D\\xe3\\xd1\\xd4zK\\xfc\\xc6\\xf...</td>\n",
       "    </tr>\n",
       "    <tr>\n",
       "      <th>287925</th>\n",
       "      <td>b'0qva5t\\xd74\\xf5\\xc2G\\xd00\\xfaL\\xeaLlC\\xdda\\x...</td>\n",
       "    </tr>\n",
       "  </tbody>\n",
       "</table>\n",
       "<p>250000 rows × 1 columns</p>\n",
       "</div>"
      ],
      "text/plain": [
       "                                              Encoded data\n",
       "701735   b'0mtal\\xe1NaV\\xfa5\\xc3Q\\xc9\\xfc\\xc6\\xc9Wp\\xfc...\n",
       "1701229  b'0bkblO\\xf4\\xefQn\\xd5\\xe5iK5\\xebHa\\xcc\\xed\\xe...\n",
       "2185313  b'02vax7\\xc00v\\xcf\\xd4\\xbc1\\xf2dvH\\xcb\\xefcis\\...\n",
       "1918725  b'0mvah\\xec\\xc4r\\xbf\\xc8\\xf1epWI0C\\xdb\\xd8X\\xe...\n",
       "2051297  b'0alaj\\xe2\\xde\\xd7t\\xf0\\xfc2\\xear\\xf9\\xe8\\xf1...\n",
       "...                                                    ...\n",
       "117122   b'0faa4iC\\xfc\\xe7\\xd4\\xc0f\\xc4\\xe4J\\xbcZ\\xfc\\x...\n",
       "1679625  b'03obq\\xceSq\\xd0l\\xd4\\xe3\\xd8\\xc5y\\xfc\\xfb\\xe...\n",
       "2134408  b'0adb082\\xca2hb\\xbe\\xee\\xf0\\xd6gjk\\xfd\\xc1\\xb...\n",
       "2109579  b'02mad\\xc0Q\\xbf\\xc6D\\xe3\\xd1\\xd4zK\\xfc\\xc6\\xf...\n",
       "287925   b'0qva5t\\xd74\\xf5\\xc2G\\xd00\\xfaL\\xeaLlC\\xdda\\x...\n",
       "\n",
       "[250000 rows x 1 columns]"
      ]
     },
     "execution_count": 5,
     "metadata": {},
     "output_type": "execute_result"
    }
   ],
   "source": [
    "newDf = df.sample(n=250000, random_state=8)\n",
    "newDf.astype(str)\n",
    "newDf"
   ]
  },
  {
   "cell_type": "code",
   "execution_count": 6,
   "metadata": {
    "colab": {
     "base_uri": "https://localhost:8080/",
     "height": 423
    },
    "id": "65UBcTkmBHGL",
    "outputId": "bd1817fd-0574-4659-c94b-a7fc1e686309"
   },
   "outputs": [
    {
     "data": {
      "text/html": [
       "<div>\n",
       "<style scoped>\n",
       "    .dataframe tbody tr th:only-of-type {\n",
       "        vertical-align: middle;\n",
       "    }\n",
       "\n",
       "    .dataframe tbody tr th {\n",
       "        vertical-align: top;\n",
       "    }\n",
       "\n",
       "    .dataframe thead th {\n",
       "        text-align: right;\n",
       "    }\n",
       "</style>\n",
       "<table border=\"1\" class=\"dataframe\">\n",
       "  <thead>\n",
       "    <tr style=\"text-align: right;\">\n",
       "      <th></th>\n",
       "      <th>Encoded data</th>\n",
       "    </tr>\n",
       "  </thead>\n",
       "  <tbody>\n",
       "    <tr>\n",
       "      <th>0</th>\n",
       "      <td>b'0mtal\\xe1NaV\\xfa5\\xc3Q\\xc9\\xfc\\xc6\\xc9Wp\\xfc...</td>\n",
       "    </tr>\n",
       "    <tr>\n",
       "      <th>1</th>\n",
       "      <td>b'0bkblO\\xf4\\xefQn\\xd5\\xe5iK5\\xebHa\\xcc\\xed\\xe...</td>\n",
       "    </tr>\n",
       "    <tr>\n",
       "      <th>2</th>\n",
       "      <td>b'02vax7\\xc00v\\xcf\\xd4\\xbc1\\xf2dvH\\xcb\\xefcis\\...</td>\n",
       "    </tr>\n",
       "    <tr>\n",
       "      <th>3</th>\n",
       "      <td>b'0mvah\\xec\\xc4r\\xbf\\xc8\\xf1epWI0C\\xdb\\xd8X\\xe...</td>\n",
       "    </tr>\n",
       "    <tr>\n",
       "      <th>4</th>\n",
       "      <td>b'0alaj\\xe2\\xde\\xd7t\\xf0\\xfc2\\xear\\xf9\\xe8\\xf1...</td>\n",
       "    </tr>\n",
       "    <tr>\n",
       "      <th>...</th>\n",
       "      <td>...</td>\n",
       "    </tr>\n",
       "    <tr>\n",
       "      <th>249995</th>\n",
       "      <td>b'0faa4iC\\xfc\\xe7\\xd4\\xc0f\\xc4\\xe4J\\xbcZ\\xfc\\x...</td>\n",
       "    </tr>\n",
       "    <tr>\n",
       "      <th>249996</th>\n",
       "      <td>b'03obq\\xceSq\\xd0l\\xd4\\xe3\\xd8\\xc5y\\xfc\\xfb\\xe...</td>\n",
       "    </tr>\n",
       "    <tr>\n",
       "      <th>249997</th>\n",
       "      <td>b'0adb082\\xca2hb\\xbe\\xee\\xf0\\xd6gjk\\xfd\\xc1\\xb...</td>\n",
       "    </tr>\n",
       "    <tr>\n",
       "      <th>249998</th>\n",
       "      <td>b'02mad\\xc0Q\\xbf\\xc6D\\xe3\\xd1\\xd4zK\\xfc\\xc6\\xf...</td>\n",
       "    </tr>\n",
       "    <tr>\n",
       "      <th>249999</th>\n",
       "      <td>b'0qva5t\\xd74\\xf5\\xc2G\\xd00\\xfaL\\xeaLlC\\xdda\\x...</td>\n",
       "    </tr>\n",
       "  </tbody>\n",
       "</table>\n",
       "<p>250000 rows × 1 columns</p>\n",
       "</div>"
      ],
      "text/plain": [
       "                                             Encoded data\n",
       "0       b'0mtal\\xe1NaV\\xfa5\\xc3Q\\xc9\\xfc\\xc6\\xc9Wp\\xfc...\n",
       "1       b'0bkblO\\xf4\\xefQn\\xd5\\xe5iK5\\xebHa\\xcc\\xed\\xe...\n",
       "2       b'02vax7\\xc00v\\xcf\\xd4\\xbc1\\xf2dvH\\xcb\\xefcis\\...\n",
       "3       b'0mvah\\xec\\xc4r\\xbf\\xc8\\xf1epWI0C\\xdb\\xd8X\\xe...\n",
       "4       b'0alaj\\xe2\\xde\\xd7t\\xf0\\xfc2\\xear\\xf9\\xe8\\xf1...\n",
       "...                                                   ...\n",
       "249995  b'0faa4iC\\xfc\\xe7\\xd4\\xc0f\\xc4\\xe4J\\xbcZ\\xfc\\x...\n",
       "249996  b'03obq\\xceSq\\xd0l\\xd4\\xe3\\xd8\\xc5y\\xfc\\xfb\\xe...\n",
       "249997  b'0adb082\\xca2hb\\xbe\\xee\\xf0\\xd6gjk\\xfd\\xc1\\xb...\n",
       "249998  b'02mad\\xc0Q\\xbf\\xc6D\\xe3\\xd1\\xd4zK\\xfc\\xc6\\xf...\n",
       "249999  b'0qva5t\\xd74\\xf5\\xc2G\\xd00\\xfaL\\xeaLlC\\xdda\\x...\n",
       "\n",
       "[250000 rows x 1 columns]"
      ]
     },
     "execution_count": 6,
     "metadata": {},
     "output_type": "execute_result"
    }
   ],
   "source": [
    "newDf = newDf.reset_index(drop=True)\n",
    "newDf"
   ]
  },
  {
   "cell_type": "markdown",
   "metadata": {
    "id": "8noy6wWcBZtE"
   },
   "source": [
    "Let us create features for our dataset"
   ]
  },
  {
   "cell_type": "markdown",
   "metadata": {
    "id": "kNOuaue0BuLs"
   },
   "source": [
    "**Now let us create some helper funtions to obtain our features**"
   ]
  },
  {
   "cell_type": "code",
   "execution_count": 7,
   "metadata": {
    "id": "i867_cAsBpsH"
   },
   "outputs": [],
   "source": [
    "# function to count the number of digits\n",
    "def numOfDigits(input_string):\n",
    "    d=0\n",
    "    for c in input_string:\n",
    "        if c.isdigit():\n",
    "            d=d+1\n",
    "        else:\n",
    "            pass\n",
    "    return d"
   ]
  },
  {
   "cell_type": "code",
   "execution_count": 8,
   "metadata": {
    "id": "_V5_LtgVB7r4"
   },
   "outputs": [],
   "source": [
    "import re\n",
    "\n",
    "def countUppercase(input_string):\n",
    "    count = len(re.findall(r'[A-Z]',input_string))\n",
    "    return count\n"
   ]
  },
  {
   "cell_type": "code",
   "execution_count": 9,
   "metadata": {
    "id": "BnRhpTEBnon8"
   },
   "outputs": [],
   "source": [
    "def countLowerCase(input_string):\n",
    "    count = len(re.findall(r'[a-z]',input_string))\n",
    "    return count"
   ]
  },
  {
   "cell_type": "code",
   "execution_count": 10,
   "metadata": {
    "id": "TsMT6LjFB9s6"
   },
   "outputs": [],
   "source": [
    "# count of labels in DNS query\n",
    "def numOfLables(input_query):\n",
    "    d=0\n",
    "    for c in input_query:\n",
    "        if c == '.':\n",
    "            d+=1\n",
    "    return d"
   ]
  },
  {
   "cell_type": "code",
   "execution_count": 11,
   "metadata": {
    "id": "Mn2p1okqB_Re"
   },
   "outputs": [],
   "source": [
    "# fucntion to calculate the length of the subdomain\n",
    "def countOfCharsinSubdomain(input_query):\n",
    "    tempList = input_query.split('.')\n",
    "    sundomain = tempList[0:-2]\n",
    "    sd = ''.join([str(item) for item in sundomain])\n",
    "    return len(sd)"
   ]
  },
  {
   "cell_type": "code",
   "execution_count": 12,
   "metadata": {
    "id": "UE3ozsf6CA0P"
   },
   "outputs": [],
   "source": [
    "# fucntion to calculate the average length of the labels\n",
    "from statistics import mean\n",
    "\n",
    "def AvgLengthOfLabels(input_query):\n",
    "    query_list = input_query.split('.')\n",
    "    return(mean([len(i) for i in query_list]))\n",
    "  "
   ]
  },
  {
   "cell_type": "code",
   "execution_count": 13,
   "metadata": {
    "id": "cOHNLlPepfyp"
   },
   "outputs": [],
   "source": [
    "def maxLabelLength(input_query):\n",
    "    query_list = input_query.split('.')\n",
    "    return(max([len(i) for i in query_list]))"
   ]
  },
  {
   "cell_type": "code",
   "execution_count": 14,
   "metadata": {
    "id": "qwTGwe90CCLs"
   },
   "outputs": [],
   "source": [
    "# function to calculate shannons entrophy\n",
    "import math\n",
    "def find_entropy(input_query):\n",
    "    if not input_query: \n",
    "        return 0 \n",
    "    entropy = 0\n",
    "    for x in range(256): \n",
    "        p_x = float(input_query.count(chr(x)))/len(input_query) \n",
    "        if p_x > 0: \n",
    "            entropy += - p_x*math.log(p_x, 2) \n",
    "    return entropy"
   ]
  },
  {
   "cell_type": "code",
   "execution_count": 15,
   "metadata": {
    "id": "3fk8gA6tnc52"
   },
   "outputs": [],
   "source": [
    "def countSpecialChars(input_query):\n",
    "    special = 0\n",
    "    for i in range(len(input_query)):\n",
    "        if(not input_query[i].isalpha() and  not input_query[i].isdigit() and input_query[i] != '.'):\n",
    "            special +=1\n",
    "    return special"
   ]
  },
  {
   "cell_type": "code",
   "execution_count": 16,
   "metadata": {
    "id": "fcngFkaQq7j6"
   },
   "outputs": [],
   "source": [
    "def FQDN_count(input_query):\n",
    "    return len(input_query)"
   ]
  },
  {
   "cell_type": "code",
   "execution_count": 17,
   "metadata": {},
   "outputs": [
    {
     "name": "stdout",
     "output_type": "stream",
     "text": [
      "2\n"
     ]
    }
   ],
   "source": [
    "print(countUppercase(\"numOfDigits\"))"
   ]
  },
  {
   "cell_type": "code",
   "execution_count": null,
   "metadata": {},
   "outputs": [],
   "source": []
  },
  {
   "cell_type": "markdown",
   "metadata": {
    "id": "zw_Efxo2Dp7A"
   },
   "source": [
    "Now, let us split the data into train and test"
   ]
  },
  {
   "cell_type": "code",
   "execution_count": 18,
   "metadata": {
    "colab": {
     "base_uri": "https://localhost:8080/"
    },
    "id": "pN1DVrVGEhqJ",
    "outputId": "96ed8f2e-ed37-46cc-f8fa-998fc9f4617d"
   },
   "outputs": [
    {
     "name": "stdout",
     "output_type": "stream",
     "text": [
      "(175000, 1)\n",
      "(75000, 1)\n"
     ]
    }
   ],
   "source": [
    "# split the large dataset into train and test\n",
    "from sklearn.model_selection import train_test_split\n",
    "X_train, X_test = train_test_split(newDf, test_size = 0.3, random_state=55)\n",
    "# Look at the shape of the outputs\n",
    "print(X_train.shape)\n",
    "print(X_test.shape)"
   ]
  },
  {
   "cell_type": "code",
   "execution_count": 19,
   "metadata": {
    "colab": {
     "base_uri": "https://localhost:8080/"
    },
    "id": "wiZjJKKYyu1o",
    "outputId": "0c36f6fb-f2b8-4bb9-f108-aa6c617a207a"
   },
   "outputs": [
    {
     "data": {
      "text/plain": [
       "False"
      ]
     },
     "execution_count": 19,
     "metadata": {},
     "output_type": "execute_result"
    }
   ],
   "source": [
    "X_test.isna().any().any()"
   ]
  },
  {
   "cell_type": "markdown",
   "metadata": {
    "id": "CIwOHWnxH3xj"
   },
   "source": [
    "**Preprocessing the training data**"
   ]
  },
  {
   "cell_type": "code",
   "execution_count": 21,
   "metadata": {
    "colab": {
     "base_uri": "https://localhost:8080/",
     "height": 70
    },
    "id": "Q8zsH_NtE20g",
    "outputId": "da93b0af-9776-48b3-9bf1-fafb58446c94"
   },
   "outputs": [
    {
     "data": {
      "text/html": [
       "<div>\n",
       "<style scoped>\n",
       "    .dataframe tbody tr th:only-of-type {\n",
       "        vertical-align: middle;\n",
       "    }\n",
       "\n",
       "    .dataframe tbody tr th {\n",
       "        vertical-align: top;\n",
       "    }\n",
       "\n",
       "    .dataframe thead th {\n",
       "        text-align: right;\n",
       "    }\n",
       "</style>\n",
       "<table border=\"1\" class=\"dataframe\">\n",
       "  <thead>\n",
       "    <tr style=\"text-align: right;\">\n",
       "      <th></th>\n",
       "      <th>Encoded_data</th>\n",
       "      <th>FQDN_count</th>\n",
       "      <th>Length_of_Subdomain</th>\n",
       "      <th>Number_of_Labels</th>\n",
       "      <th>Maximun_label_length</th>\n",
       "      <th>Average_length_of_Labels</th>\n",
       "      <th>Count_of_Numbers</th>\n",
       "      <th>Count_of_UpperCase</th>\n",
       "      <th>Count_of_LowerCase</th>\n",
       "      <th>Count_of_SpecialChars</th>\n",
       "      <th>Entrophy</th>\n",
       "    </tr>\n",
       "  </thead>\n",
       "  <tbody>\n",
       "  </tbody>\n",
       "</table>\n",
       "</div>"
      ],
      "text/plain": [
       "Empty DataFrame\n",
       "Columns: [Encoded_data, FQDN_count, Length_of_Subdomain, Number_of_Labels, Maximun_label_length, Average_length_of_Labels, Count_of_Numbers, Count_of_UpperCase, Count_of_LowerCase, Count_of_SpecialChars, Entrophy]\n",
       "Index: []"
      ]
     },
     "execution_count": 21,
     "metadata": {},
     "output_type": "execute_result"
    }
   ],
   "source": [
    "# temp table\n",
    "columns = ['Encoded_data', 'FQDN_count', 'Length_of_Subdomain',  'Number_of_Labels',  'Maximun_label_length', 'Average_length_of_Labels', 'Count_of_Numbers', 'Count_of_UpperCase', 'Count_of_LowerCase', 'Count_of_SpecialChars', 'Entrophy' ]\n",
    "tempFeatures = pd.DataFrame(columns=columns)\n",
    "tempFeatures"
   ]
  },
  {
   "cell_type": "code",
   "execution_count": 22,
   "metadata": {
    "id": "u5x_rtUZFBVQ"
   },
   "outputs": [],
   "source": [
    "for index, row in X_train.iterrows():\n",
    "    tempFeatures = tempFeatures.append({\"Encoded_data\": row[0],\n",
    "                                      \"FQDN_count\": FQDN_count(row[0]),\n",
    "                                      \"Length_of_Subdomain\": countOfCharsinSubdomain(row[0]),\n",
    "                                      \"Number_of_Labels\": numOfLables(row[0]),\n",
    "                                      \"Maximun_label_length\": maxLabelLength(row[0]), \n",
    "                                      \"Average_length_of_Labels\": AvgLengthOfLabels(row[0]), \n",
    "                                      \"Count_of_Numbers\": numOfDigits(row[0]) ,\n",
    "                                      \"Count_of_UpperCase\": countUppercase(row[0]),\n",
    "                                      \"Count_of_LowerCase\": countLowerCase(row[0]),\n",
    "                                      \"Count_of_SpecialChars\": countSpecialChars(row[0]),\n",
    "                                      \"Entrophy\": find_entropy(row[0])}, ignore_index=True)"
   ]
  },
  {
   "cell_type": "code",
   "execution_count": 23,
   "metadata": {
    "id": "shNEycm4v9oJ"
   },
   "outputs": [],
   "source": [
    "X_train = tempFeatures.copy()\n"
   ]
  },
  {
   "cell_type": "code",
   "execution_count": 24,
   "metadata": {
    "id": "qe1sT2t9O35u"
   },
   "outputs": [
    {
     "data": {
      "text/html": [
       "<div>\n",
       "<style scoped>\n",
       "    .dataframe tbody tr th:only-of-type {\n",
       "        vertical-align: middle;\n",
       "    }\n",
       "\n",
       "    .dataframe tbody tr th {\n",
       "        vertical-align: top;\n",
       "    }\n",
       "\n",
       "    .dataframe thead th {\n",
       "        text-align: right;\n",
       "    }\n",
       "</style>\n",
       "<table border=\"1\" class=\"dataframe\">\n",
       "  <thead>\n",
       "    <tr style=\"text-align: right;\">\n",
       "      <th></th>\n",
       "      <th>Encoded_data</th>\n",
       "      <th>FQDN_count</th>\n",
       "      <th>Length_of_Subdomain</th>\n",
       "      <th>Number_of_Labels</th>\n",
       "      <th>Maximun_label_length</th>\n",
       "      <th>Average_length_of_Labels</th>\n",
       "      <th>Count_of_Numbers</th>\n",
       "      <th>Count_of_UpperCase</th>\n",
       "      <th>Count_of_LowerCase</th>\n",
       "      <th>Count_of_SpecialChars</th>\n",
       "      <th>Entrophy</th>\n",
       "    </tr>\n",
       "  </thead>\n",
       "  <tbody>\n",
       "    <tr>\n",
       "      <th>0</th>\n",
       "      <td>b'03aaq\\xf2\\xbeG\\xc7\\xe0\\xc9\\xcc\\xca9N\\xe1D\\xe...</td>\n",
       "      <td>611</td>\n",
       "      <td>600</td>\n",
       "      <td>7</td>\n",
       "      <td>151</td>\n",
       "      <td>75.500</td>\n",
       "      <td>78</td>\n",
       "      <td>54</td>\n",
       "      <td>354</td>\n",
       "      <td>118</td>\n",
       "      <td>4.389699</td>\n",
       "    </tr>\n",
       "    <tr>\n",
       "      <th>1</th>\n",
       "      <td>b'0ihav82\\xbew\\xeesJ\\xf9aabacuqe1nZ\\xd2abag\\xe...</td>\n",
       "      <td>539</td>\n",
       "      <td>528</td>\n",
       "      <td>7</td>\n",
       "      <td>150</td>\n",
       "      <td>66.500</td>\n",
       "      <td>72</td>\n",
       "      <td>40</td>\n",
       "      <td>326</td>\n",
       "      <td>94</td>\n",
       "      <td>4.530118</td>\n",
       "    </tr>\n",
       "    <tr>\n",
       "      <th>2</th>\n",
       "      <td>b'0fkb4Q\\xecDFN\\xe8H\\xc4OmZ\\xd3D1\\xc1\\xbd\\xd9\\...</td>\n",
       "      <td>498</td>\n",
       "      <td>487</td>\n",
       "      <td>7</td>\n",
       "      <td>144</td>\n",
       "      <td>61.375</td>\n",
       "      <td>82</td>\n",
       "      <td>38</td>\n",
       "      <td>279</td>\n",
       "      <td>92</td>\n",
       "      <td>4.469136</td>\n",
       "    </tr>\n",
       "    <tr>\n",
       "      <th>3</th>\n",
       "      <td>b'0qua4U\\xbf\\xddOgB\\xce\\xfdf\\xe1\\xd6M\\xf9\\xf9G...</td>\n",
       "      <td>590</td>\n",
       "      <td>579</td>\n",
       "      <td>7</td>\n",
       "      <td>150</td>\n",
       "      <td>72.875</td>\n",
       "      <td>75</td>\n",
       "      <td>49</td>\n",
       "      <td>348</td>\n",
       "      <td>111</td>\n",
       "      <td>4.481219</td>\n",
       "    </tr>\n",
       "    <tr>\n",
       "      <th>4</th>\n",
       "      <td>b'0ema3EX\\xca3\\xf1QK\\xd8\\xd62\\xd6Se\\xef\\xe3En\\...</td>\n",
       "      <td>626</td>\n",
       "      <td>615</td>\n",
       "      <td>7</td>\n",
       "      <td>162</td>\n",
       "      <td>77.375</td>\n",
       "      <td>96</td>\n",
       "      <td>41</td>\n",
       "      <td>359</td>\n",
       "      <td>123</td>\n",
       "      <td>4.311626</td>\n",
       "    </tr>\n",
       "    <tr>\n",
       "      <th>...</th>\n",
       "      <td>...</td>\n",
       "      <td>...</td>\n",
       "      <td>...</td>\n",
       "      <td>...</td>\n",
       "      <td>...</td>\n",
       "      <td>...</td>\n",
       "      <td>...</td>\n",
       "      <td>...</td>\n",
       "      <td>...</td>\n",
       "      <td>...</td>\n",
       "      <td>...</td>\n",
       "    </tr>\n",
       "    <tr>\n",
       "      <th>174995</th>\n",
       "      <td>b'0q0ah\\xebb6\\xe5\\xd3\\xc1m\\xcb\\xcf\\xd6\\xe90\\xf...</td>\n",
       "      <td>605</td>\n",
       "      <td>594</td>\n",
       "      <td>7</td>\n",
       "      <td>150</td>\n",
       "      <td>74.750</td>\n",
       "      <td>89</td>\n",
       "      <td>49</td>\n",
       "      <td>344</td>\n",
       "      <td>116</td>\n",
       "      <td>4.426524</td>\n",
       "    </tr>\n",
       "    <tr>\n",
       "      <th>174996</th>\n",
       "      <td>b'0vkbry\\xf4Pij\\xd5\\xfb\\xf1\\xe9\\xd7\\xf0\\xc2AFc...</td>\n",
       "      <td>504</td>\n",
       "      <td>493</td>\n",
       "      <td>7</td>\n",
       "      <td>142</td>\n",
       "      <td>62.125</td>\n",
       "      <td>74</td>\n",
       "      <td>38</td>\n",
       "      <td>291</td>\n",
       "      <td>94</td>\n",
       "      <td>4.493035</td>\n",
       "    </tr>\n",
       "    <tr>\n",
       "      <th>174997</th>\n",
       "      <td>b'02va4H\\xda\\xc6Ewn\\xe7\\xf6\\xe8y\\xf3\\xca\\xca2\\...</td>\n",
       "      <td>629</td>\n",
       "      <td>618</td>\n",
       "      <td>7</td>\n",
       "      <td>163</td>\n",
       "      <td>77.750</td>\n",
       "      <td>105</td>\n",
       "      <td>41</td>\n",
       "      <td>352</td>\n",
       "      <td>124</td>\n",
       "      <td>4.335566</td>\n",
       "    </tr>\n",
       "    <tr>\n",
       "      <th>174998</th>\n",
       "      <td>b'0bkb5\\xca\\xdftO\\xdd\\xebo\\xc4iVj\\xfdn\\xf94Y\\x...</td>\n",
       "      <td>546</td>\n",
       "      <td>535</td>\n",
       "      <td>7</td>\n",
       "      <td>153</td>\n",
       "      <td>67.375</td>\n",
       "      <td>69</td>\n",
       "      <td>36</td>\n",
       "      <td>326</td>\n",
       "      <td>108</td>\n",
       "      <td>4.230303</td>\n",
       "    </tr>\n",
       "    <tr>\n",
       "      <th>174999</th>\n",
       "      <td>b'0mvat\\xc4\\xe1\\xd2z\\xd4\\xc4\\xd6D\\xdf\\xe4zMKqW...</td>\n",
       "      <td>659</td>\n",
       "      <td>648</td>\n",
       "      <td>7</td>\n",
       "      <td>168</td>\n",
       "      <td>81.500</td>\n",
       "      <td>91</td>\n",
       "      <td>42</td>\n",
       "      <td>385</td>\n",
       "      <td>134</td>\n",
       "      <td>4.219021</td>\n",
       "    </tr>\n",
       "  </tbody>\n",
       "</table>\n",
       "<p>175000 rows × 11 columns</p>\n",
       "</div>"
      ],
      "text/plain": [
       "                                             Encoded_data FQDN_count  \\\n",
       "0       b'03aaq\\xf2\\xbeG\\xc7\\xe0\\xc9\\xcc\\xca9N\\xe1D\\xe...        611   \n",
       "1       b'0ihav82\\xbew\\xeesJ\\xf9aabacuqe1nZ\\xd2abag\\xe...        539   \n",
       "2       b'0fkb4Q\\xecDFN\\xe8H\\xc4OmZ\\xd3D1\\xc1\\xbd\\xd9\\...        498   \n",
       "3       b'0qua4U\\xbf\\xddOgB\\xce\\xfdf\\xe1\\xd6M\\xf9\\xf9G...        590   \n",
       "4       b'0ema3EX\\xca3\\xf1QK\\xd8\\xd62\\xd6Se\\xef\\xe3En\\...        626   \n",
       "...                                                   ...        ...   \n",
       "174995  b'0q0ah\\xebb6\\xe5\\xd3\\xc1m\\xcb\\xcf\\xd6\\xe90\\xf...        605   \n",
       "174996  b'0vkbry\\xf4Pij\\xd5\\xfb\\xf1\\xe9\\xd7\\xf0\\xc2AFc...        504   \n",
       "174997  b'02va4H\\xda\\xc6Ewn\\xe7\\xf6\\xe8y\\xf3\\xca\\xca2\\...        629   \n",
       "174998  b'0bkb5\\xca\\xdftO\\xdd\\xebo\\xc4iVj\\xfdn\\xf94Y\\x...        546   \n",
       "174999  b'0mvat\\xc4\\xe1\\xd2z\\xd4\\xc4\\xd6D\\xdf\\xe4zMKqW...        659   \n",
       "\n",
       "       Length_of_Subdomain Number_of_Labels Maximun_label_length  \\\n",
       "0                      600                7                  151   \n",
       "1                      528                7                  150   \n",
       "2                      487                7                  144   \n",
       "3                      579                7                  150   \n",
       "4                      615                7                  162   \n",
       "...                    ...              ...                  ...   \n",
       "174995                 594                7                  150   \n",
       "174996                 493                7                  142   \n",
       "174997                 618                7                  163   \n",
       "174998                 535                7                  153   \n",
       "174999                 648                7                  168   \n",
       "\n",
       "        Average_length_of_Labels Count_of_Numbers Count_of_UpperCase  \\\n",
       "0                         75.500               78                 54   \n",
       "1                         66.500               72                 40   \n",
       "2                         61.375               82                 38   \n",
       "3                         72.875               75                 49   \n",
       "4                         77.375               96                 41   \n",
       "...                          ...              ...                ...   \n",
       "174995                    74.750               89                 49   \n",
       "174996                    62.125               74                 38   \n",
       "174997                    77.750              105                 41   \n",
       "174998                    67.375               69                 36   \n",
       "174999                    81.500               91                 42   \n",
       "\n",
       "       Count_of_LowerCase Count_of_SpecialChars  Entrophy  \n",
       "0                     354                   118  4.389699  \n",
       "1                     326                    94  4.530118  \n",
       "2                     279                    92  4.469136  \n",
       "3                     348                   111  4.481219  \n",
       "4                     359                   123  4.311626  \n",
       "...                   ...                   ...       ...  \n",
       "174995                344                   116  4.426524  \n",
       "174996                291                    94  4.493035  \n",
       "174997                352                   124  4.335566  \n",
       "174998                326                   108  4.230303  \n",
       "174999                385                   134  4.219021  \n",
       "\n",
       "[175000 rows x 11 columns]"
      ]
     },
     "execution_count": 24,
     "metadata": {},
     "output_type": "execute_result"
    }
   ],
   "source": [
    "X_train = X_train[['Encoded_data', 'FQDN_count', 'Length_of_Subdomain', 'Number_of_Labels',\n",
    "       'Maximun_label_length', 'Average_length_of_Labels', 'Count_of_Numbers',\n",
    "       'Count_of_UpperCase', 'Count_of_LowerCase', 'Count_of_SpecialChars',\n",
    "       'Entrophy']]\n",
    "X_train"
   ]
  },
  {
   "cell_type": "code",
   "execution_count": 25,
   "metadata": {
    "id": "y4mPaLdyMNWP"
   },
   "outputs": [],
   "source": [
    "X_train.to_csv(\"Training_Data.csv\", index=False)"
   ]
  },
  {
   "cell_type": "code",
   "execution_count": 26,
   "metadata": {
    "id": "vnP9YPRG7UyO"
   },
   "outputs": [
    {
     "data": {
      "text/html": [
       "<div>\n",
       "<style scoped>\n",
       "    .dataframe tbody tr th:only-of-type {\n",
       "        vertical-align: middle;\n",
       "    }\n",
       "\n",
       "    .dataframe tbody tr th {\n",
       "        vertical-align: top;\n",
       "    }\n",
       "\n",
       "    .dataframe thead th {\n",
       "        text-align: right;\n",
       "    }\n",
       "</style>\n",
       "<table border=\"1\" class=\"dataframe\">\n",
       "  <thead>\n",
       "    <tr style=\"text-align: right;\">\n",
       "      <th></th>\n",
       "      <th>Encoded_data</th>\n",
       "      <th>FQDN_count</th>\n",
       "      <th>Length_of_Subdomain</th>\n",
       "      <th>Number_of_Labels</th>\n",
       "      <th>Maximun_label_length</th>\n",
       "      <th>Average_length_of_Labels</th>\n",
       "      <th>Count_of_Numbers</th>\n",
       "      <th>Count_of_UpperCase</th>\n",
       "      <th>Count_of_LowerCase</th>\n",
       "      <th>Count_of_SpecialChars</th>\n",
       "      <th>Entrophy</th>\n",
       "    </tr>\n",
       "  </thead>\n",
       "  <tbody>\n",
       "    <tr>\n",
       "      <th>0</th>\n",
       "      <td>b'03aaq\\xf2\\xbeG\\xc7\\xe0\\xc9\\xcc\\xca9N\\xe1D\\xe...</td>\n",
       "      <td>611</td>\n",
       "      <td>600</td>\n",
       "      <td>7</td>\n",
       "      <td>151</td>\n",
       "      <td>75.500</td>\n",
       "      <td>78</td>\n",
       "      <td>54</td>\n",
       "      <td>354</td>\n",
       "      <td>118</td>\n",
       "      <td>4.389699</td>\n",
       "    </tr>\n",
       "    <tr>\n",
       "      <th>1</th>\n",
       "      <td>b'0ihav82\\xbew\\xeesJ\\xf9aabacuqe1nZ\\xd2abag\\xe...</td>\n",
       "      <td>539</td>\n",
       "      <td>528</td>\n",
       "      <td>7</td>\n",
       "      <td>150</td>\n",
       "      <td>66.500</td>\n",
       "      <td>72</td>\n",
       "      <td>40</td>\n",
       "      <td>326</td>\n",
       "      <td>94</td>\n",
       "      <td>4.530118</td>\n",
       "    </tr>\n",
       "    <tr>\n",
       "      <th>2</th>\n",
       "      <td>b'0fkb4Q\\xecDFN\\xe8H\\xc4OmZ\\xd3D1\\xc1\\xbd\\xd9\\...</td>\n",
       "      <td>498</td>\n",
       "      <td>487</td>\n",
       "      <td>7</td>\n",
       "      <td>144</td>\n",
       "      <td>61.375</td>\n",
       "      <td>82</td>\n",
       "      <td>38</td>\n",
       "      <td>279</td>\n",
       "      <td>92</td>\n",
       "      <td>4.469136</td>\n",
       "    </tr>\n",
       "    <tr>\n",
       "      <th>3</th>\n",
       "      <td>b'0qua4U\\xbf\\xddOgB\\xce\\xfdf\\xe1\\xd6M\\xf9\\xf9G...</td>\n",
       "      <td>590</td>\n",
       "      <td>579</td>\n",
       "      <td>7</td>\n",
       "      <td>150</td>\n",
       "      <td>72.875</td>\n",
       "      <td>75</td>\n",
       "      <td>49</td>\n",
       "      <td>348</td>\n",
       "      <td>111</td>\n",
       "      <td>4.481219</td>\n",
       "    </tr>\n",
       "    <tr>\n",
       "      <th>4</th>\n",
       "      <td>b'0ema3EX\\xca3\\xf1QK\\xd8\\xd62\\xd6Se\\xef\\xe3En\\...</td>\n",
       "      <td>626</td>\n",
       "      <td>615</td>\n",
       "      <td>7</td>\n",
       "      <td>162</td>\n",
       "      <td>77.375</td>\n",
       "      <td>96</td>\n",
       "      <td>41</td>\n",
       "      <td>359</td>\n",
       "      <td>123</td>\n",
       "      <td>4.311626</td>\n",
       "    </tr>\n",
       "    <tr>\n",
       "      <th>...</th>\n",
       "      <td>...</td>\n",
       "      <td>...</td>\n",
       "      <td>...</td>\n",
       "      <td>...</td>\n",
       "      <td>...</td>\n",
       "      <td>...</td>\n",
       "      <td>...</td>\n",
       "      <td>...</td>\n",
       "      <td>...</td>\n",
       "      <td>...</td>\n",
       "      <td>...</td>\n",
       "    </tr>\n",
       "    <tr>\n",
       "      <th>174995</th>\n",
       "      <td>b'0q0ah\\xebb6\\xe5\\xd3\\xc1m\\xcb\\xcf\\xd6\\xe90\\xf...</td>\n",
       "      <td>605</td>\n",
       "      <td>594</td>\n",
       "      <td>7</td>\n",
       "      <td>150</td>\n",
       "      <td>74.750</td>\n",
       "      <td>89</td>\n",
       "      <td>49</td>\n",
       "      <td>344</td>\n",
       "      <td>116</td>\n",
       "      <td>4.426524</td>\n",
       "    </tr>\n",
       "    <tr>\n",
       "      <th>174996</th>\n",
       "      <td>b'0vkbry\\xf4Pij\\xd5\\xfb\\xf1\\xe9\\xd7\\xf0\\xc2AFc...</td>\n",
       "      <td>504</td>\n",
       "      <td>493</td>\n",
       "      <td>7</td>\n",
       "      <td>142</td>\n",
       "      <td>62.125</td>\n",
       "      <td>74</td>\n",
       "      <td>38</td>\n",
       "      <td>291</td>\n",
       "      <td>94</td>\n",
       "      <td>4.493035</td>\n",
       "    </tr>\n",
       "    <tr>\n",
       "      <th>174997</th>\n",
       "      <td>b'02va4H\\xda\\xc6Ewn\\xe7\\xf6\\xe8y\\xf3\\xca\\xca2\\...</td>\n",
       "      <td>629</td>\n",
       "      <td>618</td>\n",
       "      <td>7</td>\n",
       "      <td>163</td>\n",
       "      <td>77.750</td>\n",
       "      <td>105</td>\n",
       "      <td>41</td>\n",
       "      <td>352</td>\n",
       "      <td>124</td>\n",
       "      <td>4.335566</td>\n",
       "    </tr>\n",
       "    <tr>\n",
       "      <th>174998</th>\n",
       "      <td>b'0bkb5\\xca\\xdftO\\xdd\\xebo\\xc4iVj\\xfdn\\xf94Y\\x...</td>\n",
       "      <td>546</td>\n",
       "      <td>535</td>\n",
       "      <td>7</td>\n",
       "      <td>153</td>\n",
       "      <td>67.375</td>\n",
       "      <td>69</td>\n",
       "      <td>36</td>\n",
       "      <td>326</td>\n",
       "      <td>108</td>\n",
       "      <td>4.230303</td>\n",
       "    </tr>\n",
       "    <tr>\n",
       "      <th>174999</th>\n",
       "      <td>b'0mvat\\xc4\\xe1\\xd2z\\xd4\\xc4\\xd6D\\xdf\\xe4zMKqW...</td>\n",
       "      <td>659</td>\n",
       "      <td>648</td>\n",
       "      <td>7</td>\n",
       "      <td>168</td>\n",
       "      <td>81.500</td>\n",
       "      <td>91</td>\n",
       "      <td>42</td>\n",
       "      <td>385</td>\n",
       "      <td>134</td>\n",
       "      <td>4.219021</td>\n",
       "    </tr>\n",
       "  </tbody>\n",
       "</table>\n",
       "<p>175000 rows × 11 columns</p>\n",
       "</div>"
      ],
      "text/plain": [
       "                                             Encoded_data  FQDN_count  \\\n",
       "0       b'03aaq\\xf2\\xbeG\\xc7\\xe0\\xc9\\xcc\\xca9N\\xe1D\\xe...         611   \n",
       "1       b'0ihav82\\xbew\\xeesJ\\xf9aabacuqe1nZ\\xd2abag\\xe...         539   \n",
       "2       b'0fkb4Q\\xecDFN\\xe8H\\xc4OmZ\\xd3D1\\xc1\\xbd\\xd9\\...         498   \n",
       "3       b'0qua4U\\xbf\\xddOgB\\xce\\xfdf\\xe1\\xd6M\\xf9\\xf9G...         590   \n",
       "4       b'0ema3EX\\xca3\\xf1QK\\xd8\\xd62\\xd6Se\\xef\\xe3En\\...         626   \n",
       "...                                                   ...         ...   \n",
       "174995  b'0q0ah\\xebb6\\xe5\\xd3\\xc1m\\xcb\\xcf\\xd6\\xe90\\xf...         605   \n",
       "174996  b'0vkbry\\xf4Pij\\xd5\\xfb\\xf1\\xe9\\xd7\\xf0\\xc2AFc...         504   \n",
       "174997  b'02va4H\\xda\\xc6Ewn\\xe7\\xf6\\xe8y\\xf3\\xca\\xca2\\...         629   \n",
       "174998  b'0bkb5\\xca\\xdftO\\xdd\\xebo\\xc4iVj\\xfdn\\xf94Y\\x...         546   \n",
       "174999  b'0mvat\\xc4\\xe1\\xd2z\\xd4\\xc4\\xd6D\\xdf\\xe4zMKqW...         659   \n",
       "\n",
       "        Length_of_Subdomain  Number_of_Labels  Maximun_label_length  \\\n",
       "0                       600                 7                   151   \n",
       "1                       528                 7                   150   \n",
       "2                       487                 7                   144   \n",
       "3                       579                 7                   150   \n",
       "4                       615                 7                   162   \n",
       "...                     ...               ...                   ...   \n",
       "174995                  594                 7                   150   \n",
       "174996                  493                 7                   142   \n",
       "174997                  618                 7                   163   \n",
       "174998                  535                 7                   153   \n",
       "174999                  648                 7                   168   \n",
       "\n",
       "        Average_length_of_Labels  Count_of_Numbers  Count_of_UpperCase  \\\n",
       "0                         75.500                78                  54   \n",
       "1                         66.500                72                  40   \n",
       "2                         61.375                82                  38   \n",
       "3                         72.875                75                  49   \n",
       "4                         77.375                96                  41   \n",
       "...                          ...               ...                 ...   \n",
       "174995                    74.750                89                  49   \n",
       "174996                    62.125                74                  38   \n",
       "174997                    77.750               105                  41   \n",
       "174998                    67.375                69                  36   \n",
       "174999                    81.500                91                  42   \n",
       "\n",
       "        Count_of_LowerCase  Count_of_SpecialChars  Entrophy  \n",
       "0                      354                    118  4.389699  \n",
       "1                      326                     94  4.530118  \n",
       "2                      279                     92  4.469136  \n",
       "3                      348                    111  4.481219  \n",
       "4                      359                    123  4.311626  \n",
       "...                    ...                    ...       ...  \n",
       "174995                 344                    116  4.426524  \n",
       "174996                 291                     94  4.493035  \n",
       "174997                 352                    124  4.335566  \n",
       "174998                 326                    108  4.230303  \n",
       "174999                 385                    134  4.219021  \n",
       "\n",
       "[175000 rows x 11 columns]"
      ]
     },
     "execution_count": 26,
     "metadata": {},
     "output_type": "execute_result"
    }
   ],
   "source": [
    "X_train = pd.read_csv(\"Training_Data.csv\")\n",
    "X_train"
   ]
  },
  {
   "cell_type": "markdown",
   "metadata": {
    "id": "HlHObxgzFzVc"
   },
   "source": [
    "Let us explore our features"
   ]
  },
  {
   "cell_type": "code",
   "execution_count": 4,
   "metadata": {
    "colab": {
     "base_uri": "https://localhost:8080/"
    },
    "id": "LHG5HPSCGJkw",
    "outputId": "f3571085-ca8a-4aab-ac78-23380d5b87e1"
   },
   "outputs": [
    {
     "data": {
      "text/plain": [
       "4"
      ]
     },
     "execution_count": 4,
     "metadata": {},
     "output_type": "execute_result"
    }
   ],
   "source": [
    "X_train['Number_of_Labels'].nunique()"
   ]
  },
  {
   "cell_type": "code",
   "execution_count": 70,
   "metadata": {
    "colab": {
     "base_uri": "https://localhost:8080/",
     "height": 365
    },
    "id": "lcrj5mCLF2JH",
    "outputId": "20df48c8-2c4e-43e6-be00-60b96de08b95"
   },
   "outputs": [
    {
     "name": "stdout",
     "output_type": "stream",
     "text": [
      "7    166767\n",
      "6      4246\n",
      "5      3560\n",
      "4       427\n",
      "Name: Number_of_Labels, dtype: int64\n"
     ]
    },
    {
     "data": {
      "image/png": "[encoded data removed]",
      "text/plain": [
       "<Figure size 432x288 with 1 Axes>"
      ]
     },
     "metadata": {
      "needs_background": "light"
     },
     "output_type": "display_data"
    }
   ],
   "source": [
    "import matplotlib.pyplot as plt\n",
    "counts = X_train['Number_of_Labels'].value_counts()\n",
    "print(counts)\n",
    "counts.plot(kind = 'bar',color = [\"green\",\"red\", \"purple\", \"yellow\"])\n",
    "plt.title('Label Plot')\n",
    "plt.show()\n"
   ]
  },
  {
   "cell_type": "markdown",
   "metadata": {
    "id": "sJ7i56aYwUMK"
   },
   "source": [
    "This is understandable because most DNS attacks are encrypted, and longer DNS queries are indicative of data being exfiltrated"
   ]
  },
  {
   "cell_type": "code",
   "execution_count": null,
   "metadata": {
    "colab": {
     "base_uri": "https://localhost:8080/"
    },
    "id": "WykjZgWE0ne9",
    "outputId": "d5e1c200-febb-407a-c0fa-4641617d9405"
   },
   "outputs": [
    {
     "data": {
      "text/plain": [
       "73"
      ]
     },
     "execution_count": 57,
     "metadata": {},
     "output_type": "execute_result"
    }
   ],
   "source": [
    "X_train['Count_of_UpperCase'].nunique()"
   ]
  },
  {
   "cell_type": "code",
   "execution_count": null,
   "metadata": {
    "colab": {
     "base_uri": "https://localhost:8080/"
    },
    "id": "o27Fk2_JFzAG",
    "outputId": "6dbb3f69-f4e0-447b-c653-2c48bd31a0fc"
   },
   "outputs": [
    {
     "data": {
      "text/plain": [
       "count    175000.000000\n",
       "mean         70.601474\n",
       "std           8.795603\n",
       "min           8.600000\n",
       "25%          67.000000\n",
       "50%          72.875000\n",
       "75%          75.875000\n",
       "max          87.875000\n",
       "Name: Average_length_of_Labels, dtype: float64"
      ]
     },
     "execution_count": 58,
     "metadata": {},
     "output_type": "execute_result"
    }
   ],
   "source": [
    "X_train['Average_length_of_Labels'].describe()"
   ]
  },
  {
   "cell_type": "markdown",
   "metadata": {
    "id": "GAfEJbpsGfJR"
   },
   "source": [
    "From this, we can see that the dns queries have similar label length as the std is low."
   ]
  },
  {
   "cell_type": "code",
   "execution_count": null,
   "metadata": {
    "id": "zyjRSSS3zumK"
   },
   "outputs": [],
   "source": [
    "null_data = X_train[X_train.isnull().any(axis=1)]"
   ]
  },
  {
   "cell_type": "code",
   "execution_count": null,
   "metadata": {
    "colab": {
     "base_uri": "https://localhost:8080/",
     "height": 49
    },
    "id": "qaigOOjszygu",
    "outputId": "c7ff6b5c-5eff-43a1-a7e5-68c5409befe5"
   },
   "outputs": [
    {
     "data": {
      "text/html": [
       "<div>\n",
       "<style scoped>\n",
       "    .dataframe tbody tr th:only-of-type {\n",
       "        vertical-align: middle;\n",
       "    }\n",
       "\n",
       "    .dataframe tbody tr th {\n",
       "        vertical-align: top;\n",
       "    }\n",
       "\n",
       "    .dataframe thead th {\n",
       "        text-align: right;\n",
       "    }\n",
       "</style>\n",
       "<table border=\"1\" class=\"dataframe\">\n",
       "  <thead>\n",
       "    <tr style=\"text-align: right;\">\n",
       "      <th></th>\n",
       "      <th>Encoded_data</th>\n",
       "      <th>Length_of_Subdomain</th>\n",
       "      <th>Number_of_Labels</th>\n",
       "      <th>Average_length_of_Labels</th>\n",
       "      <th>Count_of_Numbers</th>\n",
       "      <th>Count_of_UpperCase</th>\n",
       "      <th>Entrophy</th>\n",
       "    </tr>\n",
       "  </thead>\n",
       "  <tbody>\n",
       "  </tbody>\n",
       "</table>\n",
       "</div>"
      ],
      "text/plain": [
       "Empty DataFrame\n",
       "Columns: [Encoded_data, Length_of_Subdomain, Number_of_Labels, Average_length_of_Labels, Count_of_Numbers, Count_of_UpperCase, Entrophy]\n",
       "Index: []"
      ]
     },
     "execution_count": 60,
     "metadata": {},
     "output_type": "execute_result"
    }
   ],
   "source": [
    "null_data"
   ]
  },
  {
   "cell_type": "code",
   "execution_count": 27,
   "metadata": {
    "colab": {
     "base_uri": "https://localhost:8080/"
    },
    "id": "sFmWEHFz2rp4",
    "outputId": "3f430da5-f6cd-4dd4-f31f-7bd56a22c774"
   },
   "outputs": [
    {
     "data": {
      "text/plain": [
       "0"
      ]
     },
     "execution_count": 27,
     "metadata": {},
     "output_type": "execute_result"
    }
   ],
   "source": [
    "X_train.isnull().sum().sum()"
   ]
  },
  {
   "cell_type": "markdown",
   "metadata": {
    "id": "4zK5UugsHQ0s"
   },
   "source": [
    "**Feature Enginieering done**"
   ]
  },
  {
   "cell_type": "markdown",
   "metadata": {
    "id": "dB39n3i0HhJr"
   },
   "source": [
    "Let us obtain oly the features of our dataset to buil a ML model"
   ]
  },
  {
   "cell_type": "code",
   "execution_count": 28,
   "metadata": {
    "colab": {
     "base_uri": "https://localhost:8080/",
     "height": 423
    },
    "id": "xv7qfZqwHEo7",
    "outputId": "ed0730bb-96a4-41db-fe07-732d2bc2a02c"
   },
   "outputs": [
    {
     "data": {
      "text/html": [
       "<div>\n",
       "<style scoped>\n",
       "    .dataframe tbody tr th:only-of-type {\n",
       "        vertical-align: middle;\n",
       "    }\n",
       "\n",
       "    .dataframe tbody tr th {\n",
       "        vertical-align: top;\n",
       "    }\n",
       "\n",
       "    .dataframe thead th {\n",
       "        text-align: right;\n",
       "    }\n",
       "</style>\n",
       "<table border=\"1\" class=\"dataframe\">\n",
       "  <thead>\n",
       "    <tr style=\"text-align: right;\">\n",
       "      <th></th>\n",
       "      <th>FQDN_count</th>\n",
       "      <th>Length_of_Subdomain</th>\n",
       "      <th>Number_of_Labels</th>\n",
       "      <th>Maximun_label_length</th>\n",
       "      <th>Average_length_of_Labels</th>\n",
       "      <th>Count_of_Numbers</th>\n",
       "      <th>Count_of_UpperCase</th>\n",
       "      <th>Count_of_LowerCase</th>\n",
       "      <th>Count_of_SpecialChars</th>\n",
       "      <th>Entrophy</th>\n",
       "    </tr>\n",
       "  </thead>\n",
       "  <tbody>\n",
       "    <tr>\n",
       "      <th>0</th>\n",
       "      <td>611</td>\n",
       "      <td>600</td>\n",
       "      <td>7</td>\n",
       "      <td>151</td>\n",
       "      <td>75.500</td>\n",
       "      <td>78</td>\n",
       "      <td>54</td>\n",
       "      <td>354</td>\n",
       "      <td>118</td>\n",
       "      <td>4.389699</td>\n",
       "    </tr>\n",
       "    <tr>\n",
       "      <th>1</th>\n",
       "      <td>539</td>\n",
       "      <td>528</td>\n",
       "      <td>7</td>\n",
       "      <td>150</td>\n",
       "      <td>66.500</td>\n",
       "      <td>72</td>\n",
       "      <td>40</td>\n",
       "      <td>326</td>\n",
       "      <td>94</td>\n",
       "      <td>4.530118</td>\n",
       "    </tr>\n",
       "    <tr>\n",
       "      <th>2</th>\n",
       "      <td>498</td>\n",
       "      <td>487</td>\n",
       "      <td>7</td>\n",
       "      <td>144</td>\n",
       "      <td>61.375</td>\n",
       "      <td>82</td>\n",
       "      <td>38</td>\n",
       "      <td>279</td>\n",
       "      <td>92</td>\n",
       "      <td>4.469136</td>\n",
       "    </tr>\n",
       "    <tr>\n",
       "      <th>3</th>\n",
       "      <td>590</td>\n",
       "      <td>579</td>\n",
       "      <td>7</td>\n",
       "      <td>150</td>\n",
       "      <td>72.875</td>\n",
       "      <td>75</td>\n",
       "      <td>49</td>\n",
       "      <td>348</td>\n",
       "      <td>111</td>\n",
       "      <td>4.481219</td>\n",
       "    </tr>\n",
       "    <tr>\n",
       "      <th>4</th>\n",
       "      <td>626</td>\n",
       "      <td>615</td>\n",
       "      <td>7</td>\n",
       "      <td>162</td>\n",
       "      <td>77.375</td>\n",
       "      <td>96</td>\n",
       "      <td>41</td>\n",
       "      <td>359</td>\n",
       "      <td>123</td>\n",
       "      <td>4.311626</td>\n",
       "    </tr>\n",
       "    <tr>\n",
       "      <th>...</th>\n",
       "      <td>...</td>\n",
       "      <td>...</td>\n",
       "      <td>...</td>\n",
       "      <td>...</td>\n",
       "      <td>...</td>\n",
       "      <td>...</td>\n",
       "      <td>...</td>\n",
       "      <td>...</td>\n",
       "      <td>...</td>\n",
       "      <td>...</td>\n",
       "    </tr>\n",
       "    <tr>\n",
       "      <th>174995</th>\n",
       "      <td>605</td>\n",
       "      <td>594</td>\n",
       "      <td>7</td>\n",
       "      <td>150</td>\n",
       "      <td>74.750</td>\n",
       "      <td>89</td>\n",
       "      <td>49</td>\n",
       "      <td>344</td>\n",
       "      <td>116</td>\n",
       "      <td>4.426524</td>\n",
       "    </tr>\n",
       "    <tr>\n",
       "      <th>174996</th>\n",
       "      <td>504</td>\n",
       "      <td>493</td>\n",
       "      <td>7</td>\n",
       "      <td>142</td>\n",
       "      <td>62.125</td>\n",
       "      <td>74</td>\n",
       "      <td>38</td>\n",
       "      <td>291</td>\n",
       "      <td>94</td>\n",
       "      <td>4.493035</td>\n",
       "    </tr>\n",
       "    <tr>\n",
       "      <th>174997</th>\n",
       "      <td>629</td>\n",
       "      <td>618</td>\n",
       "      <td>7</td>\n",
       "      <td>163</td>\n",
       "      <td>77.750</td>\n",
       "      <td>105</td>\n",
       "      <td>41</td>\n",
       "      <td>352</td>\n",
       "      <td>124</td>\n",
       "      <td>4.335566</td>\n",
       "    </tr>\n",
       "    <tr>\n",
       "      <th>174998</th>\n",
       "      <td>546</td>\n",
       "      <td>535</td>\n",
       "      <td>7</td>\n",
       "      <td>153</td>\n",
       "      <td>67.375</td>\n",
       "      <td>69</td>\n",
       "      <td>36</td>\n",
       "      <td>326</td>\n",
       "      <td>108</td>\n",
       "      <td>4.230303</td>\n",
       "    </tr>\n",
       "    <tr>\n",
       "      <th>174999</th>\n",
       "      <td>659</td>\n",
       "      <td>648</td>\n",
       "      <td>7</td>\n",
       "      <td>168</td>\n",
       "      <td>81.500</td>\n",
       "      <td>91</td>\n",
       "      <td>42</td>\n",
       "      <td>385</td>\n",
       "      <td>134</td>\n",
       "      <td>4.219021</td>\n",
       "    </tr>\n",
       "  </tbody>\n",
       "</table>\n",
       "<p>175000 rows × 10 columns</p>\n",
       "</div>"
      ],
      "text/plain": [
       "        FQDN_count  Length_of_Subdomain  Number_of_Labels  \\\n",
       "0              611                  600                 7   \n",
       "1              539                  528                 7   \n",
       "2              498                  487                 7   \n",
       "3              590                  579                 7   \n",
       "4              626                  615                 7   \n",
       "...            ...                  ...               ...   \n",
       "174995         605                  594                 7   \n",
       "174996         504                  493                 7   \n",
       "174997         629                  618                 7   \n",
       "174998         546                  535                 7   \n",
       "174999         659                  648                 7   \n",
       "\n",
       "        Maximun_label_length  Average_length_of_Labels  Count_of_Numbers  \\\n",
       "0                        151                    75.500                78   \n",
       "1                        150                    66.500                72   \n",
       "2                        144                    61.375                82   \n",
       "3                        150                    72.875                75   \n",
       "4                        162                    77.375                96   \n",
       "...                      ...                       ...               ...   \n",
       "174995                   150                    74.750                89   \n",
       "174996                   142                    62.125                74   \n",
       "174997                   163                    77.750               105   \n",
       "174998                   153                    67.375                69   \n",
       "174999                   168                    81.500                91   \n",
       "\n",
       "        Count_of_UpperCase  Count_of_LowerCase  Count_of_SpecialChars  \\\n",
       "0                       54                 354                    118   \n",
       "1                       40                 326                     94   \n",
       "2                       38                 279                     92   \n",
       "3                       49                 348                    111   \n",
       "4                       41                 359                    123   \n",
       "...                    ...                 ...                    ...   \n",
       "174995                  49                 344                    116   \n",
       "174996                  38                 291                     94   \n",
       "174997                  41                 352                    124   \n",
       "174998                  36                 326                    108   \n",
       "174999                  42                 385                    134   \n",
       "\n",
       "        Entrophy  \n",
       "0       4.389699  \n",
       "1       4.530118  \n",
       "2       4.469136  \n",
       "3       4.481219  \n",
       "4       4.311626  \n",
       "...          ...  \n",
       "174995  4.426524  \n",
       "174996  4.493035  \n",
       "174997  4.335566  \n",
       "174998  4.230303  \n",
       "174999  4.219021  \n",
       "\n",
       "[175000 rows x 10 columns]"
      ]
     },
     "execution_count": 28,
     "metadata": {},
     "output_type": "execute_result"
    }
   ],
   "source": [
    "train_data = X_train[['FQDN_count', 'Length_of_Subdomain', 'Number_of_Labels',\n",
    "       'Maximun_label_length', 'Average_length_of_Labels', 'Count_of_Numbers',\n",
    "       'Count_of_UpperCase', 'Count_of_LowerCase', 'Count_of_SpecialChars',\n",
    "       'Entrophy']]\n",
    "train_data"
   ]
  },
  {
   "cell_type": "markdown",
   "metadata": {
    "id": "f9e8InErH-4k"
   },
   "source": [
    "**Preprocessing the test data**"
   ]
  },
  {
   "cell_type": "code",
   "execution_count": 29,
   "metadata": {
    "colab": {
     "base_uri": "https://localhost:8080/",
     "height": 49
    },
    "id": "LgqAnzrmIK2A",
    "outputId": "9614c14d-c9d6-4bbd-ff0f-ffe7af9084f6"
   },
   "outputs": [
    {
     "data": {
      "text/html": [
       "<div>\n",
       "<style scoped>\n",
       "    .dataframe tbody tr th:only-of-type {\n",
       "        vertical-align: middle;\n",
       "    }\n",
       "\n",
       "    .dataframe tbody tr th {\n",
       "        vertical-align: top;\n",
       "    }\n",
       "\n",
       "    .dataframe thead th {\n",
       "        text-align: right;\n",
       "    }\n",
       "</style>\n",
       "<table border=\"1\" class=\"dataframe\">\n",
       "  <thead>\n",
       "    <tr style=\"text-align: right;\">\n",
       "      <th></th>\n",
       "      <th>Encoded_data</th>\n",
       "      <th>FQDN_count</th>\n",
       "      <th>Length_of_Subdomain</th>\n",
       "      <th>Number_of_Labels</th>\n",
       "      <th>Maximun_label_length</th>\n",
       "      <th>Average_length_of_Labels</th>\n",
       "      <th>Count_of_Numbers</th>\n",
       "      <th>Count_of_UpperCase</th>\n",
       "      <th>Count_of_LowerCase</th>\n",
       "      <th>Count_of_SpecialChars</th>\n",
       "      <th>Entrophy</th>\n",
       "    </tr>\n",
       "  </thead>\n",
       "  <tbody>\n",
       "  </tbody>\n",
       "</table>\n",
       "</div>"
      ],
      "text/plain": [
       "Empty DataFrame\n",
       "Columns: [Encoded_data, FQDN_count, Length_of_Subdomain, Number_of_Labels, Maximun_label_length, Average_length_of_Labels, Count_of_Numbers, Count_of_UpperCase, Count_of_LowerCase, Count_of_SpecialChars, Entrophy]\n",
       "Index: []"
      ]
     },
     "execution_count": 29,
     "metadata": {},
     "output_type": "execute_result"
    }
   ],
   "source": [
    "# temp table\n",
    "columns = ['Encoded_data', 'FQDN_count', 'Length_of_Subdomain',  'Number_of_Labels',  'Maximun_label_length', 'Average_length_of_Labels', 'Count_of_Numbers', 'Count_of_UpperCase', 'Count_of_LowerCase', 'Count_of_SpecialChars', 'Entrophy' ]\n",
    "tempFeatures2 = pd.DataFrame(columns=columns)\n",
    "tempFeatures2"
   ]
  },
  {
   "cell_type": "code",
   "execution_count": 31,
   "metadata": {
    "id": "FXH9cgLkIOQz"
   },
   "outputs": [],
   "source": [
    "for index, row in X_test.iterrows():\n",
    "    tempFeatures2 = tempFeatures2.append({\"Encoded_data\": row[0],\n",
    "                                      \"FQDN_count\": FQDN_count(row[0]),\n",
    "                                      \"Length_of_Subdomain\": countOfCharsinSubdomain(row[0]),\n",
    "                                      \"Number_of_Labels\": numOfLables(row[0]),\n",
    "                                      \"Maximun_label_length\": maxLabelLength(row[0]), \n",
    "                                      \"Average_length_of_Labels\": AvgLengthOfLabels(row[0]), \n",
    "                                      \"Count_of_Numbers\": numOfDigits(row[0]) ,\n",
    "                                      \"Count_of_UpperCase\": countUppercase(row[0]),\n",
    "                                      \"Count_of_LowerCase\": countLowerCase(row[0]),\n",
    "                                      \"Count_of_SpecialChars\": countSpecialChars(row[0]),           \n",
    "                                      \"Entrophy\": find_entropy(row[0])}, ignore_index=True)\n",
    " "
   ]
  },
  {
   "cell_type": "code",
   "execution_count": 32,
   "metadata": {
    "colab": {
     "base_uri": "https://localhost:8080/",
     "height": 419
    },
    "id": "9E2tr_2gNp42",
    "outputId": "35c0ff63-ddce-41fe-bd04-c67aa35fa007"
   },
   "outputs": [
    {
     "data": {
      "text/html": [
       "<div>\n",
       "<style scoped>\n",
       "    .dataframe tbody tr th:only-of-type {\n",
       "        vertical-align: middle;\n",
       "    }\n",
       "\n",
       "    .dataframe tbody tr th {\n",
       "        vertical-align: top;\n",
       "    }\n",
       "\n",
       "    .dataframe thead th {\n",
       "        text-align: right;\n",
       "    }\n",
       "</style>\n",
       "<table border=\"1\" class=\"dataframe\">\n",
       "  <thead>\n",
       "    <tr style=\"text-align: right;\">\n",
       "      <th></th>\n",
       "      <th>Encoded_data</th>\n",
       "      <th>FQDN_count</th>\n",
       "      <th>Length_of_Subdomain</th>\n",
       "      <th>Number_of_Labels</th>\n",
       "      <th>Maximun_label_length</th>\n",
       "      <th>Average_length_of_Labels</th>\n",
       "      <th>Count_of_Numbers</th>\n",
       "      <th>Count_of_UpperCase</th>\n",
       "      <th>Count_of_LowerCase</th>\n",
       "      <th>Count_of_SpecialChars</th>\n",
       "      <th>Entrophy</th>\n",
       "    </tr>\n",
       "  </thead>\n",
       "  <tbody>\n",
       "    <tr>\n",
       "      <th>0</th>\n",
       "      <td>b'0qoacY2\\xeeAH\\xd4m\\xd0\\xd7\\xf6\\xdb\\xf0\\xbd\\x...</td>\n",
       "      <td>620</td>\n",
       "      <td>609</td>\n",
       "      <td>7</td>\n",
       "      <td>153</td>\n",
       "      <td>76.625</td>\n",
       "      <td>91</td>\n",
       "      <td>45</td>\n",
       "      <td>356</td>\n",
       "      <td>121</td>\n",
       "      <td>4.356736</td>\n",
       "    </tr>\n",
       "    <tr>\n",
       "      <th>1</th>\n",
       "      <td>b'0yqa8\\xcf\\xc9\\xd3JiG\\xbe\\xee\\xf8uV\\xe9\\xc8\\x...</td>\n",
       "      <td>641</td>\n",
       "      <td>630</td>\n",
       "      <td>7</td>\n",
       "      <td>155</td>\n",
       "      <td>79.250</td>\n",
       "      <td>95</td>\n",
       "      <td>47</td>\n",
       "      <td>364</td>\n",
       "      <td>128</td>\n",
       "      <td>4.268468</td>\n",
       "    </tr>\n",
       "    <tr>\n",
       "      <th>2</th>\n",
       "      <td>b'0vjbdv\\xd2b\\xc738\\xe2L\\xe3B\\xc1\\xebL\\xee\\xbf...</td>\n",
       "      <td>504</td>\n",
       "      <td>493</td>\n",
       "      <td>7</td>\n",
       "      <td>157</td>\n",
       "      <td>62.125</td>\n",
       "      <td>78</td>\n",
       "      <td>35</td>\n",
       "      <td>290</td>\n",
       "      <td>94</td>\n",
       "      <td>4.393889</td>\n",
       "    </tr>\n",
       "    <tr>\n",
       "      <th>3</th>\n",
       "      <td>b'0ucat82\\xbew\\xeesJ\\xf9aabacuqe1DxKabag\\xca\\x...</td>\n",
       "      <td>527</td>\n",
       "      <td>516</td>\n",
       "      <td>7</td>\n",
       "      <td>147</td>\n",
       "      <td>65.000</td>\n",
       "      <td>59</td>\n",
       "      <td>55</td>\n",
       "      <td>316</td>\n",
       "      <td>90</td>\n",
       "      <td>4.627084</td>\n",
       "    </tr>\n",
       "    <tr>\n",
       "      <th>4</th>\n",
       "      <td>b'0ula5Zo\\xd8\\xfdfg\\xf5\\xf8\\xea\\xe4W\\xcci\\xd0\\...</td>\n",
       "      <td>566</td>\n",
       "      <td>555</td>\n",
       "      <td>7</td>\n",
       "      <td>154</td>\n",
       "      <td>69.875</td>\n",
       "      <td>73</td>\n",
       "      <td>53</td>\n",
       "      <td>330</td>\n",
       "      <td>103</td>\n",
       "      <td>4.527153</td>\n",
       "    </tr>\n",
       "    <tr>\n",
       "      <th>...</th>\n",
       "      <td>...</td>\n",
       "      <td>...</td>\n",
       "      <td>...</td>\n",
       "      <td>...</td>\n",
       "      <td>...</td>\n",
       "      <td>...</td>\n",
       "      <td>...</td>\n",
       "      <td>...</td>\n",
       "      <td>...</td>\n",
       "      <td>...</td>\n",
       "      <td>...</td>\n",
       "    </tr>\n",
       "    <tr>\n",
       "      <th>74995</th>\n",
       "      <td>b'0bjbst\\xe048\\xd9\\xc6\\xd8K\\xf8\\xd3\\xd2I\\xc8YJ...</td>\n",
       "      <td>489</td>\n",
       "      <td>478</td>\n",
       "      <td>7</td>\n",
       "      <td>145</td>\n",
       "      <td>60.250</td>\n",
       "      <td>83</td>\n",
       "      <td>42</td>\n",
       "      <td>268</td>\n",
       "      <td>89</td>\n",
       "      <td>4.533155</td>\n",
       "    </tr>\n",
       "    <tr>\n",
       "      <th>74996</th>\n",
       "      <td>b'0eeah82\\xbew\\xeesJ\\xf9aabacuqe1m\\xc1Kabag\\xe...</td>\n",
       "      <td>527</td>\n",
       "      <td>516</td>\n",
       "      <td>7</td>\n",
       "      <td>132</td>\n",
       "      <td>65.000</td>\n",
       "      <td>85</td>\n",
       "      <td>48</td>\n",
       "      <td>297</td>\n",
       "      <td>90</td>\n",
       "      <td>4.656191</td>\n",
       "    </tr>\n",
       "    <tr>\n",
       "      <th>74997</th>\n",
       "      <td>b'0bcal\\xed5k\\xcd0M\\xdb\\xf6X\\xde\\xc1U\\xe1ZG\\xe...</td>\n",
       "      <td>611</td>\n",
       "      <td>600</td>\n",
       "      <td>7</td>\n",
       "      <td>160</td>\n",
       "      <td>75.500</td>\n",
       "      <td>100</td>\n",
       "      <td>49</td>\n",
       "      <td>337</td>\n",
       "      <td>118</td>\n",
       "      <td>4.393216</td>\n",
       "    </tr>\n",
       "    <tr>\n",
       "      <th>74998</th>\n",
       "      <td>b'0i2a7d\\xe8r\\xd6\\xe4\\xc4\\xbc4S\\xe9\\xe6\\xdf\\xc...</td>\n",
       "      <td>626</td>\n",
       "      <td>615</td>\n",
       "      <td>7</td>\n",
       "      <td>159</td>\n",
       "      <td>77.375</td>\n",
       "      <td>96</td>\n",
       "      <td>35</td>\n",
       "      <td>365</td>\n",
       "      <td>123</td>\n",
       "      <td>4.299324</td>\n",
       "    </tr>\n",
       "    <tr>\n",
       "      <th>74999</th>\n",
       "      <td>b'024a2\\xf0\\xea\\xfcIW\\xfdg1\\xcfu\\xf2\\xd9oW\\xd8...</td>\n",
       "      <td>623</td>\n",
       "      <td>612</td>\n",
       "      <td>7</td>\n",
       "      <td>160</td>\n",
       "      <td>77.000</td>\n",
       "      <td>103</td>\n",
       "      <td>41</td>\n",
       "      <td>350</td>\n",
       "      <td>122</td>\n",
       "      <td>4.310540</td>\n",
       "    </tr>\n",
       "  </tbody>\n",
       "</table>\n",
       "<p>75000 rows × 11 columns</p>\n",
       "</div>"
      ],
      "text/plain": [
       "                                            Encoded_data FQDN_count  \\\n",
       "0      b'0qoacY2\\xeeAH\\xd4m\\xd0\\xd7\\xf6\\xdb\\xf0\\xbd\\x...        620   \n",
       "1      b'0yqa8\\xcf\\xc9\\xd3JiG\\xbe\\xee\\xf8uV\\xe9\\xc8\\x...        641   \n",
       "2      b'0vjbdv\\xd2b\\xc738\\xe2L\\xe3B\\xc1\\xebL\\xee\\xbf...        504   \n",
       "3      b'0ucat82\\xbew\\xeesJ\\xf9aabacuqe1DxKabag\\xca\\x...        527   \n",
       "4      b'0ula5Zo\\xd8\\xfdfg\\xf5\\xf8\\xea\\xe4W\\xcci\\xd0\\...        566   \n",
       "...                                                  ...        ...   \n",
       "74995  b'0bjbst\\xe048\\xd9\\xc6\\xd8K\\xf8\\xd3\\xd2I\\xc8YJ...        489   \n",
       "74996  b'0eeah82\\xbew\\xeesJ\\xf9aabacuqe1m\\xc1Kabag\\xe...        527   \n",
       "74997  b'0bcal\\xed5k\\xcd0M\\xdb\\xf6X\\xde\\xc1U\\xe1ZG\\xe...        611   \n",
       "74998  b'0i2a7d\\xe8r\\xd6\\xe4\\xc4\\xbc4S\\xe9\\xe6\\xdf\\xc...        626   \n",
       "74999  b'024a2\\xf0\\xea\\xfcIW\\xfdg1\\xcfu\\xf2\\xd9oW\\xd8...        623   \n",
       "\n",
       "      Length_of_Subdomain Number_of_Labels Maximun_label_length  \\\n",
       "0                     609                7                  153   \n",
       "1                     630                7                  155   \n",
       "2                     493                7                  157   \n",
       "3                     516                7                  147   \n",
       "4                     555                7                  154   \n",
       "...                   ...              ...                  ...   \n",
       "74995                 478                7                  145   \n",
       "74996                 516                7                  132   \n",
       "74997                 600                7                  160   \n",
       "74998                 615                7                  159   \n",
       "74999                 612                7                  160   \n",
       "\n",
       "       Average_length_of_Labels Count_of_Numbers Count_of_UpperCase  \\\n",
       "0                        76.625               91                 45   \n",
       "1                        79.250               95                 47   \n",
       "2                        62.125               78                 35   \n",
       "3                        65.000               59                 55   \n",
       "4                        69.875               73                 53   \n",
       "...                         ...              ...                ...   \n",
       "74995                    60.250               83                 42   \n",
       "74996                    65.000               85                 48   \n",
       "74997                    75.500              100                 49   \n",
       "74998                    77.375               96                 35   \n",
       "74999                    77.000              103                 41   \n",
       "\n",
       "      Count_of_LowerCase Count_of_SpecialChars  Entrophy  \n",
       "0                    356                   121  4.356736  \n",
       "1                    364                   128  4.268468  \n",
       "2                    290                    94  4.393889  \n",
       "3                    316                    90  4.627084  \n",
       "4                    330                   103  4.527153  \n",
       "...                  ...                   ...       ...  \n",
       "74995                268                    89  4.533155  \n",
       "74996                297                    90  4.656191  \n",
       "74997                337                   118  4.393216  \n",
       "74998                365                   123  4.299324  \n",
       "74999                350                   122  4.310540  \n",
       "\n",
       "[75000 rows x 11 columns]"
      ]
     },
     "execution_count": 32,
     "metadata": {},
     "output_type": "execute_result"
    }
   ],
   "source": [
    "tempFeatures2"
   ]
  },
  {
   "cell_type": "code",
   "execution_count": 33,
   "metadata": {
    "id": "FSgosE5APq8s"
   },
   "outputs": [],
   "source": [
    "X_test =  tempFeatures2.copy()"
   ]
  },
  {
   "cell_type": "code",
   "execution_count": 34,
   "metadata": {
    "colab": {
     "base_uri": "https://localhost:8080/",
     "height": 419
    },
    "id": "qHshVe5iNLxV",
    "outputId": "c5cb7a37-912b-4f14-9035-6b07cd0edd17"
   },
   "outputs": [
    {
     "data": {
      "text/html": [
       "<div>\n",
       "<style scoped>\n",
       "    .dataframe tbody tr th:only-of-type {\n",
       "        vertical-align: middle;\n",
       "    }\n",
       "\n",
       "    .dataframe tbody tr th {\n",
       "        vertical-align: top;\n",
       "    }\n",
       "\n",
       "    .dataframe thead th {\n",
       "        text-align: right;\n",
       "    }\n",
       "</style>\n",
       "<table border=\"1\" class=\"dataframe\">\n",
       "  <thead>\n",
       "    <tr style=\"text-align: right;\">\n",
       "      <th></th>\n",
       "      <th>Encoded_data</th>\n",
       "      <th>FQDN_count</th>\n",
       "      <th>Length_of_Subdomain</th>\n",
       "      <th>Number_of_Labels</th>\n",
       "      <th>Maximun_label_length</th>\n",
       "      <th>Average_length_of_Labels</th>\n",
       "      <th>Count_of_Numbers</th>\n",
       "      <th>Count_of_UpperCase</th>\n",
       "      <th>Count_of_LowerCase</th>\n",
       "      <th>Count_of_SpecialChars</th>\n",
       "      <th>Entrophy</th>\n",
       "    </tr>\n",
       "  </thead>\n",
       "  <tbody>\n",
       "    <tr>\n",
       "      <th>0</th>\n",
       "      <td>b'0qoacY2\\xeeAH\\xd4m\\xd0\\xd7\\xf6\\xdb\\xf0\\xbd\\x...</td>\n",
       "      <td>620</td>\n",
       "      <td>609</td>\n",
       "      <td>7</td>\n",
       "      <td>153</td>\n",
       "      <td>76.625</td>\n",
       "      <td>91</td>\n",
       "      <td>45</td>\n",
       "      <td>356</td>\n",
       "      <td>121</td>\n",
       "      <td>4.356736</td>\n",
       "    </tr>\n",
       "    <tr>\n",
       "      <th>1</th>\n",
       "      <td>b'0yqa8\\xcf\\xc9\\xd3JiG\\xbe\\xee\\xf8uV\\xe9\\xc8\\x...</td>\n",
       "      <td>641</td>\n",
       "      <td>630</td>\n",
       "      <td>7</td>\n",
       "      <td>155</td>\n",
       "      <td>79.250</td>\n",
       "      <td>95</td>\n",
       "      <td>47</td>\n",
       "      <td>364</td>\n",
       "      <td>128</td>\n",
       "      <td>4.268468</td>\n",
       "    </tr>\n",
       "    <tr>\n",
       "      <th>2</th>\n",
       "      <td>b'0vjbdv\\xd2b\\xc738\\xe2L\\xe3B\\xc1\\xebL\\xee\\xbf...</td>\n",
       "      <td>504</td>\n",
       "      <td>493</td>\n",
       "      <td>7</td>\n",
       "      <td>157</td>\n",
       "      <td>62.125</td>\n",
       "      <td>78</td>\n",
       "      <td>35</td>\n",
       "      <td>290</td>\n",
       "      <td>94</td>\n",
       "      <td>4.393889</td>\n",
       "    </tr>\n",
       "    <tr>\n",
       "      <th>3</th>\n",
       "      <td>b'0ucat82\\xbew\\xeesJ\\xf9aabacuqe1DxKabag\\xca\\x...</td>\n",
       "      <td>527</td>\n",
       "      <td>516</td>\n",
       "      <td>7</td>\n",
       "      <td>147</td>\n",
       "      <td>65.000</td>\n",
       "      <td>59</td>\n",
       "      <td>55</td>\n",
       "      <td>316</td>\n",
       "      <td>90</td>\n",
       "      <td>4.627084</td>\n",
       "    </tr>\n",
       "    <tr>\n",
       "      <th>4</th>\n",
       "      <td>b'0ula5Zo\\xd8\\xfdfg\\xf5\\xf8\\xea\\xe4W\\xcci\\xd0\\...</td>\n",
       "      <td>566</td>\n",
       "      <td>555</td>\n",
       "      <td>7</td>\n",
       "      <td>154</td>\n",
       "      <td>69.875</td>\n",
       "      <td>73</td>\n",
       "      <td>53</td>\n",
       "      <td>330</td>\n",
       "      <td>103</td>\n",
       "      <td>4.527153</td>\n",
       "    </tr>\n",
       "    <tr>\n",
       "      <th>...</th>\n",
       "      <td>...</td>\n",
       "      <td>...</td>\n",
       "      <td>...</td>\n",
       "      <td>...</td>\n",
       "      <td>...</td>\n",
       "      <td>...</td>\n",
       "      <td>...</td>\n",
       "      <td>...</td>\n",
       "      <td>...</td>\n",
       "      <td>...</td>\n",
       "      <td>...</td>\n",
       "    </tr>\n",
       "    <tr>\n",
       "      <th>74995</th>\n",
       "      <td>b'0bjbst\\xe048\\xd9\\xc6\\xd8K\\xf8\\xd3\\xd2I\\xc8YJ...</td>\n",
       "      <td>489</td>\n",
       "      <td>478</td>\n",
       "      <td>7</td>\n",
       "      <td>145</td>\n",
       "      <td>60.250</td>\n",
       "      <td>83</td>\n",
       "      <td>42</td>\n",
       "      <td>268</td>\n",
       "      <td>89</td>\n",
       "      <td>4.533155</td>\n",
       "    </tr>\n",
       "    <tr>\n",
       "      <th>74996</th>\n",
       "      <td>b'0eeah82\\xbew\\xeesJ\\xf9aabacuqe1m\\xc1Kabag\\xe...</td>\n",
       "      <td>527</td>\n",
       "      <td>516</td>\n",
       "      <td>7</td>\n",
       "      <td>132</td>\n",
       "      <td>65.000</td>\n",
       "      <td>85</td>\n",
       "      <td>48</td>\n",
       "      <td>297</td>\n",
       "      <td>90</td>\n",
       "      <td>4.656191</td>\n",
       "    </tr>\n",
       "    <tr>\n",
       "      <th>74997</th>\n",
       "      <td>b'0bcal\\xed5k\\xcd0M\\xdb\\xf6X\\xde\\xc1U\\xe1ZG\\xe...</td>\n",
       "      <td>611</td>\n",
       "      <td>600</td>\n",
       "      <td>7</td>\n",
       "      <td>160</td>\n",
       "      <td>75.500</td>\n",
       "      <td>100</td>\n",
       "      <td>49</td>\n",
       "      <td>337</td>\n",
       "      <td>118</td>\n",
       "      <td>4.393216</td>\n",
       "    </tr>\n",
       "    <tr>\n",
       "      <th>74998</th>\n",
       "      <td>b'0i2a7d\\xe8r\\xd6\\xe4\\xc4\\xbc4S\\xe9\\xe6\\xdf\\xc...</td>\n",
       "      <td>626</td>\n",
       "      <td>615</td>\n",
       "      <td>7</td>\n",
       "      <td>159</td>\n",
       "      <td>77.375</td>\n",
       "      <td>96</td>\n",
       "      <td>35</td>\n",
       "      <td>365</td>\n",
       "      <td>123</td>\n",
       "      <td>4.299324</td>\n",
       "    </tr>\n",
       "    <tr>\n",
       "      <th>74999</th>\n",
       "      <td>b'024a2\\xf0\\xea\\xfcIW\\xfdg1\\xcfu\\xf2\\xd9oW\\xd8...</td>\n",
       "      <td>623</td>\n",
       "      <td>612</td>\n",
       "      <td>7</td>\n",
       "      <td>160</td>\n",
       "      <td>77.000</td>\n",
       "      <td>103</td>\n",
       "      <td>41</td>\n",
       "      <td>350</td>\n",
       "      <td>122</td>\n",
       "      <td>4.310540</td>\n",
       "    </tr>\n",
       "  </tbody>\n",
       "</table>\n",
       "<p>75000 rows × 11 columns</p>\n",
       "</div>"
      ],
      "text/plain": [
       "                                            Encoded_data FQDN_count  \\\n",
       "0      b'0qoacY2\\xeeAH\\xd4m\\xd0\\xd7\\xf6\\xdb\\xf0\\xbd\\x...        620   \n",
       "1      b'0yqa8\\xcf\\xc9\\xd3JiG\\xbe\\xee\\xf8uV\\xe9\\xc8\\x...        641   \n",
       "2      b'0vjbdv\\xd2b\\xc738\\xe2L\\xe3B\\xc1\\xebL\\xee\\xbf...        504   \n",
       "3      b'0ucat82\\xbew\\xeesJ\\xf9aabacuqe1DxKabag\\xca\\x...        527   \n",
       "4      b'0ula5Zo\\xd8\\xfdfg\\xf5\\xf8\\xea\\xe4W\\xcci\\xd0\\...        566   \n",
       "...                                                  ...        ...   \n",
       "74995  b'0bjbst\\xe048\\xd9\\xc6\\xd8K\\xf8\\xd3\\xd2I\\xc8YJ...        489   \n",
       "74996  b'0eeah82\\xbew\\xeesJ\\xf9aabacuqe1m\\xc1Kabag\\xe...        527   \n",
       "74997  b'0bcal\\xed5k\\xcd0M\\xdb\\xf6X\\xde\\xc1U\\xe1ZG\\xe...        611   \n",
       "74998  b'0i2a7d\\xe8r\\xd6\\xe4\\xc4\\xbc4S\\xe9\\xe6\\xdf\\xc...        626   \n",
       "74999  b'024a2\\xf0\\xea\\xfcIW\\xfdg1\\xcfu\\xf2\\xd9oW\\xd8...        623   \n",
       "\n",
       "      Length_of_Subdomain Number_of_Labels Maximun_label_length  \\\n",
       "0                     609                7                  153   \n",
       "1                     630                7                  155   \n",
       "2                     493                7                  157   \n",
       "3                     516                7                  147   \n",
       "4                     555                7                  154   \n",
       "...                   ...              ...                  ...   \n",
       "74995                 478                7                  145   \n",
       "74996                 516                7                  132   \n",
       "74997                 600                7                  160   \n",
       "74998                 615                7                  159   \n",
       "74999                 612                7                  160   \n",
       "\n",
       "       Average_length_of_Labels Count_of_Numbers Count_of_UpperCase  \\\n",
       "0                        76.625               91                 45   \n",
       "1                        79.250               95                 47   \n",
       "2                        62.125               78                 35   \n",
       "3                        65.000               59                 55   \n",
       "4                        69.875               73                 53   \n",
       "...                         ...              ...                ...   \n",
       "74995                    60.250               83                 42   \n",
       "74996                    65.000               85                 48   \n",
       "74997                    75.500              100                 49   \n",
       "74998                    77.375               96                 35   \n",
       "74999                    77.000              103                 41   \n",
       "\n",
       "      Count_of_LowerCase Count_of_SpecialChars  Entrophy  \n",
       "0                    356                   121  4.356736  \n",
       "1                    364                   128  4.268468  \n",
       "2                    290                    94  4.393889  \n",
       "3                    316                    90  4.627084  \n",
       "4                    330                   103  4.527153  \n",
       "...                  ...                   ...       ...  \n",
       "74995                268                    89  4.533155  \n",
       "74996                297                    90  4.656191  \n",
       "74997                337                   118  4.393216  \n",
       "74998                365                   123  4.299324  \n",
       "74999                350                   122  4.310540  \n",
       "\n",
       "[75000 rows x 11 columns]"
      ]
     },
     "execution_count": 34,
     "metadata": {},
     "output_type": "execute_result"
    }
   ],
   "source": [
    "X_test"
   ]
  },
  {
   "cell_type": "code",
   "execution_count": 35,
   "metadata": {
    "id": "uCmAFa-nQ4q4"
   },
   "outputs": [],
   "source": [
    "X_test.to_csv(\"Test2_Data.csv\", index=False)"
   ]
  },
  {
   "cell_type": "code",
   "execution_count": 36,
   "metadata": {
    "id": "4FX5u9OulhaD"
   },
   "outputs": [
    {
     "data": {
      "text/html": [
       "<div>\n",
       "<style scoped>\n",
       "    .dataframe tbody tr th:only-of-type {\n",
       "        vertical-align: middle;\n",
       "    }\n",
       "\n",
       "    .dataframe tbody tr th {\n",
       "        vertical-align: top;\n",
       "    }\n",
       "\n",
       "    .dataframe thead th {\n",
       "        text-align: right;\n",
       "    }\n",
       "</style>\n",
       "<table border=\"1\" class=\"dataframe\">\n",
       "  <thead>\n",
       "    <tr style=\"text-align: right;\">\n",
       "      <th></th>\n",
       "      <th>Encoded_data</th>\n",
       "      <th>FQDN_count</th>\n",
       "      <th>Length_of_Subdomain</th>\n",
       "      <th>Number_of_Labels</th>\n",
       "      <th>Maximun_label_length</th>\n",
       "      <th>Average_length_of_Labels</th>\n",
       "      <th>Count_of_Numbers</th>\n",
       "      <th>Count_of_UpperCase</th>\n",
       "      <th>Count_of_LowerCase</th>\n",
       "      <th>Count_of_SpecialChars</th>\n",
       "      <th>Entrophy</th>\n",
       "    </tr>\n",
       "  </thead>\n",
       "  <tbody>\n",
       "    <tr>\n",
       "      <th>0</th>\n",
       "      <td>b'0qoacY2\\xeeAH\\xd4m\\xd0\\xd7\\xf6\\xdb\\xf0\\xbd\\x...</td>\n",
       "      <td>620</td>\n",
       "      <td>609</td>\n",
       "      <td>7</td>\n",
       "      <td>153</td>\n",
       "      <td>76.625</td>\n",
       "      <td>91</td>\n",
       "      <td>45</td>\n",
       "      <td>356</td>\n",
       "      <td>121</td>\n",
       "      <td>4.356736</td>\n",
       "    </tr>\n",
       "    <tr>\n",
       "      <th>1</th>\n",
       "      <td>b'0yqa8\\xcf\\xc9\\xd3JiG\\xbe\\xee\\xf8uV\\xe9\\xc8\\x...</td>\n",
       "      <td>641</td>\n",
       "      <td>630</td>\n",
       "      <td>7</td>\n",
       "      <td>155</td>\n",
       "      <td>79.250</td>\n",
       "      <td>95</td>\n",
       "      <td>47</td>\n",
       "      <td>364</td>\n",
       "      <td>128</td>\n",
       "      <td>4.268468</td>\n",
       "    </tr>\n",
       "    <tr>\n",
       "      <th>2</th>\n",
       "      <td>b'0vjbdv\\xd2b\\xc738\\xe2L\\xe3B\\xc1\\xebL\\xee\\xbf...</td>\n",
       "      <td>504</td>\n",
       "      <td>493</td>\n",
       "      <td>7</td>\n",
       "      <td>157</td>\n",
       "      <td>62.125</td>\n",
       "      <td>78</td>\n",
       "      <td>35</td>\n",
       "      <td>290</td>\n",
       "      <td>94</td>\n",
       "      <td>4.393889</td>\n",
       "    </tr>\n",
       "    <tr>\n",
       "      <th>3</th>\n",
       "      <td>b'0ucat82\\xbew\\xeesJ\\xf9aabacuqe1DxKabag\\xca\\x...</td>\n",
       "      <td>527</td>\n",
       "      <td>516</td>\n",
       "      <td>7</td>\n",
       "      <td>147</td>\n",
       "      <td>65.000</td>\n",
       "      <td>59</td>\n",
       "      <td>55</td>\n",
       "      <td>316</td>\n",
       "      <td>90</td>\n",
       "      <td>4.627084</td>\n",
       "    </tr>\n",
       "    <tr>\n",
       "      <th>4</th>\n",
       "      <td>b'0ula5Zo\\xd8\\xfdfg\\xf5\\xf8\\xea\\xe4W\\xcci\\xd0\\...</td>\n",
       "      <td>566</td>\n",
       "      <td>555</td>\n",
       "      <td>7</td>\n",
       "      <td>154</td>\n",
       "      <td>69.875</td>\n",
       "      <td>73</td>\n",
       "      <td>53</td>\n",
       "      <td>330</td>\n",
       "      <td>103</td>\n",
       "      <td>4.527153</td>\n",
       "    </tr>\n",
       "    <tr>\n",
       "      <th>...</th>\n",
       "      <td>...</td>\n",
       "      <td>...</td>\n",
       "      <td>...</td>\n",
       "      <td>...</td>\n",
       "      <td>...</td>\n",
       "      <td>...</td>\n",
       "      <td>...</td>\n",
       "      <td>...</td>\n",
       "      <td>...</td>\n",
       "      <td>...</td>\n",
       "      <td>...</td>\n",
       "    </tr>\n",
       "    <tr>\n",
       "      <th>74995</th>\n",
       "      <td>b'0bjbst\\xe048\\xd9\\xc6\\xd8K\\xf8\\xd3\\xd2I\\xc8YJ...</td>\n",
       "      <td>489</td>\n",
       "      <td>478</td>\n",
       "      <td>7</td>\n",
       "      <td>145</td>\n",
       "      <td>60.250</td>\n",
       "      <td>83</td>\n",
       "      <td>42</td>\n",
       "      <td>268</td>\n",
       "      <td>89</td>\n",
       "      <td>4.533155</td>\n",
       "    </tr>\n",
       "    <tr>\n",
       "      <th>74996</th>\n",
       "      <td>b'0eeah82\\xbew\\xeesJ\\xf9aabacuqe1m\\xc1Kabag\\xe...</td>\n",
       "      <td>527</td>\n",
       "      <td>516</td>\n",
       "      <td>7</td>\n",
       "      <td>132</td>\n",
       "      <td>65.000</td>\n",
       "      <td>85</td>\n",
       "      <td>48</td>\n",
       "      <td>297</td>\n",
       "      <td>90</td>\n",
       "      <td>4.656191</td>\n",
       "    </tr>\n",
       "    <tr>\n",
       "      <th>74997</th>\n",
       "      <td>b'0bcal\\xed5k\\xcd0M\\xdb\\xf6X\\xde\\xc1U\\xe1ZG\\xe...</td>\n",
       "      <td>611</td>\n",
       "      <td>600</td>\n",
       "      <td>7</td>\n",
       "      <td>160</td>\n",
       "      <td>75.500</td>\n",
       "      <td>100</td>\n",
       "      <td>49</td>\n",
       "      <td>337</td>\n",
       "      <td>118</td>\n",
       "      <td>4.393216</td>\n",
       "    </tr>\n",
       "    <tr>\n",
       "      <th>74998</th>\n",
       "      <td>b'0i2a7d\\xe8r\\xd6\\xe4\\xc4\\xbc4S\\xe9\\xe6\\xdf\\xc...</td>\n",
       "      <td>626</td>\n",
       "      <td>615</td>\n",
       "      <td>7</td>\n",
       "      <td>159</td>\n",
       "      <td>77.375</td>\n",
       "      <td>96</td>\n",
       "      <td>35</td>\n",
       "      <td>365</td>\n",
       "      <td>123</td>\n",
       "      <td>4.299324</td>\n",
       "    </tr>\n",
       "    <tr>\n",
       "      <th>74999</th>\n",
       "      <td>b'024a2\\xf0\\xea\\xfcIW\\xfdg1\\xcfu\\xf2\\xd9oW\\xd8...</td>\n",
       "      <td>623</td>\n",
       "      <td>612</td>\n",
       "      <td>7</td>\n",
       "      <td>160</td>\n",
       "      <td>77.000</td>\n",
       "      <td>103</td>\n",
       "      <td>41</td>\n",
       "      <td>350</td>\n",
       "      <td>122</td>\n",
       "      <td>4.310540</td>\n",
       "    </tr>\n",
       "  </tbody>\n",
       "</table>\n",
       "<p>75000 rows × 11 columns</p>\n",
       "</div>"
      ],
      "text/plain": [
       "                                            Encoded_data  FQDN_count  \\\n",
       "0      b'0qoacY2\\xeeAH\\xd4m\\xd0\\xd7\\xf6\\xdb\\xf0\\xbd\\x...         620   \n",
       "1      b'0yqa8\\xcf\\xc9\\xd3JiG\\xbe\\xee\\xf8uV\\xe9\\xc8\\x...         641   \n",
       "2      b'0vjbdv\\xd2b\\xc738\\xe2L\\xe3B\\xc1\\xebL\\xee\\xbf...         504   \n",
       "3      b'0ucat82\\xbew\\xeesJ\\xf9aabacuqe1DxKabag\\xca\\x...         527   \n",
       "4      b'0ula5Zo\\xd8\\xfdfg\\xf5\\xf8\\xea\\xe4W\\xcci\\xd0\\...         566   \n",
       "...                                                  ...         ...   \n",
       "74995  b'0bjbst\\xe048\\xd9\\xc6\\xd8K\\xf8\\xd3\\xd2I\\xc8YJ...         489   \n",
       "74996  b'0eeah82\\xbew\\xeesJ\\xf9aabacuqe1m\\xc1Kabag\\xe...         527   \n",
       "74997  b'0bcal\\xed5k\\xcd0M\\xdb\\xf6X\\xde\\xc1U\\xe1ZG\\xe...         611   \n",
       "74998  b'0i2a7d\\xe8r\\xd6\\xe4\\xc4\\xbc4S\\xe9\\xe6\\xdf\\xc...         626   \n",
       "74999  b'024a2\\xf0\\xea\\xfcIW\\xfdg1\\xcfu\\xf2\\xd9oW\\xd8...         623   \n",
       "\n",
       "       Length_of_Subdomain  Number_of_Labels  Maximun_label_length  \\\n",
       "0                      609                 7                   153   \n",
       "1                      630                 7                   155   \n",
       "2                      493                 7                   157   \n",
       "3                      516                 7                   147   \n",
       "4                      555                 7                   154   \n",
       "...                    ...               ...                   ...   \n",
       "74995                  478                 7                   145   \n",
       "74996                  516                 7                   132   \n",
       "74997                  600                 7                   160   \n",
       "74998                  615                 7                   159   \n",
       "74999                  612                 7                   160   \n",
       "\n",
       "       Average_length_of_Labels  Count_of_Numbers  Count_of_UpperCase  \\\n",
       "0                        76.625                91                  45   \n",
       "1                        79.250                95                  47   \n",
       "2                        62.125                78                  35   \n",
       "3                        65.000                59                  55   \n",
       "4                        69.875                73                  53   \n",
       "...                         ...               ...                 ...   \n",
       "74995                    60.250                83                  42   \n",
       "74996                    65.000                85                  48   \n",
       "74997                    75.500               100                  49   \n",
       "74998                    77.375                96                  35   \n",
       "74999                    77.000               103                  41   \n",
       "\n",
       "       Count_of_LowerCase  Count_of_SpecialChars  Entrophy  \n",
       "0                     356                    121  4.356736  \n",
       "1                     364                    128  4.268468  \n",
       "2                     290                     94  4.393889  \n",
       "3                     316                     90  4.627084  \n",
       "4                     330                    103  4.527153  \n",
       "...                   ...                    ...       ...  \n",
       "74995                 268                     89  4.533155  \n",
       "74996                 297                     90  4.656191  \n",
       "74997                 337                    118  4.393216  \n",
       "74998                 365                    123  4.299324  \n",
       "74999                 350                    122  4.310540  \n",
       "\n",
       "[75000 rows x 11 columns]"
      ]
     },
     "execution_count": 36,
     "metadata": {},
     "output_type": "execute_result"
    }
   ],
   "source": [
    "X_test = pd.read_csv(\"Test2_Data.csv\")\n",
    "X_test"
   ]
  },
  {
   "cell_type": "code",
   "execution_count": 37,
   "metadata": {
    "colab": {
     "base_uri": "https://localhost:8080/"
    },
    "id": "UmwBNBOuPzXL",
    "outputId": "8e9dae53-0010-455d-e69e-beed3f72a25f"
   },
   "outputs": [
    {
     "data": {
      "text/plain": [
       "0"
      ]
     },
     "execution_count": 37,
     "metadata": {},
     "output_type": "execute_result"
    }
   ],
   "source": [
    "X_test.isnull().sum().sum()"
   ]
  },
  {
   "cell_type": "code",
   "execution_count": 38,
   "metadata": {
    "colab": {
     "base_uri": "https://localhost:8080/",
     "height": 423
    },
    "id": "s1OVcKRYIW-A",
    "outputId": "860cc66d-188b-4da7-c246-470bd284f6bf"
   },
   "outputs": [
    {
     "data": {
      "text/html": [
       "<div>\n",
       "<style scoped>\n",
       "    .dataframe tbody tr th:only-of-type {\n",
       "        vertical-align: middle;\n",
       "    }\n",
       "\n",
       "    .dataframe tbody tr th {\n",
       "        vertical-align: top;\n",
       "    }\n",
       "\n",
       "    .dataframe thead th {\n",
       "        text-align: right;\n",
       "    }\n",
       "</style>\n",
       "<table border=\"1\" class=\"dataframe\">\n",
       "  <thead>\n",
       "    <tr style=\"text-align: right;\">\n",
       "      <th></th>\n",
       "      <th>FQDN_count</th>\n",
       "      <th>Length_of_Subdomain</th>\n",
       "      <th>Number_of_Labels</th>\n",
       "      <th>Maximun_label_length</th>\n",
       "      <th>Average_length_of_Labels</th>\n",
       "      <th>Count_of_Numbers</th>\n",
       "      <th>Count_of_UpperCase</th>\n",
       "      <th>Count_of_LowerCase</th>\n",
       "      <th>Count_of_SpecialChars</th>\n",
       "      <th>Entrophy</th>\n",
       "    </tr>\n",
       "  </thead>\n",
       "  <tbody>\n",
       "    <tr>\n",
       "      <th>0</th>\n",
       "      <td>620</td>\n",
       "      <td>609</td>\n",
       "      <td>7</td>\n",
       "      <td>153</td>\n",
       "      <td>76.625</td>\n",
       "      <td>91</td>\n",
       "      <td>45</td>\n",
       "      <td>356</td>\n",
       "      <td>121</td>\n",
       "      <td>4.356736</td>\n",
       "    </tr>\n",
       "    <tr>\n",
       "      <th>1</th>\n",
       "      <td>641</td>\n",
       "      <td>630</td>\n",
       "      <td>7</td>\n",
       "      <td>155</td>\n",
       "      <td>79.250</td>\n",
       "      <td>95</td>\n",
       "      <td>47</td>\n",
       "      <td>364</td>\n",
       "      <td>128</td>\n",
       "      <td>4.268468</td>\n",
       "    </tr>\n",
       "    <tr>\n",
       "      <th>2</th>\n",
       "      <td>504</td>\n",
       "      <td>493</td>\n",
       "      <td>7</td>\n",
       "      <td>157</td>\n",
       "      <td>62.125</td>\n",
       "      <td>78</td>\n",
       "      <td>35</td>\n",
       "      <td>290</td>\n",
       "      <td>94</td>\n",
       "      <td>4.393889</td>\n",
       "    </tr>\n",
       "    <tr>\n",
       "      <th>3</th>\n",
       "      <td>527</td>\n",
       "      <td>516</td>\n",
       "      <td>7</td>\n",
       "      <td>147</td>\n",
       "      <td>65.000</td>\n",
       "      <td>59</td>\n",
       "      <td>55</td>\n",
       "      <td>316</td>\n",
       "      <td>90</td>\n",
       "      <td>4.627084</td>\n",
       "    </tr>\n",
       "    <tr>\n",
       "      <th>4</th>\n",
       "      <td>566</td>\n",
       "      <td>555</td>\n",
       "      <td>7</td>\n",
       "      <td>154</td>\n",
       "      <td>69.875</td>\n",
       "      <td>73</td>\n",
       "      <td>53</td>\n",
       "      <td>330</td>\n",
       "      <td>103</td>\n",
       "      <td>4.527153</td>\n",
       "    </tr>\n",
       "    <tr>\n",
       "      <th>...</th>\n",
       "      <td>...</td>\n",
       "      <td>...</td>\n",
       "      <td>...</td>\n",
       "      <td>...</td>\n",
       "      <td>...</td>\n",
       "      <td>...</td>\n",
       "      <td>...</td>\n",
       "      <td>...</td>\n",
       "      <td>...</td>\n",
       "      <td>...</td>\n",
       "    </tr>\n",
       "    <tr>\n",
       "      <th>74995</th>\n",
       "      <td>489</td>\n",
       "      <td>478</td>\n",
       "      <td>7</td>\n",
       "      <td>145</td>\n",
       "      <td>60.250</td>\n",
       "      <td>83</td>\n",
       "      <td>42</td>\n",
       "      <td>268</td>\n",
       "      <td>89</td>\n",
       "      <td>4.533155</td>\n",
       "    </tr>\n",
       "    <tr>\n",
       "      <th>74996</th>\n",
       "      <td>527</td>\n",
       "      <td>516</td>\n",
       "      <td>7</td>\n",
       "      <td>132</td>\n",
       "      <td>65.000</td>\n",
       "      <td>85</td>\n",
       "      <td>48</td>\n",
       "      <td>297</td>\n",
       "      <td>90</td>\n",
       "      <td>4.656191</td>\n",
       "    </tr>\n",
       "    <tr>\n",
       "      <th>74997</th>\n",
       "      <td>611</td>\n",
       "      <td>600</td>\n",
       "      <td>7</td>\n",
       "      <td>160</td>\n",
       "      <td>75.500</td>\n",
       "      <td>100</td>\n",
       "      <td>49</td>\n",
       "      <td>337</td>\n",
       "      <td>118</td>\n",
       "      <td>4.393216</td>\n",
       "    </tr>\n",
       "    <tr>\n",
       "      <th>74998</th>\n",
       "      <td>626</td>\n",
       "      <td>615</td>\n",
       "      <td>7</td>\n",
       "      <td>159</td>\n",
       "      <td>77.375</td>\n",
       "      <td>96</td>\n",
       "      <td>35</td>\n",
       "      <td>365</td>\n",
       "      <td>123</td>\n",
       "      <td>4.299324</td>\n",
       "    </tr>\n",
       "    <tr>\n",
       "      <th>74999</th>\n",
       "      <td>623</td>\n",
       "      <td>612</td>\n",
       "      <td>7</td>\n",
       "      <td>160</td>\n",
       "      <td>77.000</td>\n",
       "      <td>103</td>\n",
       "      <td>41</td>\n",
       "      <td>350</td>\n",
       "      <td>122</td>\n",
       "      <td>4.310540</td>\n",
       "    </tr>\n",
       "  </tbody>\n",
       "</table>\n",
       "<p>75000 rows × 10 columns</p>\n",
       "</div>"
      ],
      "text/plain": [
       "       FQDN_count  Length_of_Subdomain  Number_of_Labels  \\\n",
       "0             620                  609                 7   \n",
       "1             641                  630                 7   \n",
       "2             504                  493                 7   \n",
       "3             527                  516                 7   \n",
       "4             566                  555                 7   \n",
       "...           ...                  ...               ...   \n",
       "74995         489                  478                 7   \n",
       "74996         527                  516                 7   \n",
       "74997         611                  600                 7   \n",
       "74998         626                  615                 7   \n",
       "74999         623                  612                 7   \n",
       "\n",
       "       Maximun_label_length  Average_length_of_Labels  Count_of_Numbers  \\\n",
       "0                       153                    76.625                91   \n",
       "1                       155                    79.250                95   \n",
       "2                       157                    62.125                78   \n",
       "3                       147                    65.000                59   \n",
       "4                       154                    69.875                73   \n",
       "...                     ...                       ...               ...   \n",
       "74995                   145                    60.250                83   \n",
       "74996                   132                    65.000                85   \n",
       "74997                   160                    75.500               100   \n",
       "74998                   159                    77.375                96   \n",
       "74999                   160                    77.000               103   \n",
       "\n",
       "       Count_of_UpperCase  Count_of_LowerCase  Count_of_SpecialChars  Entrophy  \n",
       "0                      45                 356                    121  4.356736  \n",
       "1                      47                 364                    128  4.268468  \n",
       "2                      35                 290                     94  4.393889  \n",
       "3                      55                 316                     90  4.627084  \n",
       "4                      53                 330                    103  4.527153  \n",
       "...                   ...                 ...                    ...       ...  \n",
       "74995                  42                 268                     89  4.533155  \n",
       "74996                  48                 297                     90  4.656191  \n",
       "74997                  49                 337                    118  4.393216  \n",
       "74998                  35                 365                    123  4.299324  \n",
       "74999                  41                 350                    122  4.310540  \n",
       "\n",
       "[75000 rows x 10 columns]"
      ]
     },
     "execution_count": 38,
     "metadata": {},
     "output_type": "execute_result"
    }
   ],
   "source": [
    "test_data = X_test[['FQDN_count', 'Length_of_Subdomain', 'Number_of_Labels',\n",
    "       'Maximun_label_length', 'Average_length_of_Labels', 'Count_of_Numbers',\n",
    "       'Count_of_UpperCase', 'Count_of_LowerCase', 'Count_of_SpecialChars',\n",
    "       'Entrophy']]\n",
    "test_data"
   ]
  },
  {
   "cell_type": "markdown",
   "metadata": {
    "id": "QMctx_maDc6A"
   },
   "source": [
    "**Since our dataset contains data for only one class. We shall use the one-class SVM**"
   ]
  },
  {
   "cell_type": "code",
   "execution_count": 39,
   "metadata": {
    "id": "ssIgsnECDkw3"
   },
   "outputs": [],
   "source": [
    "from sklearn.svm import OneClassSVM"
   ]
  },
  {
   "cell_type": "code",
   "execution_count": 40,
   "metadata": {
    "id": "xIOF4zUEYYIH"
   },
   "outputs": [],
   "source": [
    "x = train_data.values"
   ]
  },
  {
   "cell_type": "code",
   "execution_count": 41,
   "metadata": {
    "colab": {
     "base_uri": "https://localhost:8080/"
    },
    "id": "8dRXQK56K78W",
    "outputId": "04577390-dd29-4542-d7cd-994a6371c493"
   },
   "outputs": [
    {
     "data": {
      "text/plain": [
       "175000"
      ]
     },
     "execution_count": 41,
     "metadata": {},
     "output_type": "execute_result"
    }
   ],
   "source": [
    "len(x)"
   ]
  },
  {
   "cell_type": "code",
   "execution_count": 42,
   "metadata": {
    "id": "YaRT2W0wOM-M"
   },
   "outputs": [],
   "source": [
    "clf = OneClassSVM(kernel='rbf', gamma=0.003, nu=0.003)\n",
    "#clf = OneClassSVM(nu=0.1, kernel=\"rbf\", gamma=0.003)"
   ]
  },
  {
   "cell_type": "code",
   "execution_count": 43,
   "metadata": {
    "id": "YJJet5OLURii"
   },
   "outputs": [],
   "source": [
    "# since it is a one class svm, we will use recall as our evaluation measure\n",
    "clf.fit(train_data)\n",
    "pred = clf.predict(train_data)"
   ]
  },
  {
   "cell_type": "code",
   "execution_count": 44,
   "metadata": {
    "id": "4KVWRQFpVeSh"
   },
   "outputs": [],
   "source": [
    "# extract the negative outputs as the outliers\n",
    "from numpy import  where\n",
    "outlier_index = where(pred==-1)\n",
    "outliers = x[outlier_index]"
   ]
  },
  {
   "cell_type": "code",
   "execution_count": 45,
   "metadata": {
    "colab": {
     "base_uri": "https://localhost:8080/"
    },
    "id": "fmlbFfhFLWXw",
    "outputId": "47a4ef85-e42d-4a7e-a83a-083e957cb3eb"
   },
   "outputs": [
    {
     "data": {
      "text/plain": [
       "608"
      ]
     },
     "execution_count": 45,
     "metadata": {},
     "output_type": "execute_result"
    }
   ],
   "source": [
    "len(outliers)"
   ]
  },
  {
   "cell_type": "markdown",
   "metadata": {
    "id": "p0qQyEFRLcxr"
   },
   "source": [
    "There were 608 misclassifed records"
   ]
  },
  {
   "cell_type": "markdown",
   "metadata": {
    "id": "T_-u3KXmMBhF"
   },
   "source": [
    "We will only be able to find the recall (TP/(TP+FN)), since we only have positive documents that can be classified as true positives (TP, i.e., OCSVM got it right) or false negatives (FN, i.ie, the OCSVM was wrong)."
   ]
  },
  {
   "cell_type": "code",
   "execution_count": 46,
   "metadata": {
    "colab": {
     "base_uri": "https://localhost:8080/"
    },
    "id": "A7Cv-RvCYLje",
    "outputId": "1cd9cf74-d2bb-45fa-d085-ad1c5203fe9d"
   },
   "outputs": [
    {
     "name": "stdout",
     "output_type": "stream",
     "text": [
      "Recall for the training data is: 0.9965257142857142\n"
     ]
    }
   ],
   "source": [
    "\n",
    "print(\"Recall for the training data is: \" +  str((len(x) -len(outliers))/len(x)))"
   ]
  },
  {
   "cell_type": "code",
   "execution_count": 47,
   "metadata": {
    "id": "YoNuxSBeNpbC"
   },
   "outputs": [],
   "source": [
    "y =test_data.values"
   ]
  },
  {
   "cell_type": "code",
   "execution_count": 48,
   "metadata": {
    "id": "qayIBAPGYyl8"
   },
   "outputs": [],
   "source": [
    "test_pred = clf.predict(test_data)"
   ]
  },
  {
   "cell_type": "code",
   "execution_count": 49,
   "metadata": {
    "id": "ZCuKiMDmYyad"
   },
   "outputs": [],
   "source": [
    "outlier_index = where(test_pred==-1)\n",
    "outliers = y[outlier_index]"
   ]
  },
  {
   "cell_type": "code",
   "execution_count": 50,
   "metadata": {
    "colab": {
     "base_uri": "https://localhost:8080/"
    },
    "id": "6QCrnsWVYyQ2",
    "outputId": "4e512e86-1e8b-4091-e10e-1fbed8f96dcc"
   },
   "outputs": [
    {
     "data": {
      "text/plain": [
       "443"
      ]
     },
     "execution_count": 50,
     "metadata": {},
     "output_type": "execute_result"
    }
   ],
   "source": [
    "len(outliers)"
   ]
  },
  {
   "cell_type": "code",
   "execution_count": 51,
   "metadata": {
    "colab": {
     "base_uri": "https://localhost:8080/"
    },
    "id": "DNcOnxWZNY9T",
    "outputId": "11c6cdcd-6214-4c89-faf4-45876b536f24"
   },
   "outputs": [
    {
     "name": "stdout",
     "output_type": "stream",
     "text": [
      "Recall for the test data is: 0.9940933333333334\n"
     ]
    }
   ],
   "source": [
    "print(\"Recall for the test data is: \" +  str((len(y) -len(outliers))/len(y)))"
   ]
  },
  {
   "cell_type": "markdown",
   "metadata": {},
   "source": [
    "Now, let us try predicting the values for benign dns queries"
   ]
  },
  {
   "cell_type": "code",
   "execution_count": 52,
   "metadata": {},
   "outputs": [
    {
     "data": {
      "text/html": [
       "<div>\n",
       "<style scoped>\n",
       "    .dataframe tbody tr th:only-of-type {\n",
       "        vertical-align: middle;\n",
       "    }\n",
       "\n",
       "    .dataframe tbody tr th {\n",
       "        vertical-align: top;\n",
       "    }\n",
       "\n",
       "    .dataframe thead th {\n",
       "        text-align: right;\n",
       "    }\n",
       "</style>\n",
       "<table border=\"1\" class=\"dataframe\">\n",
       "  <thead>\n",
       "    <tr style=\"text-align: right;\">\n",
       "      <th></th>\n",
       "      <th>Encoded_data</th>\n",
       "      <th>FQDN_count</th>\n",
       "      <th>Length_of_Subdomain</th>\n",
       "      <th>Number_of_Labels</th>\n",
       "      <th>Maximun_label_length</th>\n",
       "      <th>Average_length_of_Labels</th>\n",
       "      <th>Count_of_Numbers</th>\n",
       "      <th>Count_of_UpperCase</th>\n",
       "      <th>Count_of_LowerCase</th>\n",
       "      <th>Count_of_SpecialChars</th>\n",
       "      <th>Entrophy</th>\n",
       "    </tr>\n",
       "  </thead>\n",
       "  <tbody>\n",
       "    <tr>\n",
       "      <th>0</th>\n",
       "      <td>rinnai.us</td>\n",
       "      <td>9</td>\n",
       "      <td>0</td>\n",
       "      <td>2</td>\n",
       "      <td>6</td>\n",
       "      <td>4.000000</td>\n",
       "      <td>0</td>\n",
       "      <td>0</td>\n",
       "      <td>8</td>\n",
       "      <td>0</td>\n",
       "      <td>2.725481</td>\n",
       "    </tr>\n",
       "    <tr>\n",
       "      <th>1</th>\n",
       "      <td>crowdfunder.com</td>\n",
       "      <td>15</td>\n",
       "      <td>0</td>\n",
       "      <td>2</td>\n",
       "      <td>11</td>\n",
       "      <td>7.000000</td>\n",
       "      <td>0</td>\n",
       "      <td>0</td>\n",
       "      <td>14</td>\n",
       "      <td>0</td>\n",
       "      <td>3.373557</td>\n",
       "    </tr>\n",
       "    <tr>\n",
       "      <th>2</th>\n",
       "      <td>mynews3.tv</td>\n",
       "      <td>10</td>\n",
       "      <td>0</td>\n",
       "      <td>2</td>\n",
       "      <td>7</td>\n",
       "      <td>4.500000</td>\n",
       "      <td>1</td>\n",
       "      <td>0</td>\n",
       "      <td>8</td>\n",
       "      <td>0</td>\n",
       "      <td>3.321928</td>\n",
       "    </tr>\n",
       "    <tr>\n",
       "      <th>3</th>\n",
       "      <td>thriftymamafurniture.com</td>\n",
       "      <td>24</td>\n",
       "      <td>0</td>\n",
       "      <td>2</td>\n",
       "      <td>20</td>\n",
       "      <td>11.500000</td>\n",
       "      <td>0</td>\n",
       "      <td>0</td>\n",
       "      <td>23</td>\n",
       "      <td>0</td>\n",
       "      <td>3.657268</td>\n",
       "    </tr>\n",
       "    <tr>\n",
       "      <th>4</th>\n",
       "      <td>terragotech.com</td>\n",
       "      <td>15</td>\n",
       "      <td>0</td>\n",
       "      <td>2</td>\n",
       "      <td>11</td>\n",
       "      <td>7.000000</td>\n",
       "      <td>0</td>\n",
       "      <td>0</td>\n",
       "      <td>14</td>\n",
       "      <td>0</td>\n",
       "      <td>3.240224</td>\n",
       "    </tr>\n",
       "    <tr>\n",
       "      <th>...</th>\n",
       "      <td>...</td>\n",
       "      <td>...</td>\n",
       "      <td>...</td>\n",
       "      <td>...</td>\n",
       "      <td>...</td>\n",
       "      <td>...</td>\n",
       "      <td>...</td>\n",
       "      <td>...</td>\n",
       "      <td>...</td>\n",
       "      <td>...</td>\n",
       "      <td>...</td>\n",
       "    </tr>\n",
       "    <tr>\n",
       "      <th>99995</th>\n",
       "      <td>bendigobank.com.au</td>\n",
       "      <td>18</td>\n",
       "      <td>11</td>\n",
       "      <td>3</td>\n",
       "      <td>11</td>\n",
       "      <td>5.333333</td>\n",
       "      <td>0</td>\n",
       "      <td>0</td>\n",
       "      <td>16</td>\n",
       "      <td>0</td>\n",
       "      <td>3.614369</td>\n",
       "    </tr>\n",
       "    <tr>\n",
       "      <th>99996</th>\n",
       "      <td>long-horn-steak-house.biz</td>\n",
       "      <td>25</td>\n",
       "      <td>0</td>\n",
       "      <td>2</td>\n",
       "      <td>21</td>\n",
       "      <td>12.000000</td>\n",
       "      <td>0</td>\n",
       "      <td>0</td>\n",
       "      <td>21</td>\n",
       "      <td>3</td>\n",
       "      <td>3.943465</td>\n",
       "    </tr>\n",
       "    <tr>\n",
       "      <th>99997</th>\n",
       "      <td>snaponsmile.com</td>\n",
       "      <td>15</td>\n",
       "      <td>0</td>\n",
       "      <td>2</td>\n",
       "      <td>11</td>\n",
       "      <td>7.000000</td>\n",
       "      <td>0</td>\n",
       "      <td>0</td>\n",
       "      <td>14</td>\n",
       "      <td>0</td>\n",
       "      <td>3.373557</td>\n",
       "    </tr>\n",
       "    <tr>\n",
       "      <th>99998</th>\n",
       "      <td>jamstockex.com</td>\n",
       "      <td>14</td>\n",
       "      <td>0</td>\n",
       "      <td>2</td>\n",
       "      <td>10</td>\n",
       "      <td>6.500000</td>\n",
       "      <td>0</td>\n",
       "      <td>0</td>\n",
       "      <td>13</td>\n",
       "      <td>0</td>\n",
       "      <td>3.378783</td>\n",
       "    </tr>\n",
       "    <tr>\n",
       "      <th>99999</th>\n",
       "      <td>activ-services.co</td>\n",
       "      <td>17</td>\n",
       "      <td>0</td>\n",
       "      <td>2</td>\n",
       "      <td>14</td>\n",
       "      <td>8.000000</td>\n",
       "      <td>0</td>\n",
       "      <td>0</td>\n",
       "      <td>15</td>\n",
       "      <td>1</td>\n",
       "      <td>3.337175</td>\n",
       "    </tr>\n",
       "  </tbody>\n",
       "</table>\n",
       "<p>100000 rows × 11 columns</p>\n",
       "</div>"
      ],
      "text/plain": [
       "                    Encoded_data  FQDN_count  Length_of_Subdomain  \\\n",
       "0                      rinnai.us           9                    0   \n",
       "1                crowdfunder.com          15                    0   \n",
       "2                     mynews3.tv          10                    0   \n",
       "3       thriftymamafurniture.com          24                    0   \n",
       "4                terragotech.com          15                    0   \n",
       "...                          ...         ...                  ...   \n",
       "99995         bendigobank.com.au          18                   11   \n",
       "99996  long-horn-steak-house.biz          25                    0   \n",
       "99997            snaponsmile.com          15                    0   \n",
       "99998             jamstockex.com          14                    0   \n",
       "99999          activ-services.co          17                    0   \n",
       "\n",
       "       Number_of_Labels  Maximun_label_length  Average_length_of_Labels  \\\n",
       "0                     2                     6                  4.000000   \n",
       "1                     2                    11                  7.000000   \n",
       "2                     2                     7                  4.500000   \n",
       "3                     2                    20                 11.500000   \n",
       "4                     2                    11                  7.000000   \n",
       "...                 ...                   ...                       ...   \n",
       "99995                 3                    11                  5.333333   \n",
       "99996                 2                    21                 12.000000   \n",
       "99997                 2                    11                  7.000000   \n",
       "99998                 2                    10                  6.500000   \n",
       "99999                 2                    14                  8.000000   \n",
       "\n",
       "       Count_of_Numbers  Count_of_UpperCase  Count_of_LowerCase  \\\n",
       "0                     0                   0                   8   \n",
       "1                     0                   0                  14   \n",
       "2                     1                   0                   8   \n",
       "3                     0                   0                  23   \n",
       "4                     0                   0                  14   \n",
       "...                 ...                 ...                 ...   \n",
       "99995                 0                   0                  16   \n",
       "99996                 0                   0                  21   \n",
       "99997                 0                   0                  14   \n",
       "99998                 0                   0                  13   \n",
       "99999                 0                   0                  15   \n",
       "\n",
       "       Count_of_SpecialChars  Entrophy  \n",
       "0                          0  2.725481  \n",
       "1                          0  3.373557  \n",
       "2                          0  3.321928  \n",
       "3                          0  3.657268  \n",
       "4                          0  3.240224  \n",
       "...                      ...       ...  \n",
       "99995                      0  3.614369  \n",
       "99996                      3  3.943465  \n",
       "99997                      0  3.373557  \n",
       "99998                      0  3.378783  \n",
       "99999                      1  3.337175  \n",
       "\n",
       "[100000 rows x 11 columns]"
      ]
     },
     "execution_count": 52,
     "metadata": {},
     "output_type": "execute_result"
    }
   ],
   "source": [
    "benign_df = pd.read_csv(\"Benign_domains.csv\")\n",
    "benign_df"
   ]
  },
  {
   "cell_type": "code",
   "execution_count": 53,
   "metadata": {},
   "outputs": [
    {
     "data": {
      "text/html": [
       "<div>\n",
       "<style scoped>\n",
       "    .dataframe tbody tr th:only-of-type {\n",
       "        vertical-align: middle;\n",
       "    }\n",
       "\n",
       "    .dataframe tbody tr th {\n",
       "        vertical-align: top;\n",
       "    }\n",
       "\n",
       "    .dataframe thead th {\n",
       "        text-align: right;\n",
       "    }\n",
       "</style>\n",
       "<table border=\"1\" class=\"dataframe\">\n",
       "  <thead>\n",
       "    <tr style=\"text-align: right;\">\n",
       "      <th></th>\n",
       "      <th>FQDN_count</th>\n",
       "      <th>Length_of_Subdomain</th>\n",
       "      <th>Number_of_Labels</th>\n",
       "      <th>Maximun_label_length</th>\n",
       "      <th>Average_length_of_Labels</th>\n",
       "      <th>Count_of_Numbers</th>\n",
       "      <th>Count_of_UpperCase</th>\n",
       "      <th>Count_of_LowerCase</th>\n",
       "      <th>Count_of_SpecialChars</th>\n",
       "      <th>Entrophy</th>\n",
       "    </tr>\n",
       "  </thead>\n",
       "  <tbody>\n",
       "    <tr>\n",
       "      <th>0</th>\n",
       "      <td>9</td>\n",
       "      <td>0</td>\n",
       "      <td>2</td>\n",
       "      <td>6</td>\n",
       "      <td>4.000000</td>\n",
       "      <td>0</td>\n",
       "      <td>0</td>\n",
       "      <td>8</td>\n",
       "      <td>0</td>\n",
       "      <td>2.725481</td>\n",
       "    </tr>\n",
       "    <tr>\n",
       "      <th>1</th>\n",
       "      <td>15</td>\n",
       "      <td>0</td>\n",
       "      <td>2</td>\n",
       "      <td>11</td>\n",
       "      <td>7.000000</td>\n",
       "      <td>0</td>\n",
       "      <td>0</td>\n",
       "      <td>14</td>\n",
       "      <td>0</td>\n",
       "      <td>3.373557</td>\n",
       "    </tr>\n",
       "    <tr>\n",
       "      <th>2</th>\n",
       "      <td>10</td>\n",
       "      <td>0</td>\n",
       "      <td>2</td>\n",
       "      <td>7</td>\n",
       "      <td>4.500000</td>\n",
       "      <td>1</td>\n",
       "      <td>0</td>\n",
       "      <td>8</td>\n",
       "      <td>0</td>\n",
       "      <td>3.321928</td>\n",
       "    </tr>\n",
       "    <tr>\n",
       "      <th>3</th>\n",
       "      <td>24</td>\n",
       "      <td>0</td>\n",
       "      <td>2</td>\n",
       "      <td>20</td>\n",
       "      <td>11.500000</td>\n",
       "      <td>0</td>\n",
       "      <td>0</td>\n",
       "      <td>23</td>\n",
       "      <td>0</td>\n",
       "      <td>3.657268</td>\n",
       "    </tr>\n",
       "    <tr>\n",
       "      <th>4</th>\n",
       "      <td>15</td>\n",
       "      <td>0</td>\n",
       "      <td>2</td>\n",
       "      <td>11</td>\n",
       "      <td>7.000000</td>\n",
       "      <td>0</td>\n",
       "      <td>0</td>\n",
       "      <td>14</td>\n",
       "      <td>0</td>\n",
       "      <td>3.240224</td>\n",
       "    </tr>\n",
       "    <tr>\n",
       "      <th>...</th>\n",
       "      <td>...</td>\n",
       "      <td>...</td>\n",
       "      <td>...</td>\n",
       "      <td>...</td>\n",
       "      <td>...</td>\n",
       "      <td>...</td>\n",
       "      <td>...</td>\n",
       "      <td>...</td>\n",
       "      <td>...</td>\n",
       "      <td>...</td>\n",
       "    </tr>\n",
       "    <tr>\n",
       "      <th>99995</th>\n",
       "      <td>18</td>\n",
       "      <td>11</td>\n",
       "      <td>3</td>\n",
       "      <td>11</td>\n",
       "      <td>5.333333</td>\n",
       "      <td>0</td>\n",
       "      <td>0</td>\n",
       "      <td>16</td>\n",
       "      <td>0</td>\n",
       "      <td>3.614369</td>\n",
       "    </tr>\n",
       "    <tr>\n",
       "      <th>99996</th>\n",
       "      <td>25</td>\n",
       "      <td>0</td>\n",
       "      <td>2</td>\n",
       "      <td>21</td>\n",
       "      <td>12.000000</td>\n",
       "      <td>0</td>\n",
       "      <td>0</td>\n",
       "      <td>21</td>\n",
       "      <td>3</td>\n",
       "      <td>3.943465</td>\n",
       "    </tr>\n",
       "    <tr>\n",
       "      <th>99997</th>\n",
       "      <td>15</td>\n",
       "      <td>0</td>\n",
       "      <td>2</td>\n",
       "      <td>11</td>\n",
       "      <td>7.000000</td>\n",
       "      <td>0</td>\n",
       "      <td>0</td>\n",
       "      <td>14</td>\n",
       "      <td>0</td>\n",
       "      <td>3.373557</td>\n",
       "    </tr>\n",
       "    <tr>\n",
       "      <th>99998</th>\n",
       "      <td>14</td>\n",
       "      <td>0</td>\n",
       "      <td>2</td>\n",
       "      <td>10</td>\n",
       "      <td>6.500000</td>\n",
       "      <td>0</td>\n",
       "      <td>0</td>\n",
       "      <td>13</td>\n",
       "      <td>0</td>\n",
       "      <td>3.378783</td>\n",
       "    </tr>\n",
       "    <tr>\n",
       "      <th>99999</th>\n",
       "      <td>17</td>\n",
       "      <td>0</td>\n",
       "      <td>2</td>\n",
       "      <td>14</td>\n",
       "      <td>8.000000</td>\n",
       "      <td>0</td>\n",
       "      <td>0</td>\n",
       "      <td>15</td>\n",
       "      <td>1</td>\n",
       "      <td>3.337175</td>\n",
       "    </tr>\n",
       "  </tbody>\n",
       "</table>\n",
       "<p>100000 rows × 10 columns</p>\n",
       "</div>"
      ],
      "text/plain": [
       "       FQDN_count  Length_of_Subdomain  Number_of_Labels  \\\n",
       "0               9                    0                 2   \n",
       "1              15                    0                 2   \n",
       "2              10                    0                 2   \n",
       "3              24                    0                 2   \n",
       "4              15                    0                 2   \n",
       "...           ...                  ...               ...   \n",
       "99995          18                   11                 3   \n",
       "99996          25                    0                 2   \n",
       "99997          15                    0                 2   \n",
       "99998          14                    0                 2   \n",
       "99999          17                    0                 2   \n",
       "\n",
       "       Maximun_label_length  Average_length_of_Labels  Count_of_Numbers  \\\n",
       "0                         6                  4.000000                 0   \n",
       "1                        11                  7.000000                 0   \n",
       "2                         7                  4.500000                 1   \n",
       "3                        20                 11.500000                 0   \n",
       "4                        11                  7.000000                 0   \n",
       "...                     ...                       ...               ...   \n",
       "99995                    11                  5.333333                 0   \n",
       "99996                    21                 12.000000                 0   \n",
       "99997                    11                  7.000000                 0   \n",
       "99998                    10                  6.500000                 0   \n",
       "99999                    14                  8.000000                 0   \n",
       "\n",
       "       Count_of_UpperCase  Count_of_LowerCase  Count_of_SpecialChars  Entrophy  \n",
       "0                       0                   8                      0  2.725481  \n",
       "1                       0                  14                      0  3.373557  \n",
       "2                       0                   8                      0  3.321928  \n",
       "3                       0                  23                      0  3.657268  \n",
       "4                       0                  14                      0  3.240224  \n",
       "...                   ...                 ...                    ...       ...  \n",
       "99995                   0                  16                      0  3.614369  \n",
       "99996                   0                  21                      3  3.943465  \n",
       "99997                   0                  14                      0  3.373557  \n",
       "99998                   0                  13                      0  3.378783  \n",
       "99999                   0                  15                      1  3.337175  \n",
       "\n",
       "[100000 rows x 10 columns]"
      ]
     },
     "execution_count": 53,
     "metadata": {},
     "output_type": "execute_result"
    }
   ],
   "source": [
    "benign_data = benign_df[['FQDN_count', 'Length_of_Subdomain', 'Number_of_Labels',\n",
    "       'Maximun_label_length', 'Average_length_of_Labels', 'Count_of_Numbers',\n",
    "       'Count_of_UpperCase', 'Count_of_LowerCase', 'Count_of_SpecialChars',\n",
    "       'Entrophy']]\n",
    "benign_data"
   ]
  },
  {
   "cell_type": "code",
   "execution_count": 58,
   "metadata": {},
   "outputs": [],
   "source": [
    "vals =benign_data.values"
   ]
  },
  {
   "cell_type": "code",
   "execution_count": 59,
   "metadata": {},
   "outputs": [],
   "source": [
    "test_pred = clf.predict(vals)"
   ]
  },
  {
   "cell_type": "code",
   "execution_count": 60,
   "metadata": {},
   "outputs": [],
   "source": [
    "outlier_index = where(test_pred==1)\n",
    "outliers = vals[outlier_index]"
   ]
  },
  {
   "cell_type": "code",
   "execution_count": 61,
   "metadata": {},
   "outputs": [
    {
     "data": {
      "text/plain": [
       "0"
      ]
     },
     "execution_count": 61,
     "metadata": {},
     "output_type": "execute_result"
    }
   ],
   "source": [
    "len(outliers)"
   ]
  },
  {
   "cell_type": "code",
   "execution_count": 62,
   "metadata": {},
   "outputs": [
    {
     "name": "stdout",
     "output_type": "stream",
     "text": [
      "Recall for the benign  data is: 1.0\n"
     ]
    }
   ],
   "source": [
    "print(\"Recall for the benign  data is: \" +  str((len(vals) -len(outliers))/len(vals)))"
   ]
  },
  {
   "cell_type": "markdown",
   "metadata": {
    "id": "4W5xIPO_QdUX"
   },
   "source": [
    "**Due to some features being significantly larger than others, let us try normalizing the features**"
   ]
  },
  {
   "cell_type": "code",
   "execution_count": 24,
   "metadata": {
    "id": "P8z-KQpJQox5"
   },
   "outputs": [],
   "source": [
    "# data normalization with sklearn\n",
    "from sklearn.preprocessing import MinMaxScaler\n",
    "# fit scaler on training data\n",
    "norm = MinMaxScaler().fit(train_data)\n",
    "# transform training data\n",
    "X_train_norm = norm.transform(train_data)"
   ]
  },
  {
   "cell_type": "code",
   "execution_count": 25,
   "metadata": {
    "colab": {
     "base_uri": "https://localhost:8080/"
    },
    "id": "sP1D2o1hSl7b",
    "outputId": "09c79367-f71a-4044-b0b9-fed322f8f3f7"
   },
   "outputs": [
    {
     "data": {
      "text/plain": [
       "array([[0.85067873, 0.85067873, 1.        , ..., 0.73611111, 0.8251928 ,\n",
       "        0.42834596],\n",
       "       [0.74208145, 0.74208145, 1.        , ..., 0.54166667, 0.75321337,\n",
       "        0.57258565],\n",
       "       [0.68024133, 0.68024133, 1.        , ..., 0.51388889, 0.63239075,\n",
       "        0.50994446],\n",
       "       ...,\n",
       "       [0.87782805, 0.87782805, 1.        , ..., 0.55555556, 0.82005141,\n",
       "        0.37274   ],\n",
       "       [0.75263952, 0.75263952, 1.        , ..., 0.48611111, 0.75321337,\n",
       "        0.26461273],\n",
       "       [0.92307692, 0.92307692, 1.        , ..., 0.56944444, 0.90488432,\n",
       "        0.25302407]])"
      ]
     },
     "execution_count": 25,
     "metadata": {},
     "output_type": "execute_result"
    }
   ],
   "source": [
    "X_train_norm"
   ]
  },
  {
   "cell_type": "code",
   "execution_count": 26,
   "metadata": {
    "id": "CjoJYWEWWn2D"
   },
   "outputs": [],
   "source": [
    "clf = OneClassSVM(kernel='rbf', gamma=0.003, nu=0.003)"
   ]
  },
  {
   "cell_type": "code",
   "execution_count": 27,
   "metadata": {
    "id": "TDVCsCkoWvhh"
   },
   "outputs": [],
   "source": [
    "clf.fit(X_train_norm)\n",
    "pred = clf.predict(X_train_norm)"
   ]
  },
  {
   "cell_type": "code",
   "execution_count": 29,
   "metadata": {
    "id": "j3vyw4O8W3_Y"
   },
   "outputs": [],
   "source": [
    "# extract the negative outputs as the outliers\n",
    "from numpy import  where\n",
    "outlier_index = where(pred==-1)\n",
    "outliers = X_train_norm[outlier_index]"
   ]
  },
  {
   "cell_type": "code",
   "execution_count": 30,
   "metadata": {
    "colab": {
     "base_uri": "https://localhost:8080/"
    },
    "id": "l7gS_lN8SOEQ",
    "outputId": "462bf0f9-d903-495b-9a58-30e7a7136ef8"
   },
   "outputs": [
    {
     "data": {
      "text/plain": [
       "526"
      ]
     },
     "execution_count": 30,
     "metadata": {},
     "output_type": "execute_result"
    }
   ],
   "source": [
    "len(outliers)"
   ]
  },
  {
   "cell_type": "code",
   "execution_count": 31,
   "metadata": {
    "colab": {
     "base_uri": "https://localhost:8080/"
    },
    "id": "1_5fehNkSsNw",
    "outputId": "576fc18d-b659-495a-ba23-b59f9aaba0a7"
   },
   "outputs": [
    {
     "name": "stdout",
     "output_type": "stream",
     "text": [
      "Recall for the normalized training data is: 0.9969942857142857\n"
     ]
    }
   ],
   "source": [
    "print(\"Recall for the normalized training data is: \" +  str((len(X_train_norm) -len(outliers))/len(X_train_norm)))"
   ]
  },
  {
   "cell_type": "code",
   "execution_count": 32,
   "metadata": {
    "id": "f3x4cNSQS0EW"
   },
   "outputs": [],
   "source": [
    "X_test_norm = norm.transform(test_data)"
   ]
  },
  {
   "cell_type": "code",
   "execution_count": 33,
   "metadata": {
    "id": "Dk1pcTnOS75O"
   },
   "outputs": [],
   "source": [
    "pred = clf.predict(X_test_norm)"
   ]
  },
  {
   "cell_type": "code",
   "execution_count": 34,
   "metadata": {
    "id": "l9RiMd5NS-uU"
   },
   "outputs": [],
   "source": [
    "# extract the negative outputs as the outliers\n",
    "from numpy import  where\n",
    "outlier_index = where(pred==-1)\n",
    "outliers = X_test_norm[outlier_index]"
   ]
  },
  {
   "cell_type": "code",
   "execution_count": 35,
   "metadata": {
    "colab": {
     "base_uri": "https://localhost:8080/"
    },
    "id": "lvPHyklTTZp5",
    "outputId": "2bf89cbb-41fc-4fc2-b9a5-e6febb957ee4"
   },
   "outputs": [
    {
     "data": {
      "text/plain": [
       "188"
      ]
     },
     "execution_count": 35,
     "metadata": {},
     "output_type": "execute_result"
    }
   ],
   "source": [
    "len(outliers)"
   ]
  },
  {
   "cell_type": "code",
   "execution_count": 36,
   "metadata": {
    "colab": {
     "base_uri": "https://localhost:8080/"
    },
    "id": "j-oaObw9TIXD",
    "outputId": "4750dcca-fbed-4330-cd55-d1f01be42c5b"
   },
   "outputs": [
    {
     "name": "stdout",
     "output_type": "stream",
     "text": [
      "Recall for the normalized test data is: 0.9974933333333333\n"
     ]
    }
   ],
   "source": [
    "print(\"Recall for the normalized test data is: \" +  str((len(X_test_norm) -len(outliers))/len(X_test_norm)))"
   ]
  },
  {
   "cell_type": "markdown",
   "metadata": {
    "id": "6-62Kb3ATf_P"
   },
   "source": [
    "From this we can see that the normalized dataset perfromed slightly better than the unnormalized dataset.\n",
    "We obtain a recall of 0.99 for the one-class SVM."
   ]
  },
  {
   "cell_type": "markdown",
   "metadata": {
    "id": "ZwDAsJn_rcT_"
   },
   "source": [
    "##**iForest**"
   ]
  },
  {
   "cell_type": "code",
   "execution_count": 64,
   "metadata": {
    "id": "45VeUqJ80n6M"
   },
   "outputs": [],
   "source": [
    " from sklearn.ensemble import IsolationForest"
   ]
  },
  {
   "cell_type": "markdown",
   "metadata": {
    "id": "vTbJCBRgHSuq"
   },
   "source": [
    "Let us start with small values of our hyperparamenters.\n",
    "We have n-estimators set to 2, and we test for 1-20 for height of trees. "
   ]
  },
  {
   "cell_type": "code",
   "execution_count": 65,
   "metadata": {
    "id": "Q_3--0Tv3T-Z"
   },
   "outputs": [],
   "source": [
    "# This function trains and tests given datasets and returns a list of recall scores\n",
    "def train_and_evaluate(train, test):\n",
    "    train_scores = []\n",
    "    test_scores = []\n",
    "    for i in range (1, 20):\n",
    "        print(\"Start training\")\n",
    "        print(\"iForest with \" + str(i) + \" trees\")\n",
    "        clf = IsolationForest(n_estimators=2, max_samples=i, contamination=float(0.1), random_state=0)\n",
    "        x=train.values\n",
    "        clf.fit(x)\n",
    "        pred= clf.predict(x)\n",
    "        from numpy import  where\n",
    "        outlier_index = where(pred==-1)\n",
    "        outliers = x[outlier_index]\n",
    "        score = (len(train) -len(outliers))/len(train)\n",
    "        train_scores.append(score)\n",
    "        y = test.values\n",
    "        y_pred = clf.predict(y)\n",
    "        outlier_index = where(y_pred==-1)\n",
    "        outliers = y[outlier_index]\n",
    "        score_test = (len(test) -len(outliers))/len(test)\n",
    "        test_scores.append(score_test)\n",
    "        print(\"Done training\")\n",
    "    return train_scores, test_scores\n"
   ]
  },
  {
   "cell_type": "code",
   "execution_count": 66,
   "metadata": {
    "id": "4YaMDGjD7X7T"
   },
   "outputs": [],
   "source": [
    "# Plots the train and the test scores\n",
    "def plotScores(scores_train, scores_test):\n",
    "    # Plot the points\n",
    "    plt.figure(figsize=(10, 6))\n",
    "    plt.plot([i+1 for i in range(len(scores_train))], scores_train)\n",
    "    plt.plot([i+1 for i in range(len(scores_test))], scores_test)\n",
    "    # Setup the legend\n",
    "    plt.legend([\"Train scores\", \"Test Scores\"])\n",
    "    # Labels for the x and y axis\n",
    "    plt.ylabel(\"Recall\")\n",
    "    plt.xlabel(\"Iteration\")\n",
    "    plt.show()"
   ]
  },
  {
   "cell_type": "code",
   "execution_count": 67,
   "metadata": {
    "colab": {
     "base_uri": "https://localhost:8080/"
    },
    "id": "XLNBDgut8OE7",
    "outputId": "fa358ba1-3848-4725-bf92-0602010f9a15"
   },
   "outputs": [
    {
     "name": "stdout",
     "output_type": "stream",
     "text": [
      "Start training\n",
      "iForest with 1 trees\n",
      "Done training\n",
      "Start training\n",
      "iForest with 2 trees\n"
     ]
    },
    {
     "name": "stderr",
     "output_type": "stream",
     "text": [
      "C:\\Users\\Owner\\anaconda3\\lib\\site-packages\\sklearn\\ensemble\\_iforest.py:451: RuntimeWarning: invalid value encountered in true_divide\n",
      "  -depths\n",
      "C:\\Users\\Owner\\anaconda3\\lib\\site-packages\\sklearn\\ensemble\\_iforest.py:451: RuntimeWarning: invalid value encountered in true_divide\n",
      "  -depths\n",
      "C:\\Users\\Owner\\anaconda3\\lib\\site-packages\\sklearn\\ensemble\\_iforest.py:451: RuntimeWarning: invalid value encountered in true_divide\n",
      "  -depths\n"
     ]
    },
    {
     "name": "stdout",
     "output_type": "stream",
     "text": [
      "Done training\n",
      "Start training\n",
      "iForest with 3 trees\n",
      "Done training\n",
      "Start training\n",
      "iForest with 4 trees\n",
      "Done training\n",
      "Start training\n",
      "iForest with 5 trees\n",
      "Done training\n",
      "Start training\n",
      "iForest with 6 trees\n",
      "Done training\n",
      "Start training\n",
      "iForest with 7 trees\n",
      "Done training\n",
      "Start training\n",
      "iForest with 8 trees\n",
      "Done training\n",
      "Start training\n",
      "iForest with 9 trees\n",
      "Done training\n",
      "Start training\n",
      "iForest with 10 trees\n",
      "Done training\n",
      "Start training\n",
      "iForest with 11 trees\n",
      "Done training\n",
      "Start training\n",
      "iForest with 12 trees\n",
      "Done training\n",
      "Start training\n",
      "iForest with 13 trees\n",
      "Done training\n",
      "Start training\n",
      "iForest with 14 trees\n",
      "Done training\n",
      "Start training\n",
      "iForest with 15 trees\n",
      "Done training\n",
      "Start training\n",
      "iForest with 16 trees\n",
      "Done training\n",
      "Start training\n",
      "iForest with 17 trees\n",
      "Done training\n",
      "Start training\n",
      "iForest with 18 trees\n",
      "Done training\n",
      "Start training\n",
      "iForest with 19 trees\n",
      "Done training\n"
     ]
    }
   ],
   "source": [
    "train_scores, test_scores = train_and_evaluate(train_data,test_data)"
   ]
  },
  {
   "cell_type": "code",
   "execution_count": 68,
   "metadata": {
    "colab": {
     "base_uri": "https://localhost:8080/"
    },
    "id": "HhpLr2dYAk8Y",
    "outputId": "5f18e787-baef-49cf-e70e-d5bc18cdbcd4"
   },
   "outputs": [
    {
     "name": "stdout",
     "output_type": "stream",
     "text": [
      "19\n"
     ]
    }
   ],
   "source": [
    "print(len(train_scores))"
   ]
  },
  {
   "cell_type": "code",
   "execution_count": 71,
   "metadata": {
    "colab": {
     "base_uri": "https://localhost:8080/",
     "height": 388
    },
    "id": "47cq7MOb9PwO",
    "outputId": "1fad6984-d589-4762-d4b9-93fbaaf44c3d"
   },
   "outputs": [
    {
     "data": {
      "image/png": "[encoded data removed]",
      "text/plain": [
       "<Figure size 720x432 with 1 Axes>"
      ]
     },
     "metadata": {
      "needs_background": "light"
     },
     "output_type": "display_data"
    }
   ],
   "source": [
    "plotScores(train_scores, test_scores)"
   ]
  },
  {
   "cell_type": "markdown",
   "metadata": {
    "id": "HFD66RVG_cQA"
   },
   "source": [
    "**As we can see from the graph above recall scores for the test and train data peak at the fifth iteration , i.e where max_samples=6. Therefore our algorithm would have n_estimators=2, max_samples=6, contamination=float(0.1)**"
   ]
  },
  {
   "cell_type": "markdown",
   "metadata": {
    "id": "Olgf4CKYHEKj"
   },
   "source": [
    "**The iForest algorithm perfoms better with a recall of 100% compared to a recall of 99% for the one-class SVM**"
   ]
  },
  {
   "cell_type": "markdown",
   "metadata": {},
   "source": [
    "## using Iforest for benign dns queries"
   ]
  },
  {
   "cell_type": "code",
   "execution_count": 73,
   "metadata": {},
   "outputs": [
    {
     "name": "stdout",
     "output_type": "stream",
     "text": [
      "Recall for the normalized training data is: 1.0\n"
     ]
    }
   ],
   "source": [
    "# we have selected an iForest with n_estimators=2, max_samples=6, contamination=float(0.1)\n",
    "clf = IsolationForest(n_estimators=2, max_samples=6, contamination=float(0.1), random_state=0)\n",
    "x=benign_data.values\n",
    "clf.fit(x)\n",
    "pred= clf.predict(x)\n",
    "from numpy import  where\n",
    "outlier_index = where(pred==11)\n",
    "outliers = x[outlier_index]\n",
    "score = (len(x) -len(outliers))/len(x)\n",
    "print(\"Recall for the normalized training data is: \" +  str(score))"
   ]
  },
  {
   "cell_type": "markdown",
   "metadata": {},
   "source": [
    "For the benign DNS queries we have a recall of 100%"
   ]
  }
 ],
 "metadata": {
  "colab": {
   "collapsed_sections": [],
   "name": "Dns Tunneling",
   "provenance": []
  },
  "kernelspec": {
   "display_name": "Python 3",
   "language": "python",
   "name": "python3"
  },
  "language_info": {
   "codemirror_mode": {
    "name": "ipython",
    "version": 3
   },
   "file_extension": ".py",
   "mimetype": "text/x-python",
   "name": "python",
   "nbconvert_exporter": "python",
   "pygments_lexer": "ipython3",
   "version": "3.8.8"
  }
 },
 "nbformat": 4,
 "nbformat_minor": 1
}
